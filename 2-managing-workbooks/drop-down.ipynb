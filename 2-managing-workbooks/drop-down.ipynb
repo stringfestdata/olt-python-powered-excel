{
 "cells": [
  {
   "cell_type": "code",
   "execution_count": 13,
   "metadata": {
    "tags": []
   },
   "outputs": [
    {
     "output_type": "stream",
     "name": "stdout",
     "text": "None\n"
    }
   ],
   "source": [
    "import xlsxwriter\n",
    "\n",
    "workbook = xlsxwriter.Workbook('dropdown.xlsx')\n",
    "worksheet = workbook.add_worksheet()\n",
    "\n",
    "# List out the regions\n",
    "my_regions = ['A','C','C','B','A'\n",
    "]\n",
    "\n",
    "# We can get the unique values from the list --\n",
    "# this will be helpful!\n",
    "\n",
    "# We should sort our list first so the \n",
    "# dropdowns are in order\n",
    "\n",
    "regions_sorted = my_regions.sort()\n",
    "print(regions_sorted)\n"
   ]
  },
  {
   "cell_type": "code",
   "execution_count": 20,
   "metadata": {
    "tags": []
   },
   "outputs": [
    {
     "output_type": "stream",
     "name": "stdout",
     "text": "['A', 'A', 'B', 'C', 'C']\n"
    }
   ],
   "source": [
    "my_regions = ['A','C','C','B','A']"
   ]
  },
  {
   "cell_type": "code",
   "execution_count": 21,
   "metadata": {
    "tags": []
   },
   "outputs": [
    {
     "output_type": "stream",
     "name": "stdout",
     "text": "['A', 'C', 'B']\n"
    }
   ],
   "source": [
    "# Now get the unique values\n",
    "region_unique = list(set(my_regions))"
   ]
  },
  {
   "cell_type": "code",
   "execution_count": 24,
   "metadata": {
    "tags": []
   },
   "outputs": [
    {
     "output_type": "stream",
     "name": "stdout",
     "text": "['A', 'B', 'C']\n"
    }
   ],
   "source": [
    "# Sort the result\n",
    "region_unique.sort()\n",
    "\n",
    "print(region_unique)"
   ]
  },
  {
   "cell_type": "code",
   "execution_count": 6,
   "metadata": {},
   "outputs": [],
   "source": [
    "\n",
    "# Add a starter file here\n",
    "worksheet.write('A1','A')\n",
    "\n",
    "\n",
    "# Add data validation\n",
    "worksheet.data_validation('A1', {'validate':'list',\n",
    "                                'source':region_set,\n",
    "                                'dropdown':True})\n",
    "# Add a starter file here\n",
    "worksheet.write('A1','A')\n",
    "\n",
    "# Close the workbook\n",
    "workbook.close()"
   ]
  },
  {
   "cell_type": "code",
   "execution_count": null,
   "metadata": {},
   "outputs": [],
   "source": []
  }
 ],
 "metadata": {
  "language_info": {
   "codemirror_mode": {
    "name": "ipython",
    "version": 3
   },
   "file_extension": ".py",
   "mimetype": "text/x-python",
   "name": "python",
   "nbconvert_exporter": "python",
   "pygments_lexer": "ipython3",
   "version": "3.7.4-final"
  },
  "orig_nbformat": 2,
  "kernelspec": {
   "name": "python3",
   "display_name": "Python 3"
  }
 },
 "nbformat": 4,
 "nbformat_minor": 2
}