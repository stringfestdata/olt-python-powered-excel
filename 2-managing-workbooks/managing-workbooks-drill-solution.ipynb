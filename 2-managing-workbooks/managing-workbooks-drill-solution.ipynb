{
 "cells": [
  {
   "cell_type": "code",
   "execution_count": 6,
   "metadata": {},
   "outputs": [
    {
     "output_type": "execute_result",
     "data": {
      "text/plain": "0"
     },
     "metadata": {},
     "execution_count": 6
    }
   ],
   "source": [
    "# Let's get this party started!\n",
    "import xlsxwriter\n",
    "\n",
    "\n",
    "# Here is our data to add\n",
    "regions  = ['North','South','East','West']\n",
    "sales = [6480, 2103, 4336, 5736]\n",
    "\n",
    "# Write our workbook\n",
    "workbook = xlsxwriter.Workbook('sales.xlsx')\n",
    "\n",
    "# Add our two worksheets\n",
    "worksheet_summary = workbook.add_worksheet('summary')\n",
    "worksheet = workbook.add_worksheet('data')\n",
    "\n",
    "# Set thousands currency cell format\n",
    "currency_format = workbook.add_format({'num_format':'$#,##0'})\n",
    "\n",
    "# Add our data\n",
    "worksheet.write_column('A2', regions)\n",
    "worksheet.write_column('B2', sales, currency_format)"
   ]
  },
  {
   "cell_type": "code",
   "execution_count": 7,
   "metadata": {},
   "outputs": [],
   "source": [
    "# Add a table\n",
    "worksheet.add_table('A1:B5', {'name':'sales',\n",
    "                                'columns':[{'header':'Region'},\n",
    "                                            {'header':'Sales'}]})\n",
    "\n",
    "\n",
    "# Add a summary worksheet\n",
    "worksheet_summary.write('A1', 'Total sales:')\n",
    "worksheet_summary.write_formula('B1','=SUM(sales[Sales])',currency_format)\n",
    "worksheet_summary.set_column('A:B',18)\n",
    "\n",
    "workbook.close()\n"
   ]
  },
  {
   "cell_type": "code",
   "execution_count": null,
   "metadata": {},
   "outputs": [],
   "source": []
  }
 ],
 "metadata": {
  "language_info": {
   "codemirror_mode": {
    "name": "ipython",
    "version": 3
   },
   "file_extension": ".py",
   "mimetype": "text/x-python",
   "name": "python",
   "nbconvert_exporter": "python",
   "pygments_lexer": "ipython3",
   "version": "3.7.1-final"
  },
  "orig_nbformat": 2,
  "kernelspec": {
   "name": "python37164bitbasecondaf8862a2905574a4f972e641ee36af90c",
   "display_name": "Python 3.7.1 64-bit ('base': conda)"
  }
 },
 "nbformat": 4,
 "nbformat_minor": 2
}