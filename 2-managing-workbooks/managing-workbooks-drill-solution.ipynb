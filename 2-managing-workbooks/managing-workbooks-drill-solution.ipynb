{
 "cells": [
  {
   "cell_type": "markdown",
   "metadata": {},
   "source": [
    "# DRILL\n",
    "\n",
    "Replicate the below two worksheets of a workbook called `sales.xlsx`. \n",
    "\n",
    "- `summary` worksheet: this sheet uses table notation in a formula to sum up all sales in the table. The cells are bold with a column width of `12`.\n",
    "\n",
    "![summary worksheet](images/summary-worksheet.png)\n",
    "\n",
    "- `data` worksheet: this sheet contains a table names `Sales`. Column `B` is formatted as currency.\n",
    "\n",
    "![data worksheet](images/data-worksheet.png)\n",
    "\n",
    "Complete the code below, or work on your own from scratch."
   ]
  },
  {
   "cell_type": "code",
   "execution_count": 8,
   "metadata": {},
   "outputs": [
    {
     "output_type": "execute_result",
     "data": {
      "text/plain": "0"
     },
     "metadata": {},
     "execution_count": 8
    }
   ],
   "source": [
    "# Let's get this party started!\n",
    "import xlsxwriter\n",
    "\n",
    "# Here is our data to add\n",
    "regions  = ['North','South','East','West']\n",
    "sales = [6480, 2103, 4336, 5736]\n",
    "\n",
    "# Write our workbook, sales.xlsx\n",
    "workbook = xlsxwriter.Workbook('sales.xlsx')\n",
    "\n",
    "# Add our two worksheets\n",
    "worksheet_summary = workbook.add_worksheet('summary')\n",
    "worksheet_data = workbook.add_worksheet('data')\n",
    "\n",
    "# Set our formats that we'll need when writing\n",
    "# For the currency cells in our table\n",
    "currency_format = workbook.add_format({'num_format':'$#,##0'})\n",
    "# For the label in our summary worksheet -- turn on bolds\n",
    "bold_format = workbook.add_format({'bold':True})\n",
    "# For the total in our summary worksheet  -- currency and bold\n",
    "bold_currency_format = workbook.add_format({'num_format':'$#,##0','bold':True})\n",
    "\n",
    "\n",
    "# Add our regions column\n",
    "worksheet_data.write_column('A2', regions)\n",
    "# Add our currency-formated sales column\n",
    "worksheet_data.write_column('B2', sales, currency_format)\n",
    "\n",
    "# Add a table named sales with Region and Sales column names\n",
    "worksheet_data.add_table('A1:B5', {'name':'sales',\n",
    "                                'columns':[{'header':'Region'},\n",
    "                                            {'header':'Sales'}]})\n",
    "\n",
    "\n",
    "# Add a summary worksheet\n",
    "# Total sales in cell A1, bolded\n",
    "worksheet_summary.write('A1', 'Total sales:', bold_format)\n",
    "# Sum of the sales table in B1, bolded and currency format\n",
    "worksheet_summary.write('B1', '=SUM(sales[Sales])', bold_currency_format)\n",
    "\n",
    "# Set the column widths to 12\n",
    "worksheet_summary.set_column('A:B',12)\n",
    "\n",
    "# Close and admire our workbook!\n",
    "workbook.close()\n"
   ]
  },
  {
   "cell_type": "code",
   "execution_count": 4,
   "metadata": {},
   "outputs": [],
   "source": [
    "# Let's get this party started!\n",
    "import xlsxwriter\n",
    "\n",
    "\n",
    "# Here is our data to add\n",
    "regions  = ['North','South','East','West']\n",
    "sales = [6480, 2103, 4336, 5736]\n",
    "\n",
    "# Write our workbook, sales.xlsx\n",
    "workbook = xlsxwriter.Workbook('sales.xlsx')\n",
    "\n",
    "# Add our two worksheets\n",
    "worksheet_summary = workbook.add_worksheet('summary')\n",
    "worksheet_data = workbook.add_worksheet('data')\n",
    "\n",
    "# Set our formats that we'll need when writing\n",
    "# For the currency cells in our table\n",
    "currency_format = workbook.add_format({'num_format':'$#,##0'})\n",
    "# For the label in our summary worksheet\n",
    "bold_format = workbook.add_format({'bold':True})\n",
    "# For the total in our summary worksheet\n",
    "bold_currency_format = workbook.add_format({'num_format':'$#,##0','bold':True})\n",
    "\n",
    "\n",
    "# Add our data\n",
    "worksheet_data.write_column('A2', regions)\n",
    "worksheet_data.write_column('B2', sales, currency_format)\n",
    "\n",
    "# Add a table\n",
    "worksheet_data.add_table('A1:B5', {'name':'sales',\n",
    "                                'columns':[{'header':'Region'},\n",
    "                                            {'header':'Sales'}]})\n",
    "\n",
    "\n",
    "# Set a bold cell format\n",
    "\n",
    "\n",
    "# Add a summary worksheet\n",
    "worksheet_summary.write('A1', 'Total sales:', bold_format)\n",
    "worksheet_summary.write_formula('B1','=SUM(sales[Sales])',bold_currency_format)\n",
    "\n",
    "\n",
    "# Set the column widths to 12\n",
    "worksheet_summary.set_column('A:B',12)\n",
    "\n",
    "# Close and admire our workbook!\n",
    "workbook.close()\n"
   ]
  },
  {
   "cell_type": "code",
   "execution_count": null,
   "metadata": {},
   "outputs": [],
   "source": []
  }
 ],
 "metadata": {
  "language_info": {
   "codemirror_mode": {
    "name": "ipython",
    "version": 3
   },
   "file_extension": ".py",
   "mimetype": "text/x-python",
   "name": "python",
   "nbconvert_exporter": "python",
   "pygments_lexer": "ipython3",
   "version": "3.7.1-final"
  },
  "orig_nbformat": 2,
  "kernelspec": {
   "name": "python37164bitbasecondaf8862a2905574a4f972e641ee36af90c",
   "display_name": "Python 3.7.1 64-bit ('base': conda)"
  }
 },
 "nbformat": 4,
 "nbformat_minor": 2
}