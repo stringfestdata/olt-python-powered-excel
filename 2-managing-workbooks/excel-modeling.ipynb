{
 "cells": [
  {
   "cell_type": "markdown",
   "metadata": {},
   "source": [
    "One of the best things about Excel is its ability for end users to engage and interact with the data. However we as dsasdfasd may not want to do it.\n",
    "\n",
    "Let's build a little model. \n",
    "\n",
    "- Our raw data will go in a protected worksheet called `data`. The only thing end-users can do with this worksheet is use the data filters. \n",
    "- We will add a `summary` worksheet that end-users can use to find the total sales for a region. We will protect all of this worksheet except for the cells they are meant to interact with.\n",
    "- We will use data validation to guide the values that our end users can input. \n",
    "- We also would like the `summary` worksheet to be what the users see when they open the workbook.\n",
    "\n",
    "Let's get started."
   ]
  },
  {
   "cell_type": "code",
   "execution_count": 47,
   "metadata": {},
   "outputs": [
    {
     "output_type": "execute_result",
     "data": {
      "text/plain": "0"
     },
     "metadata": {},
     "execution_count": 47
    }
   ],
   "source": [
    "# Add in our data\n",
    "import xlsxwriter\n",
    "regions = ['C','B','B','B','C','A','C','B','B','C']\n",
    "sales = [201,293,431,111,241,321,311,187,400,354]\n",
    "labels = ['Region','Sales']\n",
    "\n",
    "workbook = xlsxwriter.Workbook('sales-model.xlsx')\n",
    "worksheet = workbook.add_worksheet('data')\n",
    "\n",
    "worksheet.write_column('A2',regions)\n",
    "worksheet.write_column('B2',sales)\n",
    "worksheet.write_row('A1',labels)\n",
    "\n"
   ]
  },
  {
   "cell_type": "markdown",
   "metadata": {},
   "source": [
    "## Adding an AutoFilter\n",
    "\n",
    "We can apply an AutoFilter to our data sheet with the `autofilter()` method:"
   ]
  },
  {
   "cell_type": "code",
   "execution_count": 48,
   "metadata": {},
   "outputs": [],
   "source": [
    "# Add an autofilter to the data\n",
    "worksheet.autofilter('A1:B11')"
   ]
  },
  {
   "cell_type": "markdown",
   "metadata": {},
   "source": [
    "## Worksheet protection\n",
    "\n",
    "Let's protect this `data` worksheet so that all users can do with it is manipulate the AutoFilter. \n",
    "\n",
    "We can do so with the `protect()` method. There are several optional setting to choose from in this method: we will set `autofilter` to `True` by passing it into a dictionary. \n",
    "\n",
    "To see the all the options for worksheet protection, check out Chapter 7 of the [`xlsxwriter` documentation](https://github.com/jmcnamara/XlsxWriter/blob/master/docs/XlsxWriter.pdf)."
   ]
  },
  {
   "cell_type": "code",
   "execution_count": 49,
   "metadata": {},
   "outputs": [],
   "source": [
    "# Protect the worksheet but allow autofiltering\n",
    "worksheet.protect('data', {'autofilter': True})"
   ]
  },
  {
   "cell_type": "markdown",
   "metadata": {},
   "source": [
    "### Protecting cells and ranges\n",
    "\n",
    "Now let's move to our `summary` worksheet. Here, we will allow our users to make some changes to the worksheet, via data validation."
   ]
  },
  {
   "cell_type": "code",
   "execution_count": 50,
   "metadata": {},
   "outputs": [],
   "source": [
    "# Add the summary worksheet\n",
    "worksheet2 = workbook.add_worksheet('summary')"
   ]
  },
  {
   "cell_type": "markdown",
   "metadata": {},
   "source": [
    "To protect only *some* cells in a worksheet, we can take the following steps:\n",
    "\n",
    "1. Protect the entire worksheet with the `protect()` method\n",
    "2. Create a cell format with *unlocked* cells by setting `locked` to `False`\n",
    "3. Pass that format into any cells which we *do* want users to interact with\n",
    "\n",
    "Let's try it out:"
   ]
  },
  {
   "cell_type": "code",
   "execution_count": 51,
   "metadata": {},
   "outputs": [
    {
     "output_type": "execute_result",
     "data": {
      "text/plain": "0"
     },
     "metadata": {},
     "execution_count": 51
    }
   ],
   "source": [
    "# Protect the whole worksheet\n",
    "worksheet2.protect()\n",
    "\n",
    "# Add an unlocked format\n",
    "unlocked = workbook.add_format({'locked':False})\n",
    "\n",
    "# This cell remains locked...\n",
    "worksheet2.write('A1','Select region: ')\n",
    "\n",
    "# This cell will get unlocked so that users can \n",
    "# interact with it\n",
    "worksheet2.write('B1','A',unlocked)\n",
    "\n",
    "# This will conditionally sum off the value of B1\n",
    "worksheet2.write_formula('C1','=SUMIF(data!A:A,B1,data!B:B)')\n",
    "\n",
    "# Widen the columns for formatting\n",
    "worksheet2.set_column('A:C',12)"
   ]
  },
  {
   "cell_type": "markdown",
   "metadata": {},
   "source": [
    "## Data validation\n",
    "\n",
    "You may have noticed that we passed the value of `A` into cell `B1`. Then cell `C1` conditionally sums that value.\n",
    "\n",
    "What if our end-user wanted to know the sum of regions `B` or `C`? Let's make that easier for them by providing a drop-down list. This is a form of *data validation*.\n",
    "\n",
    "Like most things in `xlsxwriter`, we will just scratch the surface of what's possible. For more on data validation, check out Chapter 21 of the documentation. \n",
    "\n",
    "Let's use the `data_validation()` method to add a drop-down to cell `B1`."
   ]
  },
  {
   "cell_type": "code",
   "execution_count": 52,
   "metadata": {},
   "outputs": [],
   "source": [
    "# Add data validation to B1\n",
    "# We are validating from a list\n",
    "worksheet.data_validation('A1', {'validate':'list',\n",
    "# Here are the values we would allow in the list\n",
    "                                'source':['A','B','C'],\n",
    "# We would like to add a dropdown to this validation\n",
    "                                'dropdown':True})"
   ]
  },
  {
   "cell_type": "markdown",
   "metadata": {},
   "source": [
    "Let's do one thing to make this validation a little more dynamic. Rather than \"hard-coding\" our possible value of `A`,`B` and `C` into the list, we can find the sorted, unique values of the `regions` list."
   ]
  },
  {
   "cell_type": "code",
   "execution_count": 53,
   "metadata": {
    "tags": []
   },
   "outputs": [
    {
     "output_type": "stream",
     "name": "stdout",
     "text": "['A', 'B', 'C']\n"
    }
   ],
   "source": [
    "# This code will give us all the unique values of our list\n",
    "region_unique = list(set(regions))\n",
    "\n",
    "# Now we will sort the result\n",
    "region_unique.sort()\n",
    "\n",
    "print(region_unique)"
   ]
  },
  {
   "cell_type": "code",
   "execution_count": 54,
   "metadata": {},
   "outputs": [],
   "source": [
    "# Now a more dynamic data drop-down\n",
    "worksheet.data_validation('A1', {'validate':'list',\n",
    "                                'source':region_unique,\n",
    "                                'dropdown':True})"
   ]
  },
  {
   "cell_type": "markdown",
   "metadata": {},
   "source": [
    "As mentioned before, there are a *lot* of ways to do data validation. Let's try one more in cell `A2`:"
   ]
  },
  {
   "cell_type": "code",
   "execution_count": 55,
   "metadata": {},
   "outputs": [
    {
     "output_type": "execute_result",
     "data": {
      "text/plain": "0"
     },
     "metadata": {},
     "execution_count": 55
    }
   ],
   "source": [
    "# Now a more dynamic data drop-down\n",
    "worksheet2.data_validation('A2', {'validate':'list',\n",
    "                                'source':region_unique,\n",
    "                                'input_title':'Enter a region',\n",
    "                                'input_message': 'Value should be alphabetical'})\n",
    "\n",
    "# Make sure this is unlocked for our users!\n",
    "worksheet2.write('A2','B',unlocked)"
   ]
  },
  {
   "cell_type": "markdown",
   "metadata": {},
   "source": [
    "## Setting the active worksheet\n",
    "\n",
    "By default `xlsxwriter` will open to the first worksheet in the workbook. Worksheets are placed in the order in which we add them, so the `data` worksheet would appear first -- but we would like the `summary` worksheet instead. \n",
    "\n",
    "We can change what worksheet is activated upon opening with the `activate()` method:"
   ]
  },
  {
   "cell_type": "code",
   "execution_count": 56,
   "metadata": {},
   "outputs": [],
   "source": [
    "# Activate the summary worksheet\n",
    "# this was worksheet2 \n",
    "worksheet2.activate()"
   ]
  },
  {
   "cell_type": "markdown",
   "metadata": {},
   "source": [
    "Ready to see what we got?"
   ]
  },
  {
   "cell_type": "code",
   "execution_count": 57,
   "metadata": {},
   "outputs": [],
   "source": [
    " workbook.close()"
   ]
  },
  {
   "cell_type": "markdown",
   "metadata": {},
   "source": [
    "# Drill\n",
    "\n",
    "You can use the scaffolding below or try on your own. \n",
    "\n",
    "Create a blank worksheet in a workbook where the only cells that the user can modify are `A1:D1`.\n",
    "\n",
    "Cell `A1` should be validated with a drop-down allowing a list of values `Hello`, `world` and `Python` and `C1` should contain a message alerting users that they can input integers between 1 and 10. \n"
   ]
  },
  {
   "cell_type": "code",
   "execution_count": 41,
   "metadata": {},
   "outputs": [],
   "source": [
    "import xlsxwriter\n",
    "my_range = ['','','','']\n",
    "\n",
    "workbook = xlsxwriter.Workbook('my-sheet.xlsx')\n",
    "worksheet = workbook.add_worksheet()\n",
    "\n",
    "# Protect the worksheet\n",
    "worksheet.protect()\n",
    "\n",
    "# Set up an unlocked cell format\n",
    "unlocked = workbook.add_format({'locked':False})\n",
    "\n",
    "# Write the range with an unprotected format\n",
    "worksheet.write_row('A1', my_range, unlocked)\n",
    "\n",
    "# Add data validation dropdown to cell A1\n",
    "worksheet.data_validation('A1', {'validate':'list',\n",
    "                                'source':['Hello','world','Python'],\n",
    "                                'dropdown':True})\n",
    "\n",
    "# Add data validation for integers to cell C1\n",
    "worksheet.data_validation('C1', {'validate': 'integer',\n",
    "'criteria': 'between',\n",
    "'minimum': 1,\n",
    "'maximum': 10,\n",
    "'input_title': 'Enter an integer:',\n",
    "'input_message': 'between 1 and 10'})\n",
    "\n",
    "\n",
    "# Close the workbook\n",
    "workbook.close()"
   ]
  },
  {
   "cell_type": "code",
   "execution_count": null,
   "metadata": {},
   "outputs": [],
   "source": []
  }
 ],
 "metadata": {
  "language_info": {
   "codemirror_mode": {
    "name": "ipython",
    "version": 3
   },
   "file_extension": ".py",
   "mimetype": "text/x-python",
   "name": "python",
   "nbconvert_exporter": "python",
   "pygments_lexer": "ipython3",
   "version": "3.7.4-final"
  },
  "orig_nbformat": 2,
  "kernelspec": {
   "name": "python3",
   "display_name": "Python 3"
  }
 },
 "nbformat": 4,
 "nbformat_minor": 2
}