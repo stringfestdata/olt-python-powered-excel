{
 "cells": [
  {
   "cell_type": "markdown",
   "metadata": {},
   "source": [
    "One of the best things about Excel is its ability for end users to engage and interact with the data. However we as dsasdfasd may not want to do it.\n",
    "\n",
    "Let's build a little model. \n",
    "\n",
    "- We will put our data in a sheet\n",
    "- We will add a little analysis\n",
    "- We will pre-filter out some of the data\n",
    "- We don't want people to be able to manipulate the source data but they can change the filters."
   ]
  },
  {
   "cell_type": "code",
   "execution_count": 78,
   "metadata": {},
   "outputs": [
    {
     "output_type": "execute_result",
     "data": {
      "text/plain": "0"
     },
     "metadata": {},
     "execution_count": 78
    }
   ],
   "source": [
    "import xlsxwriter\n",
    "regions = ['C','B','B','B','C','A','C','B','B','C']\n",
    "sales = [201,293,431,111,241,321,311,187,400,354]\n",
    "labels = ['Region','Sales']\n",
    "\n",
    "workbook = xlsxwriter.Workbook('sales-model.xlsx')\n",
    "worksheet = workbook.add_worksheet('data')\n",
    "\n",
    "worksheet.write_column('A2',regions)\n",
    "worksheet.write_column('B2',sales)\n",
    "worksheet.write_row('A1',labels)\n",
    "\n"
   ]
  },
  {
   "cell_type": "markdown",
   "metadata": {},
   "source": [
    "### Adding AutoFilter\n",
    "\n",
    "We would like to be able to filter the data. We will add `autofilter()` to our worksheet.\n"
   ]
  },
  {
   "cell_type": "code",
   "execution_count": 79,
   "metadata": {},
   "outputs": [],
   "source": [
    "worksheet.autofilter('A1:B11')\n"
   ]
  },
  {
   "cell_type": "markdown",
   "metadata": {},
   "source": [
    "We can now filter any specific columns by position with the `filter_column()` \n",
    "method.    \n",
    "\n",
    "Yeah if you have to use loops to set this up, that's a no from me dawg."
   ]
  },
  {
   "cell_type": "code",
   "execution_count": 80,
   "metadata": {},
   "outputs": [],
   "source": [
    "# Find how to get the position of a dataframe by name\n",
    "worksheet.filter_column('A', 'X == B')\n",
    "\n",
    "# Hide the rows that don't match the filter criteria.\n",
    "row = 1\n",
    "for row_data in (regions):\n",
    "    region = row_data[0]\n",
    "\n",
    "    # Check for rows that match the filter.\n",
    "    if region == 'B':\n",
    "        # Row matches the filter, display the row as normal.\n",
    "        pass\n",
    "    else:\n",
    "        # We need to hide rows that don't match the filter.\n",
    "        worksheet.set_row(row, options={'hidden': True})\n",
    "\n",
    "    worksheet.write_row(row, 0, row_data)\n",
    "\n",
    "    # Move on to the next worksheet row.\n",
    "    row += 1\n",
    "\n",
    "\n",
    "workbook.close()"
   ]
  },
  {
   "cell_type": "code",
   "execution_count": 74,
   "metadata": {},
   "outputs": [
    {
     "output_type": "execute_result",
     "data": {
      "text/plain": "['C', 'B', 'B', 'B', 'C', 'A', 'C', 'B', 'B', 'C']"
     },
     "metadata": {},
     "execution_count": 74
    }
   ],
   "source": []
  },
  {
   "cell_type": "markdown",
   "metadata": {},
   "source": [
    "We would like to protect the `data` worksheet so that no changes could be made to it. \n",
    "\n",
    "We can use the `protect()` method. \n",
    "\n",
    "But still let users apply the AutoFilter.\n",
    "\n",
    "To see the all the options for worksheet proection, check out Chapter 7 of the [`xlsxwriter` documentation](https://github.com/jmcnamara/XlsxWriter/blob/master/docs/XlsxWriter.pdf)."
   ]
  },
  {
   "cell_type": "code",
   "execution_count": 36,
   "metadata": {},
   "outputs": [],
   "source": [
    "# Protect the worksheet but allow autofiltering\n",
    "worksheet.protect('data', {'autofilter': True})"
   ]
  },
  {
   "cell_type": "markdown",
   "metadata": {},
   "source": [
    "### Add the summary worksheet\n",
    "\n",
    "Let's try a different approach this time. Rather than lock the entire worksheet, we will lock all but one worksheet. "
   ]
  },
  {
   "cell_type": "markdown",
   "metadata": {},
   "source": [
    "### Protecting cells and ranges\n",
    "\n",
    "If we only wanted to "
   ]
  },
  {
   "cell_type": "code",
   "execution_count": 37,
   "metadata": {},
   "outputs": [],
   "source": [
    "worksheet2 = workbook.add_worksheet('summary')"
   ]
  },
  {
   "cell_type": "markdown",
   "metadata": {},
   "source": [
    "Let's add our stuff. \n",
    "\n",
    "We will protect the worksheet. And any cells that we add wil by default not be allowed to change. \n",
    "\n",
    "But if we set them to unlocked, we can. "
   ]
  },
  {
   "cell_type": "code",
   "execution_count": 38,
   "metadata": {},
   "outputs": [
    {
     "output_type": "execute_result",
     "data": {
      "text/plain": "0"
     },
     "metadata": {},
     "execution_count": 38
    }
   ],
   "source": [
    "# Protect the worksheet\n",
    "worksheet2.protect()\n",
    "\n",
    "# Add an unlocked format\n",
    "unlocked = workbook.add_format({'locked':False})\n",
    "\n",
    "worksheet2.write('A1','Select region: ')\n",
    "\n",
    "# Add a placeholder here -- this is where user will\n",
    "# interact with workbook -- unlock it!\n",
    "worksheet2.write('B1','A',unlocked)\n",
    "\n",
    "worksheet2.write_formula('C1','=SUMIF(data!A:A,B1,data!B:B)')\n",
    "\n",
    "# Widen the columns\n",
    "worksheet2.set_column('A:C',12)"
   ]
  },
  {
   "cell_type": "code",
   "execution_count": 39,
   "metadata": {},
   "outputs": [],
   "source": [
    "# Ready to see what we got? \n",
    "workbook.close()"
   ]
  },
  {
   "cell_type": "markdown",
   "metadata": {},
   "source": [
    "We could take this to the next level with a drop-down. That is part of *data validation*. To learn more about data validation in `xlsxwriter`, check out Chapter 21. "
   ]
  },
  {
   "cell_type": "markdown",
   "metadata": {},
   "source": [
    "# Drill\n",
    "\n",
    "You can use the scaffolding below or try on your own. \n",
    "\n",
    "Create a workbook where the only cells that the user can modify are `A1:D1`.\n"
   ]
  },
  {
   "cell_type": "code",
   "execution_count": 41,
   "metadata": {},
   "outputs": [],
   "source": [
    "import xlsxwriter\n",
    "my_range = ['','','','']\n",
    "\n",
    "workbook = xlsxwriter.Workbook('my-sheet.xlsx')\n",
    "worksheet = workbook.add_worksheet()\n",
    "\n",
    "# Protect the worksheet\n",
    "worksheet.protect()\n",
    "\n",
    "# Set up an unlocked cell format\n",
    "unlocked = workbook.add_format({'locked':False})\n",
    "\n",
    "# Write the range with an unprotected format\n",
    "worksheet.write_row('A1', my_range, unlocked)\n",
    "\n",
    "# Close the workbook\n",
    "workbook.close()"
   ]
  },
  {
   "cell_type": "markdown",
   "metadata": {},
   "source": [
    "Let's set up the below table which contains each day of the week along with that day's high and low temperatures. \n",
    "\n",
    "Complete the code to pre-set the data filter to include only the days that had a high of at least 80 and a low of no more than 75.  "
   ]
  },
  {
   "cell_type": "code",
   "execution_count": 48,
   "metadata": {},
   "outputs": [],
   "source": [
    "day = ['Monday','Tuesday','Wednesday','Thursday','Friday','Saturday','Sunday']\n",
    "hi = [92,81,79,77,82,85,89]\n",
    "lo = [76,73,70,69,68,74,76]\n",
    "labels = ['Day','Hi','Lo']\n",
    "\n",
    "\n",
    "\n",
    "workbook = xlsxwriter.Workbook('temps.xlsx')\n",
    "worksheet = workbook.add_worksheet()\n",
    "\n",
    "# Write in our data\n",
    "worksheet.write_row('A1', labels)\n",
    "worksheet.write_column('A2', day)\n",
    "worksheet.write_column('B2', hi)\n",
    "worksheet.write_column('C2', lo)\n",
    "\n",
    "# Add an autofilter\n",
    "worksheet.autofilter('A1:C8')\n",
    "\n",
    "# Set the hi column filter\n",
    "worksheet.filter_column_list('A', ['Monday','Wednesday','Friday'])\n",
    "\n",
    "# Set the lo column filter\n",
    "worksheet.filter_column('B', 'x >= 80')\n",
    "\n",
    "# Close the workbook\n",
    "workbook.close()"
   ]
  },
  {
   "cell_type": "code",
   "execution_count": null,
   "metadata": {},
   "outputs": [],
   "source": []
  }
 ],
 "metadata": {
  "language_info": {
   "codemirror_mode": {
    "name": "ipython",
    "version": 3
   },
   "file_extension": ".py",
   "mimetype": "text/x-python",
   "name": "python",
   "nbconvert_exporter": "python",
   "pygments_lexer": "ipython3",
   "version": "3.8.3-final"
  },
  "orig_nbformat": 2,
  "kernelspec": {
   "name": "python3",
   "display_name": "Python 3"
  }
 },
 "nbformat": 4,
 "nbformat_minor": 2
}