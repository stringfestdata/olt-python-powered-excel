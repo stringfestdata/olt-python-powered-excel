{
 "cells": [
  {
   "cell_type": "markdown",
   "metadata": {},
   "source": [
    "## Managing workbooks\n",
    "\n",
    "In the previous section, you got comfortable with the basic workflow of `xlsxwriter`. You even got into customizing the cells. \n",
    "\n",
    "Now let's get into more sophisticated things like:\n",
    "\n",
    "- Inserting and calculating from tables\n",
    "- Adding custom cell formats    \n",
    "- Adding cell comments  \n",
    "- Hiding and grouping rows, columns and worksheets  \n",
    "\n",
    "We will continue practicing by adding data in manually. In the next section we will look at working with `pandas` for a fuller range of data analysis.  \n"
   ]
  },
  {
   "cell_type": "markdown",
   "metadata": {},
   "source": []
  },
  {
   "cell_type": "code",
   "execution_count": 5,
   "metadata": {},
   "outputs": [
    {
     "output_type": "execute_result",
     "data": {
      "text/plain": "0"
     },
     "metadata": {},
     "execution_count": 5
    }
   ],
   "source": [
    "# Let's get this party started!\n",
    "\n",
    "import xlsxwriter\n",
    "\n",
    "student_ids = [253628,522436,325718,\n",
    "662367,382846,230780,\n",
    "407321,732252,134886]\n",
    "\n",
    "students = ['Gina','Charline','Robby',\n",
    "'Adelle','Melodee','Alexis',\n",
    "'Magdalena','Diann','Carline']\n",
    "\n",
    "grades = [.87,1.0,.81,\n",
    ".77,.88,.95,\n",
    ".81,.87,.98]\n",
    "\n",
    "\n",
    "# Write our workbook\n",
    "workbook = xlsxwriter.Workbook('grades.xlsx')\n",
    "\n",
    "# Add our worksheet\n",
    "worksheet_name = 'grades'\n",
    "worksheet = workbook.add_worksheet(worksheet_name)\n",
    "\n",
    "# Add our data\n",
    "worksheet.write_column('A2', student_ids)\n",
    "worksheet.write_column('B2', students)\n",
    "worksheet.write_column('C2', grades)\n"
   ]
  },
  {
   "cell_type": "markdown",
   "metadata": {},
   "source": [
    "## Working with tables\n",
    "\n",
    "Did you know that Excel tables are the ninth wonder of the world? \n",
    "\n",
    "![Ctrl T is my superpower](images/ctrl-t-is-my-superpower.jpg)\n",
    "\n",
    "Not only do they format our data nicely, they make it easier to work with. \n",
    "\n",
    "We can add tables from `xlsxwriter` with `add_table()`.\n",
    "\n",
    "We will tell `xlsxwriter` what range to convert into a table, what to name that table, and then finally what to name each column of the table."
   ]
  },
  {
   "cell_type": "code",
   "execution_count": 6,
   "metadata": {},
   "outputs": [
    {
     "output_type": "execute_result",
     "data": {
      "text/plain": "{'show_first_col': False,\n 'show_last_col': False,\n 'show_row_stripes': True,\n 'show_col_stripes': False,\n 'header_row_count': True,\n 'totals_row_shown': False,\n 'name': 'Grades',\n 'style': 'TableStyleMedium9',\n 'range': 'A1:C10',\n 'a_range': 'A1:C10',\n 'autofilter': 'A1:C10',\n 'columns': [{'id': 1,\n   'name': 'Student ID',\n   'total_string': '',\n   'total_function': '',\n   'total_value': 0,\n   'formula': '',\n   'format': None,\n   'name_format': None},\n  {'id': 2,\n   'name': 'Student name',\n   'total_string': '',\n   'total_function': '',\n   'total_value': 0,\n   'formula': '',\n   'format': None,\n   'name_format': None},\n  {'id': 3,\n   'name': 'Grade',\n   'total_string': '',\n   'total_function': '',\n   'total_value': 0,\n   'formula': '',\n   'format': None,\n   'name_format': None}]}"
     },
     "metadata": {},
     "execution_count": 6
    }
   ],
   "source": [
    "# Add a table -- \n",
    "# We will name the table and each of the columns\n",
    "worksheet.add_table('A1:C10', {'name':'Grades',\n",
    "                                'columns':[{'header':'Student ID'},\n",
    "                                            {'header':'Student name'},\n",
    "                                            {'header':'Grade'}]})\n",
    "\n"
   ]
  },
  {
   "cell_type": "markdown",
   "metadata": {},
   "source": [
    "We can even refer to columns of the table in calculations using `Table[Column name]` notation:"
   ]
  },
  {
   "cell_type": "code",
   "execution_count": 7,
   "metadata": {},
   "outputs": [
    {
     "output_type": "execute_result",
     "data": {
      "text/plain": "0"
     },
     "metadata": {},
     "execution_count": 7
    }
   ],
   "source": [
    "# Add an average in cell E1\n",
    "worksheet.write('E1', 'Average grade')\n",
    "worksheet.write_formula('F1','=AVERAGE(Grades[Grade])')"
   ]
  },
  {
   "cell_type": "markdown",
   "metadata": {},
   "source": [
    "Let's go ahead and admire our work:"
   ]
  },
  {
   "cell_type": "code",
   "execution_count": 8,
   "metadata": {},
   "outputs": [],
   "source": [
    "workbook.close()"
   ]
  },
  {
   "cell_type": "markdown",
   "metadata": {},
   "source": [
    "## But wait! There's no going back\n",
    "\n",
    "Upon inspection of our workbook, there is some room for improvement:\n",
    "\n",
    "1. We could widen the columns so that it's easier to read the labels\n",
    "2. We could set the grades to format as percentages rather than decimals, and \n",
    "3. We could add a comment explaining Charline's ace performance on the exam.  \n",
    "\n",
    "![Grades workbook,version 1](images/grades-v1.png)\n",
    "\n",
    "I may want to make these changes *after* writing my workbook to Excel and noticing these things, but unfortunately we'll need to start from scratch.\n",
    "\n",
    "### *`xlsxwriter` can only write information to Excel, not read it (hence the name).*\n",
    "\n",
    "So let's go ahead and start over... at least we'll learn a few more `xlsxwriter` tricks!"
   ]
  },
  {
   "cell_type": "markdown",
   "metadata": {},
   "source": [
    "## Setting custom cell formats\n",
    "\n",
    "We can add a percentage format to a cell similarly to how we added borders or a bold font: with `add_format()`. \n",
    "\n",
    "In this case, we will adjust `num_format` to our desired number format.\n",
    "\n",
    "Here is [Microsoft's documentation on number formatting](https://support.microsoft.com/en-us/office/review-guidelines-for-customizing-a-number-format-c0a1d1fa-d3f4-4018-96b7-9c9354dd99f5): it can take some getting used to!\n",
    "\n",
    "My suggestion when starting out is to use the Excel interface to toggle what number formatting you want, then go to the \"Custom\" section of the Format Cells menu (keyboard shortcut `Ctrl + 1`) to plug this resulting \"back-end\" number format into Python.\n",
    "\n",
    "\n",
    "![Excel format cells menu](images/number-format.png)\n",
    "\n",
    "In this case, the number format we want is `0.00%`. We can plug this into our `add_format` method:"
   ]
  },
  {
   "cell_type": "code",
   "execution_count": null,
   "metadata": {},
   "outputs": [],
   "source": [
    "# Set up a percentage format \n",
    "pct_format = workbook.add_format({'num_format':'0.00%'})"
   ]
  },
  {
   "cell_type": "markdown",
   "metadata": {},
   "source": [
    "Now let's go ahead and re-write our data into the workbook, including these cell formats. \n",
    "\n",
    "After that, we will configure any desired properties such as column widths or cell comments. "
   ]
  },
  {
   "cell_type": "code",
   "execution_count": null,
   "metadata": {},
   "outputs": [],
   "source": [
    "# Let's get this party started...again!\n",
    "\n",
    "import xlsxwriter\n",
    "\n",
    "student_ids = [253628,522436,325718,\n",
    "662367,382846,230780,\n",
    "407321,732252,134886]\n",
    "\n",
    "students = ['Gina','Charline','Robby',\n",
    "'Adelle','Melodee','Alexis',\n",
    "'Magdalena','Diann','Carline']\n",
    "\n",
    "grades = [.87,1.0,.81,\n",
    ".77,.88,.95,\n",
    ".81,.87,.98]\n",
    "\n",
    "\n",
    "# Write our workbook\n",
    "workbook = xlsxwriter.Workbook('grades.xlsx')\n",
    "\n",
    "# Add our worksheet\n",
    "worksheet_name = 'grades'\n",
    "worksheet = workbook.add_worksheet(worksheet_name)\n",
    "\n",
    "# Add our data\n",
    "worksheet.write_column('A2', student_ids)\n",
    "worksheet.write_column('B2', students)\n",
    "# Format this as percentages this time\n",
    "worksheet.write_column('C2', grades, pct_format)\n",
    "\n",
    "# Add a table -- \n",
    "# We will name the table and each of the columns\n",
    "worksheet.add_table('A1:C10', {'name':'Grades',\n",
    "                                'columns':[{'header':'Student ID'},\n",
    "                                            {'header':'Student name'},\n",
    "                                            {'header':'Grade'}]})\n",
    "\n",
    "# Add an average in cell E1\n",
    "worksheet.write('E1', 'Average grade')\n",
    "# Format as percentage\n",
    "worksheet.write_formula('F1','=AVERAGE(Grades[Grade])', pct_format)\n",
    "\n",
    "### Don't close workbook yet; we're not ready! ###"
   ]
  },
  {
   "cell_type": "markdown",
   "metadata": {},
   "source": [
    "## Widen the columns\n",
    "\n",
    "We can set a given range of column rows to a certain width using the `set_column()` method. Let's set columns `A` through `D` to a width of `16`."
   ]
  },
  {
   "cell_type": "code",
   "execution_count": 178,
   "metadata": {},
   "outputs": [],
   "source": [
    "# Set columns A through D to a width of 16\n",
    "worksheet.set_column('A:D', 16)"
   ]
  },
  {
   "cell_type": "markdown",
   "metadata": {},
   "source": [
    "We could similarly set row widths using the `set_row()` method.\n",
    "\n",
    "This is admittedly not as dynamic as Excel's own AutoFit; however, clever users have found workarounds using more advanced Python methods. Take a look at [this thread on mimicking AutoFit](https://stackoverflow.com/questions/29463274/simulate-autofit-column-in-xslxwriter) when you feel more comfortable with things like loops and user-defined functions in Python. \n"
   ]
  },
  {
   "cell_type": "markdown",
   "metadata": {},
   "source": [
    "## Adding cell comments\n",
    "\n",
    "Cell comments are a great tool for interacting with our end users. Let's leave a cell comment in `C3` (which indicates Charline's grade) explaining the student's strong performance. \n",
    "\n",
    "We can do so with `write_comment()`.\n",
    "\n"
   ]
  },
  {
   "cell_type": "code",
   "execution_count": 9,
   "metadata": {},
   "outputs": [],
   "source": [
    "# Write a comment to cell C3\n",
    "worksheet.write_comment('C3','Charline spent her summer backpacking the French Riviera.')"
   ]
  },
  {
   "cell_type": "markdown",
   "metadata": {},
   "source": [
    "## Hiding columns and worksheets\n",
    "\n",
    "Hidden data in Excel is something to be wary of, but it's often a requested feature among end users who prefer printable, focused reports.\n",
    "\n",
    "![Stop hiding column A!](images/stop-hiding-column-a.jpg)\n",
    "\n",
    "We will hide columns in Excel using the same method as we used to adjust column widths: `set_column()`.\n",
    "\n",
    "We will still specify which column names we want to hide. Then we will pass in `None`, `None`, and `{'hidden':True}`.\n",
    "\n",
    "The last argument is actually what hides the columns. We are passing in the two `None`s as unused arguments in the method.\n"
   ]
  },
  {
   "cell_type": "code",
   "execution_count": null,
   "metadata": {},
   "outputs": [],
   "source": [
    "# *gasp* let's hide Column A!\n",
    "worksheet.set_column('A:A', None, None, {'hidden': True})"
   ]
  },
  {
   "cell_type": "markdown",
   "metadata": {},
   "source": [
    "Similarly, we can hide a worksheet with the `hide()` method. Do you remember how to add worksheets to a workbook?"
   ]
  },
  {
   "cell_type": "code",
   "execution_count": null,
   "metadata": {},
   "outputs": [],
   "source": [
    "worksheet2 = workbook.add_worksheet()\n",
    "worksheet2.write('A1','Made you look!')\n",
    "worksheet2.hide()\n"
   ]
  },
  {
   "cell_type": "markdown",
   "metadata": {},
   "source": [
    "Okay, *now* let's admire our work."
   ]
  },
  {
   "cell_type": "code",
   "execution_count": null,
   "metadata": {},
   "outputs": [],
   "source": [
    "workbook.close()"
   ]
  },
  {
   "cell_type": "markdown",
   "metadata": {},
   "source": [
    "## DRILL\n",
    "\n",
    "Create a workbook to replicate the below. This workbook.\n",
    "\n",
    "![Result of drill](images/manage-workbook-drill-result.png)\n",
    "\n",
    "\n",
    "I have given you the raw data and some of the formatting needed to do it. You fill in the rest. "
   ]
  },
  {
   "cell_type": "code",
   "execution_count": null,
   "metadata": {},
   "outputs": [],
   "source": []
  }
 ],
 "metadata": {
  "language_info": {
   "codemirror_mode": {
    "name": "ipython",
    "version": 3
   },
   "file_extension": ".py",
   "mimetype": "text/x-python",
   "name": "python",
   "nbconvert_exporter": "python",
   "pygments_lexer": "ipython3",
   "version": "3.7.1-final"
  },
  "orig_nbformat": 2,
  "kernelspec": {
   "name": "python3",
   "display_name": "Python 3"
  }
 },
 "nbformat": 4,
 "nbformat_minor": 2
}