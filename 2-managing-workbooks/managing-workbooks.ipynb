{
 "cells": [
  {
   "cell_type": "markdown",
   "metadata": {},
   "source": [
    "## Managing workbooks\n",
    "\n",
    "In the previous section, you got comfortable with the basic workflow of `xlsxwriter`. You even got into customizing the cells. \n",
    "\n",
    "Now let's get into more sophisticated things like:\n",
    "\n",
    "- Defining names and ranges\n",
    "- Setting conditional formatting    \n",
    "- Adding cell comments  \n",
    "- Adding data validation and worksheet protection  \n",
    "- Hiding and grouping rows, columns and worksheets  \n",
    "\n",
    "We will continue practicing by adding data in manually. In the next section we will look at working with `pandas` for a fuller range of data analysis.  \n"
   ]
  },
  {
   "cell_type": "markdown",
   "metadata": {},
   "source": []
  },
  {
   "cell_type": "code",
   "execution_count": 174,
   "metadata": {},
   "outputs": [
    {
     "output_type": "execute_result",
     "data": {
      "text/plain": "0"
     },
     "metadata": {},
     "execution_count": 174
    }
   ],
   "source": [
    "# Let's get this party started!\n",
    "\n",
    "import xlsxwriter\n",
    "\n",
    "student_ids = [253628,522436,325718,\n",
    "662367,382846,230780,\n",
    "407321,732252,134886]\n",
    "\n",
    "students = ['Gina','Charline','Robby',\n",
    "'Adelle','Melodee','Alexis',\n",
    "'Magdalena','Diann','Carline']\n",
    "\n",
    "grades = [87,100,81,\n",
    "77,88,95,\n",
    "81,87,98]\n",
    "\n",
    "\n",
    "# Write our workbook\n",
    "workbook = xlsxwriter.Workbook('grades.xlsx')\n",
    "\n",
    "# Add our worksheet\n",
    "worksheet_name = 'grades'\n",
    "worksheet = workbook.add_worksheet(worksheet_name)\n",
    "\n",
    "# Add our data\n",
    "worksheet.write_column('A2', student_ids)\n",
    "worksheet.write_column('B2', students)\n",
    "worksheet.write_column('C2', grades)\n"
   ]
  },
  {
   "cell_type": "markdown",
   "metadata": {},
   "source": [
    "## Working with tables\n",
    "\n",
    "Did you know that Excel tables are the ninth wonder of the world? \n",
    "\n",
    "![Ctrl T is my superpower](images/ctrl-t-is-my-superpower.jpg)\n",
    "\n",
    "Not only do they format our data nicely, they make it easier to work with. \n",
    "\n",
    "We can add tables from `xlsxwriter` with `add_table()`.\n",
    "\n",
    "We will tell `xlsxwriter` what range to convert into a table, what to name that table, and then finally what to name each column of the table."
   ]
  },
  {
   "cell_type": "code",
   "execution_count": 175,
   "metadata": {},
   "outputs": [
    {
     "output_type": "execute_result",
     "data": {
      "text/plain": "{'show_first_col': False,\n 'show_last_col': False,\n 'show_row_stripes': True,\n 'show_col_stripes': False,\n 'header_row_count': True,\n 'totals_row_shown': False,\n 'name': 'Grades',\n 'style': 'TableStyleMedium9',\n 'range': 'A1:C10',\n 'a_range': 'A1:C10',\n 'autofilter': 'A1:C10',\n 'columns': [{'id': 1,\n   'name': 'Student ID',\n   'total_string': '',\n   'total_function': '',\n   'total_value': 0,\n   'formula': '',\n   'format': None,\n   'name_format': None},\n  {'id': 2,\n   'name': 'Student name',\n   'total_string': '',\n   'total_function': '',\n   'total_value': 0,\n   'formula': '',\n   'format': None,\n   'name_format': None},\n  {'id': 3,\n   'name': 'Grade',\n   'total_string': '',\n   'total_function': '',\n   'total_value': 0,\n   'formula': '',\n   'format': None,\n   'name_format': None}]}"
     },
     "metadata": {},
     "execution_count": 175
    }
   ],
   "source": [
    "# Add a table\n",
    "worksheet.add_table('A1:C10', {'name':'Grades',\n",
    "                                'columns':[{'header':'Student ID'},\n",
    "                                            {'header':'Student name'},\n",
    "                                            {'header':'Grade'}]})\n",
    "\n"
   ]
  },
  {
   "cell_type": "markdown",
   "metadata": {},
   "source": [
    "We can even refer to columns of the table using `Table[Column name]` notation:"
   ]
  },
  {
   "cell_type": "code",
   "execution_count": 176,
   "metadata": {},
   "outputs": [
    {
     "output_type": "execute_result",
     "data": {
      "text/plain": "0"
     },
     "metadata": {},
     "execution_count": 176
    }
   ],
   "source": [
    "# Add an average \n",
    "worksheet.write('E1', 'Average grade')\n",
    "worksheet.write_formula('F1','=AVERAGE(Grades[Grade])')"
   ]
  },
  {
   "cell_type": "markdown",
   "metadata": {},
   "source": [
    "Let's go ahead and admire our work:"
   ]
  },
  {
   "cell_type": "code",
   "execution_count": 177,
   "metadata": {},
   "outputs": [],
   "source": [
    "workbook.close()"
   ]
  },
  {
   "cell_type": "markdown",
   "metadata": {},
   "source": [
    "## But wait! There's no going back\n",
    "\n",
    "There is some room for improvement in our workbook:\n",
    "\n",
    "1. We could widen the columns  \n",
    "2. We could set the grades to format as percentages rather than decimals, and (my favorite)\n",
    "3. We could freeze panes on the first row.  \n",
    "\n",
    "I may want to make these changes *after* writing my workbook to Excel and noticing these things, but unfortunately we'll need to start from scratch.\n",
    "\n",
    "### *`xlsxwriter` can only write information to Excel, not read it (hence the name).*\n",
    "\n",
    "So let's go ahead and start over... at least we'll learn a few more `xlsxwriter` tricks!"
   ]
  },
  {
   "cell_type": "markdown",
   "metadata": {},
   "source": [
    "## Next steps\n",
    "\n",
    "\n",
    "\n"
   ]
  },
  {
   "cell_type": "code",
   "execution_count": 178,
   "metadata": {},
   "outputs": [],
   "source": [
    "#worksheet.set_column('A:D', 16)\n",
    "\n",
    "#workbook.close()"
   ]
  },
  {
   "cell_type": "code",
   "execution_count": null,
   "metadata": {},
   "outputs": [],
   "source": []
  },
  {
   "cell_type": "markdown",
   "metadata": {},
   "source": [
    "## DRILL\n",
    "\n",
    "Create a workbook to replicate the below. This workbook.\n",
    "\n",
    "![Result of drill](images/manage-workbook-drill-result.png)\n",
    "\n",
    "\n",
    "I have given you the raw data and some of the formatting needed to do it. You fill in the rest. "
   ]
  },
  {
   "cell_type": "code",
   "execution_count": null,
   "metadata": {},
   "outputs": [],
   "source": []
  }
 ],
 "metadata": {
  "language_info": {
   "codemirror_mode": {
    "name": "ipython",
    "version": 3
   },
   "file_extension": ".py",
   "mimetype": "text/x-python",
   "name": "python",
   "nbconvert_exporter": "python",
   "pygments_lexer": "ipython3",
   "version": "3.7.1-final"
  },
  "orig_nbformat": 2,
  "kernelspec": {
   "name": "python3",
   "display_name": "Python 3"
  }
 },
 "nbformat": 4,
 "nbformat_minor": 2
}