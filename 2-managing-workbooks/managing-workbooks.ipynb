{
 "cells": [
  {
   "cell_type": "markdown",
   "metadata": {},
   "source": [
    "# Managing workbooks\n",
    "\n",
    "In the previous section, you got comfortable with the basic workflow of `xlsxwriter`. You even got into customizing the cells. \n",
    "\n",
    "Now let's get into more sophisticated things like:\n",
    "\n",
    "- Inserting and calculating from tables\n",
    "- Adding custom cell formats    \n",
    "- Adding cell comments  \n",
    "- Hiding rows, columns and worksheets  \n",
    "\n",
    "We will continue practicing by adding data in via lists. In the next section we will look at working with `pandas` for a fuller range of data analysis.  \n"
   ]
  },
  {
   "cell_type": "code",
   "execution_count": 1,
   "metadata": {},
   "outputs": [
    {
     "output_type": "execute_result",
     "data": {
      "text/plain": "0"
     },
     "metadata": {},
     "execution_count": 1
    }
   ],
   "source": [
    "# Let's get this party started!\n",
    "\n",
    "import xlsxwriter\n",
    "\n",
    "student_ids = [253628,522436,325718,\n",
    "662367,382846,230780,\n",
    "407321,732252,134886]\n",
    "\n",
    "students = ['Gina','Charline','Robby',\n",
    "'Adelle','Melodee','Alexis',\n",
    "'Magdalena','Diann','Carline']\n",
    "\n",
    "grades = [.87,1.0,.81,\n",
    ".77,.88,.95,\n",
    ".81,.87,.98]\n",
    "\n",
    "\n",
    "# Write our workbook\n",
    "workbook = xlsxwriter.Workbook('grades.xlsx')\n",
    "\n",
    "# Add our worksheet\n",
    "worksheet_name = 'grades'\n",
    "worksheet = workbook.add_worksheet(worksheet_name)\n",
    "\n",
    "# Add our data\n",
    "worksheet.write_column('A2', student_ids)\n",
    "worksheet.write_column('B2', students)\n",
    "worksheet.write_column('C2', grades)\n"
   ]
  },
  {
   "cell_type": "markdown",
   "metadata": {},
   "source": [
    "## Working with tables\n",
    "\n",
    "Did you know that Excel tables are the ninth wonder of the world? \n",
    "\n",
    "![Ctrl T is my superpower](images/ctrl-t-is-my-superpower.jpg)\n",
    "\n",
    "Not only do they format our data nicely, they make it easier to work with. \n",
    "\n",
    "We can add tables from `xlsxwriter` with `add_table()`.\n",
    "\n",
    "We will tell `xlsxwriter` what range to convert into a table, what to name that table, and then finally what to name each column of the table."
   ]
  },
  {
   "cell_type": "code",
   "execution_count": 2,
   "metadata": {},
   "outputs": [
    {
     "output_type": "execute_result",
     "data": {
      "text/plain": "{'show_first_col': False,\n 'show_last_col': False,\n 'show_row_stripes': True,\n 'show_col_stripes': False,\n 'header_row_count': True,\n 'totals_row_shown': False,\n 'name': 'Grades',\n 'style': 'TableStyleMedium9',\n 'range': 'A1:C10',\n 'a_range': 'A1:C10',\n 'autofilter': 'A1:C10',\n 'columns': [{'id': 1,\n   'name': 'Student ID',\n   'total_string': '',\n   'total_function': '',\n   'total_value': 0,\n   'formula': '',\n   'format': None,\n   'name_format': None},\n  {'id': 2,\n   'name': 'Student name',\n   'total_string': '',\n   'total_function': '',\n   'total_value': 0,\n   'formula': '',\n   'format': None,\n   'name_format': None},\n  {'id': 3,\n   'name': 'Grade',\n   'total_string': '',\n   'total_function': '',\n   'total_value': 0,\n   'formula': '',\n   'format': None,\n   'name_format': None}]}"
     },
     "metadata": {},
     "execution_count": 2
    }
   ],
   "source": [
    "# Add a table -- \n",
    "# We will name the table and each of the columns\n",
    "worksheet.add_table('A1:C10', {'name':'Grades',\n",
    "                                'columns':[{'header':'Student ID'},\n",
    "                                            {'header':'Student name'},\n",
    "                                            {'header':'Grade'}]})\n",
    "\n"
   ]
  },
  {
   "cell_type": "markdown",
   "metadata": {},
   "source": [
    "Our table is now set up in Excel.\n",
    "\n",
    "We can even refer to columns of the table in calculations using `Table[Column name]` notation:"
   ]
  },
  {
   "cell_type": "code",
   "execution_count": 3,
   "metadata": {},
   "outputs": [
    {
     "output_type": "execute_result",
     "data": {
      "text/plain": "0"
     },
     "metadata": {},
     "execution_count": 3
    }
   ],
   "source": [
    "# Add an average in cell E1\n",
    "worksheet.write('E1', 'Average grade')\n",
    "worksheet.write_formula('F1','=AVERAGE(Grades[Grade])')"
   ]
  },
  {
   "cell_type": "markdown",
   "metadata": {},
   "source": [
    "Let's go ahead and admire our work:"
   ]
  },
  {
   "cell_type": "code",
   "execution_count": 4,
   "metadata": {},
   "outputs": [],
   "source": [
    "workbook.close()"
   ]
  },
  {
   "cell_type": "markdown",
   "metadata": {},
   "source": [
    "## But wait! There's no going back\n",
    "\n",
    "Upon inspection of our workbook, there is some room for improvement:\n",
    "\n",
    "1. We could widen the columns so that it's easier to read the labels\n",
    "2. We could set the grades to format as percentages rather than decimals, and \n",
    "3. We could add a comment explaining Charline's ace performance on the exam.  \n",
    "\n",
    "We could also hide the student ID column.\n",
    "\n",
    "![Grades workbook,version 1](images/grades-v1.png)\n",
    "\n",
    "I may want to make these changes *after* writing my workbook to Excel and noticing these things, but unfortunately we'll need to start from scratch.\n",
    "\n",
    "### *`xlsxwriter` can only write information to Excel, not read it (hence the name).*\n",
    "\n",
    "** At least we aren't doing things manually **\n",
    "\n",
    "So let's go ahead and start over... at least we'll learn a few more `xlsxwriter` tricks!"
   ]
  },
  {
   "cell_type": "markdown",
   "metadata": {},
   "source": [
    "## Setting custom cell formats\n",
    "\n",
    "We can add a percentage format to a cell similarly to how we added borders or a bold font: with `add_format()`. \n",
    "\n",
    "In this case, we will adjust `num_format` to our desired number format.\n",
    "\n",
    "Here is [Microsoft's documentation on number formatting in Excel](https://support.microsoft.com/en-us/office/review-guidelines-for-customizing-a-number-format-c0a1d1fa-d3f4-4018-96b7-9c9354dd99f5): it can take some getting used to!\n",
    "\n",
    "My suggestion when starting out is to use the Excel interface to toggle what number formatting you want, then go to the \"Custom\" section of the Format Cells menu (keyboard shortcut `Ctrl + 1`) to plug this resulting \"back-end\" number format into Python.\n",
    "\n",
    "\n",
    "![Excel format cells menu](images/number-format.png)\n",
    "\n",
    "In this case, the number format we want is `0.00%`. We will plug this into our `add_format` method.\n",
    "\n",
    "*Deep breath* so, let's try writing our workbook again."
   ]
  },
  {
   "cell_type": "code",
   "execution_count": 5,
   "metadata": {},
   "outputs": [],
   "source": [
    "# Let's get this party started...again!\n",
    "\n",
    "import xlsxwriter\n",
    "\n",
    "student_ids = [253628,522436,325718,\n",
    "662367,382846,230780,\n",
    "407321,732252,134886]\n",
    "\n",
    "students = ['Gina','Charline','Robby',\n",
    "'Adelle','Melodee','Alexis',\n",
    "'Magdalena','Diann','Carline']\n",
    "\n",
    "grades = [.87,1.0,.81,\n",
    ".77,.88,.95,\n",
    ".81,.87,.98]\n",
    "\n",
    "\n",
    "# Write our workbook\n",
    "workbook = xlsxwriter.Workbook('grades.xlsx')\n",
    "\n",
    "# Add our worksheet\n",
    "worksheet_name = 'grades'\n",
    "worksheet = workbook.add_worksheet(worksheet_name)\n"
   ]
  },
  {
   "cell_type": "markdown",
   "metadata": {},
   "source": [
    "We want to set our grades as percentages this time, so let's pass in the percentage format `0.00%` now:"
   ]
  },
  {
   "cell_type": "code",
   "execution_count": 6,
   "metadata": {},
   "outputs": [],
   "source": [
    "# Set up a percentage format \n",
    "pct_format = workbook.add_format({'num_format':'0.00%'})"
   ]
  },
  {
   "cell_type": "markdown",
   "metadata": {},
   "source": [
    "Now, we will write our data to the workbook."
   ]
  },
  {
   "cell_type": "code",
   "execution_count": 7,
   "metadata": {},
   "outputs": [
    {
     "output_type": "execute_result",
     "data": {
      "text/plain": "0"
     },
     "metadata": {},
     "execution_count": 7
    }
   ],
   "source": [
    "\n",
    "# Add our data\n",
    "worksheet.write_column('A2', student_ids)\n",
    "worksheet.write_column('B2', students)\n",
    "# Format this as percentages this time\n",
    "worksheet.write_column('C2', grades, pct_format)\n",
    "\n",
    "# Add a table -- \n",
    "# We will name the table and each of the columns\n",
    "worksheet.add_table('A1:C10', {'name':'Grades',\n",
    "                                'columns':[{'header':'Student ID'},\n",
    "                                            {'header':'Student name'},\n",
    "                                            {'header':'Grade'}]})\n",
    "\n",
    "# Add an average in cell E1\n",
    "worksheet.write('E1', 'Average grade')\n",
    "# Format as percentage\n",
    "worksheet.write_formula('F1','=AVERAGE(Grades[Grade])', pct_format)"
   ]
  },
  {
   "cell_type": "markdown",
   "metadata": {},
   "source": [
    "*Don't close the workbook yet!* There's still more we would like to do to this workbook."
   ]
  },
  {
   "cell_type": "markdown",
   "metadata": {},
   "source": [
    "## Adding cell comments\n",
    "\n",
    "Cell comments are a great tool for interacting with our end users. Let's leave a cell comment in `C3` (which indicates Charline's grade) explaining the student's strong performance. \n",
    "\n",
    "We can do so with `write_comment()`.\n",
    "\n"
   ]
  },
  {
   "cell_type": "code",
   "execution_count": 8,
   "metadata": {},
   "outputs": [],
   "source": [
    "# Write a comment to cell C3\n",
    "worksheet.write_comment('C3','Charline spent her summer backpacking the French Riviera.')"
   ]
  },
  {
   "cell_type": "markdown",
   "metadata": {},
   "source": [
    "## Hiding columns and worksheets\n",
    "\n",
    "Hidden data in Excel is something to be wary of, \n",
    "\n",
    "SHOW THE BARCLAYS ISSUE \n",
    "\n",
    "\n",
    "\n",
    "but it's often a requested feature among end users who prefer printable, focused reports.\n",
    "\n",
    "![Stop hiding column A!](images/stop-hiding-column-a.jpg)\n",
    "\n",
    "We will hide columns in Excel using the `set_column()` method.\n",
    "\n",
    "We will still specify which column names we want to hide. Then we will pass in `None`, `None`, and `{'hidden':True}`.\n",
    "\n",
    "The last argument is actually what hides the columns. We need to pass in the two `None`s as unused arguments in the method.\n"
   ]
  },
  {
   "cell_type": "code",
   "execution_count": 9,
   "metadata": {},
   "outputs": [
    {
     "output_type": "execute_result",
     "data": {
      "text/plain": "0"
     },
     "metadata": {},
     "execution_count": 9
    }
   ],
   "source": [
    "# *gasp* let's hide Column A!\n",
    "worksheet.set_column('A:A', None, None, {'hidden': True})"
   ]
  },
  {
   "cell_type": "markdown",
   "metadata": {},
   "source": [
    "We could similarly hide rows with the `set_row()` method.\n",
    "\n",
    "ADD AN EXAMPLE \n",
    "\n",
    "### Hiding worksheets\n",
    "\n",
    "We could hide an entire worksheet with the `hide()` method. Do you remember how to add worksheets to a workbook?"
   ]
  },
  {
   "cell_type": "code",
   "execution_count": 10,
   "metadata": {},
   "outputs": [],
   "source": [
    "worksheet2 = workbook.add_worksheet()\n",
    "worksheet2.write('A1','Made you look!')\n",
    "worksheet2.hide()"
   ]
  },
  {
   "cell_type": "markdown",
   "metadata": {},
   "source": [
    "## Widening columns\n",
    "\n",
    "We'll also use `set_column()` to widen columns. This time, we will specify which columns to widen, and how far to widen them. \n",
    "\n",
    "We will widen columns `B` through `E`. We will *not* widen column `A` because that's already been hidden! "
   ]
  },
  {
   "cell_type": "code",
   "execution_count": 11,
   "metadata": {},
   "outputs": [
    {
     "output_type": "execute_result",
     "data": {
      "text/plain": "0"
     },
     "metadata": {},
     "execution_count": 11
    }
   ],
   "source": [
    "# Set columns A through D to a width of 16\n",
    "worksheet.set_column('B:E', 16)"
   ]
  },
  {
   "cell_type": "markdown",
   "metadata": {},
   "source": [
    "This is admittedly not as dynamic as Excel's own AutoFit; however, clever users have found workarounds using more advanced Python methods. Take a look at [this thread on mimicking AutoFit](https://stackoverflow.com/questions/29463274/simulate-autofit-column-in-xslxwriter) when you feel more comfortable with things like loops and user-defined functions in Python. \n"
   ]
  },
  {
   "cell_type": "markdown",
   "metadata": {},
   "source": [
    "Okay, *now* let's admire our work."
   ]
  },
  {
   "cell_type": "code",
   "execution_count": 12,
   "metadata": {},
   "outputs": [],
   "source": [
    "workbook.close()"
   ]
  },
  {
   "cell_type": "markdown",
   "metadata": {},
   "source": [
    "# Drill\n",
    "\n",
    "Replicate the below two worksheets of a workbook called `sales.xlsx`. \n",
    "\n",
    "- `summary` worksheet: this sheet uses table notation in a formula to sum up all sales in the table. The cells are bold with a column width of `12`.\n",
    "\n",
    "![summary worksheet](images/summary-worksheet.png)\n",
    "\n",
    "- `data` worksheet: this sheet contains a table names `Sales`. Column `B` is formatted as currency.\n",
    "\n",
    "![data worksheet](images/data-worksheet.png)\n",
    "\n",
    "Complete the code below, or work on your own from scratch."
   ]
  },
  {
   "cell_type": "code",
   "execution_count": null,
   "metadata": {},
   "outputs": [],
   "source": [
    "# Let's get this party started!\n",
    "___\n",
    "\n",
    "# Here is our data to add\n",
    "regions  = ['North','South','East','West']\n",
    "sales = [6480, 2103, 4336, 5736]\n",
    "\n",
    "# Write our workbook, sales.xlsx\n",
    "workbook = ____\n",
    "\n",
    "# Add our two worksheets\n",
    "worksheet_summary = ___\n",
    "worksheet_data = ___\n",
    "\n",
    "# Set our formats that we'll need when writing\n",
    "# For the currency cells in our table\n",
    "currency_format = ___({'num_format':'$#,##0'})\n",
    "# For the label in our summary worksheet -- turn on bolds\n",
    "bold_format = ___\n",
    "# For the total in our summary worksheet  -- currency and bold\n",
    "bold_currency_format = workbook.add_format({'num_format':'$#,##0','bold':True})\n",
    "\n",
    "\n",
    "# Add our regions column\n",
    "worksheet_data.___('A2', regions)\n",
    "# Add our currency-formated sales column\n",
    "worksheet_data.___('B2', sales, currency_format)\n",
    "\n",
    "# Add a table named sales with Region and Sales column names\n",
    "worksheet_data.___('A1:B5', {'name':___,\n",
    "                                'columns':[{'header':___},\n",
    "                                            {'header':___}]})\n",
    "\n",
    "\n",
    "# Add a summary worksheet\n",
    "# Total sales in cell A1, bolded\n",
    "worksheet_summary.write('A1', 'Total sales:', ___)\n",
    "# Sum of the sales table in B1, bolded and currency format\n",
    "worksheet_summary.write('B1', ___, ___)\n",
    "\n",
    "# Set the column widths to 12\n",
    "worksheet_summary.___('A:B',___)\n",
    "\n",
    "# Close and admire our workbook!\n",
    "___\n"
   ]
  },
  {
   "cell_type": "markdown",
   "metadata": {},
   "source": [
    "# Building Excel models with `xlsxwriter`\n",
    "\n",
    "One of the best things about Excel is its ability for end users to engage and interact with the data. However, there are some things we may *not* want our users to do -- things like breaking the model 🤔.\n",
    "\n",
    "Let's build a basic model in Excel with `xlsxwriter`: \n",
    "\n",
    "- Our raw data will go in a protected worksheet called `data`. The only thing end-users can do with this worksheet is use the data filters. \n",
    "- We will add a `summary` worksheet that end-users can use to find the total sales for a region. We will protect all of this worksheet except for the cells they are meant to interact with.\n",
    "- We will use drop-down data validation to guide the values that our end users can input. \n",
    "- We also would like the `summary` worksheet to be what the users see when they open the workbook.\n",
    "\n",
    "Let's get started."
   ]
  },
  {
   "cell_type": "code",
   "execution_count": 1,
   "metadata": {},
   "outputs": [
    {
     "output_type": "execute_result",
     "data": {
      "text/plain": "0"
     },
     "metadata": {},
     "execution_count": 1
    }
   ],
   "source": [
    "# Add in our data\n",
    "import xlsxwriter\n",
    "regions = ['C','B','B','B','C','A','C','B','B','C']\n",
    "sales = [201,293,431,111,241,321,311,187,400,354]\n",
    "labels = ['Region','Sales']\n",
    "\n",
    "workbook = xlsxwriter.Workbook('sales-model.xlsx')\n",
    "worksheet = workbook.add_worksheet('data')\n",
    "\n",
    "worksheet.write_column('A2',regions)\n",
    "worksheet.write_column('B2',sales)\n",
    "worksheet.write_row('A1',labels)\n"
   ]
  },
  {
   "cell_type": "markdown",
   "metadata": {},
   "source": [
    "## Adding an AutoFilter\n",
    "\n",
    "We can apply an AutoFilter to our data sheet with the `autofilter()` method:"
   ]
  },
  {
   "cell_type": "code",
   "execution_count": 2,
   "metadata": {},
   "outputs": [],
   "source": [
    "# Add an autofilter to the data\n",
    "worksheet.autofilter('A1:B11')"
   ]
  },
  {
   "cell_type": "markdown",
   "metadata": {},
   "source": [
    "## Worksheet protection\n",
    "\n",
    "Let's protect this `data` worksheet so that all users can do with it is manipulate the AutoFilter. \n",
    "\n",
    "We can do so with the `protect()` method. There are several optional setting to choose from in this method: we will set `autofilter` to `True` by passing it into a dictionary. \n",
    "\n",
    "To see the all the options for worksheet protection, check out Chapter 7 of the [`xlsxwriter` documentation](https://github.com/jmcnamara/XlsxWriter/blob/master/docs/XlsxWriter.pdf)."
   ]
  },
  {
   "cell_type": "code",
   "execution_count": 4,
   "metadata": {},
   "outputs": [],
   "source": [
    "# Protect the worksheet but allow autofiltering\n",
    "worksheet.protect('data', {'autofilter': True})"
   ]
  },
  {
   "cell_type": "markdown",
   "metadata": {},
   "source": [
    "### Protecting cells and ranges\n",
    "\n",
    "Now let's move to our `summary` worksheet. Here, we will allow our users to make some changes to the worksheet, via data validation."
   ]
  },
  {
   "cell_type": "code",
   "execution_count": null,
   "metadata": {},
   "outputs": [],
   "source": [
    "# Add the summary worksheet\n",
    "worksheet2 = workbook.add_worksheet('summary')"
   ]
  },
  {
   "cell_type": "markdown",
   "metadata": {},
   "source": [
    "To protect only *some* cells in a worksheet, we can take the following steps:\n",
    "\n",
    "1. Protect the entire worksheet with the `protect()` method\n",
    "2. Create a cell format with *unlocked* cells by setting `locked` to `False`\n",
    "3. Pass that format into any cells which we *do* want users to interact with\n",
    "\n",
    "Let's try it out:"
   ]
  },
  {
   "cell_type": "code",
   "execution_count": null,
   "metadata": {},
   "outputs": [],
   "source": [
    "# Protect the whole worksheet\n",
    "worksheet2.protect()\n",
    "\n",
    "# Add an unlocked format\n",
    "unlocked = workbook.add_format({'locked':False})\n",
    "\n",
    "# This cell remains locked...\n",
    "worksheet2.write('A1','Select region: ')\n",
    "\n",
    "# This cell will get unlocked so that users can \n",
    "# interact with it\n",
    "worksheet2.write('B1','A',unlocked)\n",
    "\n",
    "# This will conditionally sum off the value of B1\n",
    "worksheet2.write_formula('C1','=SUMIF(data!A:A,B1,data!B:B)')\n",
    "\n",
    "# Widen the columns for formatting\n",
    "worksheet2.set_column('A:C',12)"
   ]
  },
  {
   "cell_type": "markdown",
   "metadata": {},
   "source": [
    "## Data validation\n",
    "\n",
    "You may have noticed that we passed the value of `A` into cell `B1`. Then cell `C1` conditionally sums that value.\n",
    "\n",
    "What if our end-user wanted to know the sum of regions `B` or `C`? Let's make that easier for them by providing a drop-down list. This is a form of *data validation*.\n",
    "\n",
    "Like most things in `xlsxwriter`, we will just scratch the surface of what's possible. For more on data validation, check out Chapter 21 of the documentation. \n",
    "\n",
    "Let's use the `data_validation()` method to add a drop-down to cell `B1`."
   ]
  },
  {
   "cell_type": "code",
   "execution_count": null,
   "metadata": {},
   "outputs": [],
   "source": [
    "# Add data validation to B1\n",
    "# We are validating from a list\n",
    "worksheet.data_validation('B1', {'validate':'list',\n",
    "# Here are the values we would allow in the list\n",
    "                                'source':['A','B','C'],\n",
    "# We would like to add a dropdown to this validation\n",
    "                                'dropdown':True})"
   ]
  },
  {
   "cell_type": "markdown",
   "metadata": {},
   "source": [
    "Let's do one thing to make this validation a little more dynamic. Rather than \"hard-coding\" our possible value of `A`,`B` and `C` into the list, we can find the sorted, unique values of the `regions` list."
   ]
  },
  {
   "cell_type": "code",
   "execution_count": 5,
   "metadata": {
    "tags": []
   },
   "outputs": [
    {
     "output_type": "stream",
     "name": "stdout",
     "text": "['A', 'B', 'C']\n"
    }
   ],
   "source": [
    "# This code will give us all the unique values of our list\n",
    "region_unique = list(set(regions))\n",
    "\n",
    "print(region_unique)"
   ]
  },
  {
   "cell_type": "code",
   "execution_count": 6,
   "metadata": {
    "tags": []
   },
   "outputs": [
    {
     "output_type": "stream",
     "name": "stdout",
     "text": "['A', 'B', 'C']\n"
    }
   ],
   "source": [
    "# Now we will sort the result\n",
    "region_unique.sort()\n",
    "\n",
    "print(region_unique)"
   ]
  },
  {
   "cell_type": "code",
   "execution_count": null,
   "metadata": {},
   "outputs": [],
   "source": [
    "# Now a more dynamic data drop-down\n",
    "worksheet.data_validation('A1', {'validate':'list',\n",
    "                                'source':region_unique,\n",
    "                                'dropdown':True})"
   ]
  },
  {
   "cell_type": "markdown",
   "metadata": {},
   "source": [
    "As mentioned before, there are a *lot* of ways to do data validation. Let's try one more in cell `A2`:"
   ]
  },
  {
   "cell_type": "code",
   "execution_count": null,
   "metadata": {},
   "outputs": [],
   "source": [
    "# Now a more dynamic data drop-down\n",
    "worksheet2.data_validation('A2', {'validate':'list',\n",
    "                                'source':region_unique,\n",
    "                                'input_title':'Enter a region',\n",
    "                                'input_message': 'Value should be alphabetical'})\n",
    "\n",
    "# Make sure this is unlocked for our users!\n",
    "worksheet2.write('A2','B',unlocked)"
   ]
  },
  {
   "cell_type": "markdown",
   "metadata": {},
   "source": [
    "## Setting the active worksheet\n",
    "\n",
    "By default `xlsxwriter` will open to the first worksheet in the workbook. Worksheets are placed in the order in which we add them, so the `data` worksheet would appear first -- but we would like the `summary` worksheet instead. \n",
    "\n",
    "We can change what worksheet is activated upon opening with the `activate()` method:"
   ]
  },
  {
   "cell_type": "code",
   "execution_count": null,
   "metadata": {},
   "outputs": [],
   "source": [
    "# Activate the summary worksheet\n",
    "# this was worksheet2 \n",
    "worksheet2.activate()"
   ]
  },
  {
   "cell_type": "markdown",
   "metadata": {},
   "source": [
    "Ready to see what we got?"
   ]
  },
  {
   "cell_type": "code",
   "execution_count": null,
   "metadata": {},
   "outputs": [],
   "source": [
    " workbook.close() "
   ]
  },
  {
   "cell_type": "markdown",
   "metadata": {},
   "source": [
    "# Drill\n",
    "\n",
    "You can use the scaffolding below or try on your own. \n",
    "\n",
    "Create a blank worksheet in a workbook where the only cells that the user can modify are `A1:D1`.\n",
    "\n",
    "Cell `A1` should be validated with a drop-down allowing a list of values `Hello`, `world` and `Python` and `C1` should contain a message alerting users that they can input integers between 1 and 10. \n"
   ]
  },
  {
   "cell_type": "code",
   "execution_count": null,
   "metadata": {},
   "outputs": [],
   "source": [
    "import xlsxwriter\n",
    "my_range = ['','','','']\n",
    "\n",
    "workbook = xlsxwriter.Workbook('my-sheet.xlsx')\n",
    "worksheet = ___\n",
    "\n",
    "# Protect the worksheet\n",
    "worksheet.___\n",
    "\n",
    "# Set up an unlocked cell format\n",
    "unlocked = workbook.___(___)\n",
    "\n",
    "# Write the range with an unprotected format\n",
    "worksheet.write_row('A1', my_range, ___)\n",
    "\n",
    "# Add data validation dropdown to cell A1\n",
    "worksheet.data_validation(___, {'validate':___,\n",
    "                                'source':___,\n",
    "                                'dropdown':___})\n",
    "\n",
    "# Add data validation for integers to cell C1\n",
    "worksheet.___(___, {'validate': 'integer',\n",
    "'criteria': 'between',\n",
    "'minimum': 1,\n",
    "'maximum': 10,\n",
    "___: 'Enter an integer:',\n",
    "___: 'between 1 and 10'})\n",
    "\n",
    "\n",
    "# Close the workbook\n",
    "___"
   ]
  }
 ],
 "metadata": {
  "language_info": {
   "codemirror_mode": {
    "name": "ipython",
    "version": 3
   },
   "file_extension": ".py",
   "mimetype": "text/x-python",
   "name": "python",
   "nbconvert_exporter": "python",
   "pygments_lexer": "ipython3",
   "version": "3.7.1-final"
  },
  "orig_nbformat": 2,
  "kernelspec": {
   "name": "python3",
   "display_name": "Python 3"
  }
 },
 "nbformat": 4,
 "nbformat_minor": 2
}