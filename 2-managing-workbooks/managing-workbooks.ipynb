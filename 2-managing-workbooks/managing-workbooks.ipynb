{
 "cells": [
  {
   "cell_type": "markdown",
   "metadata": {},
   "source": [
    "## Managing workbooks\n",
    "\n",
    "In the previous section, you got comfortable with the basic workflow of `xlsxwriter`. You even got into customizing the cells. \n",
    "\n",
    "Now let's get into more sophisticated things like:\n",
    "\n",
    "- Defining names and ranges  \n",
    "- Adding cell comments  \n",
    "- Setting conditional formatting  \n",
    "- Adding data validation and worksheet protection  \n",
    "- Hiding and grouping rows, columns and worksheets  \n",
    "\n",
    "We will continue practicing by adding data in manually. In the next section we will look at working with `pandas` for a fuller range of data analysis.  \n"
   ]
  }
 ],
 "metadata": {
  "language_info": {
   "codemirror_mode": {
    "name": "ipython",
    "version": 3
   },
   "file_extension": ".py",
   "mimetype": "text/x-python",
   "name": "python",
   "nbconvert_exporter": "python",
   "pygments_lexer": "ipython3",
   "version": 3
  },
  "orig_nbformat": 2
 },
 "nbformat": 4,
 "nbformat_minor": 2
}