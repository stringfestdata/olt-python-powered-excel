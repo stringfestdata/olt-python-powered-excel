{
 "cells": [
  {
   "cell_type": "markdown",
   "metadata": {},
   "source": [
    "## Managing workbooks\n",
    "\n",
    "In the previous section, you got comfortable with the basic workflow of `xlsxwriter`. You even got into customizing the cells. \n",
    "\n",
    "Now let's get into more sophisticated things like:\n",
    "\n",
    "- Defining names and ranges  \n",
    "- Adding cell comments  \n",
    "- Setting conditional formatting  \n",
    "- Adding data validation and worksheet protection  \n",
    "- Hiding and grouping rows, columns and worksheets  \n",
    "\n",
    "We will continue practicing by adding data in manually. In the next section we will look at working with `pandas` for a fuller range of data analysis.  \n"
   ]
  },
  {
   "cell_type": "markdown",
   "metadata": {},
   "source": []
  },
  {
   "cell_type": "code",
   "execution_count": null,
   "metadata": {},
   "outputs": [],
   "source": [
    "import xlsxwriter\n",
    "\n",
    "student_ids = [253628,522436,325718,\n",
    "662367,382846,230780,\n",
    "407321,732252,134886]\n",
    "\n",
    "students = ['Gina','Charline','Robby',  \n",
    "'Adelle','Melodee','Alexis',  \n",
    "'Magdalena','Diann','Carline']\n",
    "\n",
    "grades = [87,100,81,\n",
    "77,88,95,\n",
    "81,87,98]\n"
   ]
  }
 ],
 "metadata": {
  "language_info": {
   "codemirror_mode": {
    "name": "ipython",
    "version": 3
   },
   "file_extension": ".py",
   "mimetype": "text/x-python",
   "name": "python",
   "nbconvert_exporter": "python",
   "pygments_lexer": "ipython3",
   "version": "3.7.4-final"
  },
  "orig_nbformat": 2,
  "kernelspec": {
   "name": "python3",
   "display_name": "Python 3"
  }
 },
 "nbformat": 4,
 "nbformat_minor": 2
}