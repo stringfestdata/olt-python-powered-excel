{
 "cells": [
  {
   "cell_type": "markdown",
   "metadata": {},
   "source": [
    "## Managing workbooks\n",
    "\n",
    "In the previous section, you got comfortable with the basic workflow of `xlsxwriter`. You even got into customizing the cells. \n",
    "\n",
    "Now let's get into more sophisticated things like:\n",
    "\n",
    "- Defining names and ranges  \n",
    "- Adding cell comments  \n",
    "- Setting conditional formatting  \n",
    "- Adding data validation and worksheet protection  \n",
    "- Hiding and grouping rows, columns and worksheets  \n",
    "\n",
    "We will continue practicing by adding data in manually. In the next section we will look at working with `pandas` for a fuller range of data analysis.  \n"
   ]
  },
  {
   "cell_type": "markdown",
   "metadata": {},
   "source": []
  },
  {
   "cell_type": "code",
   "execution_count": 4,
   "metadata": {},
   "outputs": [],
   "source": [
    "import xlsxwriter\n",
    "\n",
    "student_ids = [253628,522436,325718,\n",
    "662367,382846,230780,\n",
    "407321,732252,134886]\n",
    "\n",
    "students = ['Gina','Charline','Robby',\n",
    "'Adelle','Melodee','Alexis',\n",
    "'Magdalena','Diann','Carline']\n",
    "\n",
    "grades = [87,100,81,\n",
    "77,88,95,\n",
    "81,87,98]\n",
    "\n",
    "\n"
   ]
  },
  {
   "cell_type": "markdown",
   "metadata": {},
   "source": [
    "Take a moment to think about how you would write this into a workbook.\n",
    "\n",
    "*Don't close the workbook yet!* We will continue operating on it. *Once you **write** to Excel using `xlsxwriter`, there's no **reading** it back.* 🙍‍♂️"
   ]
  },
  {
   "cell_type": "code",
   "execution_count": 7,
   "metadata": {},
   "outputs": [],
   "source": [
    "# https://stackoverflow.com/questions/30561143/how-to-determine-last-row-populated-for-a-certain-column-in-xlsxwriter\n",
    "\n",
    "workbook = xlsxwriter.Workbook('grades.xlsx')\n",
    "\n",
    "\n",
    "worksheet = workbook.add_worksheet('grades')\n",
    "\n",
    "\n",
    "for row_num, value in enumerate(student_ids, start=1):\n",
    "    worksheet.write(row_num, 0, value)\n",
    "\n",
    "for col_num, value in enumerate(grades, start=1):\n",
    "    worksheet.write(0, col_num, value)\n",
    "\n",
    "worksheet.write_column('B1',students)\n",
    "#worksheet.write_column('C1',grades)\n",
    "\n",
    "worksheet.write('A{}'.format(row_num),'skippy')\n",
    "\n",
    "workbook.close()"
   ]
  },
  {
   "cell_type": "code",
   "execution_count": 8,
   "metadata": {},
   "outputs": [
    {
     "output_type": "execute_result",
     "data": {
      "text/plain": "9"
     },
     "metadata": {},
     "execution_count": 8
    }
   ],
   "source": [
    "row_num\n"
   ]
  },
  {
   "cell_type": "markdown",
   "metadata": {},
   "source": [
    "## Named ranges\n",
    "\n",
    "It's not a bad idea to use named ranges, especially when you are calculating off them. \n",
    "\n",
    "We can do this from `xlsxwriter` using `define_name()`. We will tell `xlsxwriter` what to name the range, and the location of the range.\n",
    "\n",
    "\n"
   ]
  },
  {
   "cell_type": "code",
   "execution_count": null,
   "metadata": {},
   "outputs": [],
   "source": [
    "     "
   ]
  }
 ],
 "metadata": {
  "language_info": {
   "codemirror_mode": {
    "name": "ipython",
    "version": 3
   },
   "file_extension": ".py",
   "mimetype": "text/x-python",
   "name": "python",
   "nbconvert_exporter": "python",
   "pygments_lexer": "ipython3",
   "version": "3.8.3-final"
  },
  "orig_nbformat": 2,
  "kernelspec": {
   "name": "python3",
   "display_name": "Python 3"
  }
 },
 "nbformat": 4,
 "nbformat_minor": 2
}