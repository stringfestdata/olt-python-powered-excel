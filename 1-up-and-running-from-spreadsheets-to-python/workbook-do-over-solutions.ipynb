{
 "cells": [
  {
   "cell_type": "code",
   "execution_count": 1,
   "metadata": {},
   "outputs": [
    {
     "output_type": "error",
     "ename": "ModuleNotFoundError",
     "evalue": "No module named 'xlsxwriter'",
     "traceback": [
      "\u001b[1;31m---------------------------------------------------------------------------\u001b[0m",
      "\u001b[1;31mModuleNotFoundError\u001b[0m                       Traceback (most recent call last)",
      "\u001b[1;32m<ipython-input-1-969422665e97>\u001b[0m in \u001b[0;36m<module>\u001b[1;34m\u001b[0m\n\u001b[1;32m----> 1\u001b[1;33m \u001b[1;32mimport\u001b[0m \u001b[0mxlsxwriter\u001b[0m\u001b[1;33m\u001b[0m\u001b[1;33m\u001b[0m\u001b[0m\n\u001b[0m\u001b[0;32m      2\u001b[0m \u001b[1;33m\u001b[0m\u001b[0m\n\u001b[0;32m      3\u001b[0m \u001b[0mworkbook\u001b[0m \u001b[1;33m=\u001b[0m \u001b[0mxlsxwriter\u001b[0m\u001b[1;33m.\u001b[0m\u001b[0mWorkbook\u001b[0m\u001b[1;33m(\u001b[0m\u001b[1;34m'freeze-panes.xlsx'\u001b[0m\u001b[1;33m)\u001b[0m\u001b[1;33m\u001b[0m\u001b[1;33m\u001b[0m\u001b[0m\n\u001b[0;32m      4\u001b[0m \u001b[1;33m\u001b[0m\u001b[0m\n\u001b[0;32m      5\u001b[0m \u001b[0mworksheet\u001b[0m \u001b[1;33m=\u001b[0m \u001b[0mworkbook\u001b[0m\u001b[1;33m.\u001b[0m\u001b[0madd_worksheet\u001b[0m\u001b[1;33m(\u001b[0m\u001b[1;33m)\u001b[0m\u001b[1;33m\u001b[0m\u001b[1;33m\u001b[0m\u001b[0m\n",
      "\u001b[1;31mModuleNotFoundError\u001b[0m: No module named 'xlsxwriter'"
     ]
    }
   ],
   "source": [
    "import xlsxwriter\n",
    "\n",
    "workbook = xlsxwriter.Workbook('freeze-panes.xlsx')\n",
    "\n",
    "worksheet = workbook.add_worksheet()\n",
    " \n",
    "name = ['Jack','Jill','Bobby','Susan']\n",
    "grade = [85, 90, 99, 88]\n",
    "\n",
    "# Write our data\n",
    "worksheet.write_column('A1', name)\n",
    "worksheet.write_column('B1', grade)\n",
    "\n",
    "# Set the cell format for our average line\n",
    "cell_format = workbook.add_format({'font_color':'green','top':True,'bold':True})\n",
    "\n",
    "\n",
    "# Write our average grade lines\n",
    "worksheet.write('A5','Average',cell_format)\n",
    "worksheet.write_formula('B5','=AVERAGE(B1:B5)',cell_format)\n",
    "\n",
    "\n",
    "# Close the workbook -- do we have a match?\n",
    "workbook.close()"
   ]
  },
  {
   "cell_type": "code",
   "execution_count": null,
   "metadata": {},
   "outputs": [],
   "source": [
    "workbook = xlsxwriter.Workbook('freeze-panes.xlsx')\n",
    "\n",
    "worksheet = workbook.add_worksheet()\n",
    " \n",
    "name = ['Jack','Jill','Bobby','Susan']\n",
    "grade = [85, 90, 99, 88]\n",
    "\n",
    "# Write our data\n",
    "worksheet.___\n",
    "___\n",
    "\n",
    "# Set the cell format for our average line\n",
    "cell_format = workbook.add_format({___:'green','top':True,'bold':___})\n",
    "\n",
    "\n",
    "# Write our average grade lines\n",
    "worksheet.___('A5','Average',___)\n",
    "worksheet.___(___,___,___)\n",
    "\n",
    "\n",
    "# Close the workbook -- do we have a match?\n",
    "___"
   ]
  }
 ],
 "metadata": {
  "language_info": {
   "codemirror_mode": {
    "name": "ipython",
    "version": 3
   },
   "file_extension": ".py",
   "mimetype": "text/x-python",
   "name": "python",
   "nbconvert_exporter": "python",
   "pygments_lexer": "ipython3",
   "version": "3.7.4-final"
  },
  "orig_nbformat": 2,
  "kernelspec": {
   "name": "python3",
   "display_name": "Python 3"
  }
 },
 "nbformat": 4,
 "nbformat_minor": 2
}