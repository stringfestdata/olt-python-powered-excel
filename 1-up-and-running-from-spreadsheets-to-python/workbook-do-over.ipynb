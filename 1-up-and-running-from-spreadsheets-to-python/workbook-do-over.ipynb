{
 "cells": [
  {
   "cell_type": "markdown",
   "metadata": {},
   "source": [
    "# Beginning the workbook do-over\n",
    "\n",
    "Writing data to a workbook from `xlsxwriter` is great, but we were able to do that with `pandas` to begin with!\n",
    "\n",
    "Let's start jazzing up our workbooks using `xlsxwriter`:\n",
    "\n",
    "- Including cell formulas  \n",
    "- Changing fonts and colors  \n",
    "- Freezing panes  \n",
    "- Adding borders\n",
    "\n",
    "Let's get started!\n",
    "\n",
    "## Writing formulas \n",
    "\n",
    "We can add Excel formulas to our worksheet using `write.formula()`. We will provide `xlsxwriter` with where in the worksheet to write the formula, and what formula to write.\n",
    "\n",
    "This will work on any standard Excel formula, text or number! 🎉\n",
    "\n",
    "** You *must* include the `=` sign when writing the Excel formula. **\n"
   ]
  },
  {
   "cell_type": "code",
   "execution_count": 3,
   "metadata": {},
   "outputs": [],
   "source": [
    "import xlsxwriter\n",
    "\n",
    "workbook = xlsxwriter.Workbook('add-formula.xlsx')\n",
    "\n",
    "worksheet = workbook.add_worksheet()\n",
    "\n",
    " \n",
    "my_numbers = [1,2,3]\n",
    "my_string = 'Hello, world!'\n",
    "\n",
    "worksheet.write_column('A1', my_numbers)\n",
    "worksheet.write('D1', my_string)\n",
    "\n",
    "# Now let's write formulas to analyze that data\n",
    "\n",
    "worksheet.write_formula('A4','=SUM(A1:A3)')\n",
    "worksheet.write_formula('D2','=LEN(D1)')\n",
    "\n",
    "\n",
    "# 4. Close the workbook.\n",
    "workbook.close()"
   ]
  },
  {
   "cell_type": "markdown",
   "metadata": {},
   "source": [
    "## Formatting cells from `xlsxwriter`\n",
    "\n",
    "So far when we've added data to a worksheet we've provided `xlsxwriter` two bits of information:\n",
    "\n",
    "1. What to write  \n",
    "2. Where to write it\n",
    "\n",
    "Now let's add a third bit of information to the mix:\n",
    "\n",
    "3. How to *format* what is written\n",
    "\n",
    "We will do this by assigning a variable (which we will name  `cell_format` by default) and adding this as an argument in our write functions."
   ]
  },
  {
   "cell_type": "code",
   "execution_count": null,
   "metadata": {},
   "outputs": [],
   "source": [
    "workbook = xlsxwriter.Workbook('add-formats.xlsx')\n",
    "\n",
    "worksheet = workbook.add_worksheet()\n",
    " \n",
    "my_numbers = [1,2,3]\n",
    "\n",
    "# Let's define a cell_format to call with our\n",
    "# cell-writing\n",
    "\n",
    "# We need to add a custom *format* to our work:\n",
    "\n",
    "cell_format = workbook.add_format()\n",
    "\n",
    "# Now we can set the format to bold:\n"
   ]
  },
  {
   "cell_type": "markdown",
   "metadata": {},
   "source": [
    "Below is a table of some formats that we will be experimenting with for the remainder of this lesson.\n",
    "\n",
    "    "
   ]
  },
  {
   "cell_type": "markdown",
   "metadata": {},
   "source": [
    "## Formatting cells with a dictionary.\n",
    "\n",
    "It can be a pain to keep adding properties. \n",
    "\n",
    "We can add a bunch of properties at the same time using a *dictionary*. This, like a list, is a Python data type. \n",
    "\n",
    "Dictionaries are a series of `key : value` pairs enclosed by `{brackets}`.\n",
    "\n",
    "For example, we could change both the font of our worksheet to Segoe UI and change it to size 12 font using a dictionary like this:"
   ]
  },
  {
   "cell_type": "code",
   "execution_count": 11,
   "metadata": {},
   "outputs": [],
   "source": [
    "workbook = xlsxwriter.Workbook('add-formats-with-dict.xlsx')\n",
    "\n",
    "worksheet = workbook.add_worksheet()\n",
    " \n",
    "# We need to add a custom *format* to our work:\n",
    "cell_format = workbook.add_format({'font_size':12,'font_name':'Segoe UI'})\n",
    "\n",
    "\n",
    "worksheet.write('A1','Hello, world!', cell_format)\n",
    "\n",
    "\n",
    "# 4. Close the workbook.\n",
    "workbook.close()\n",
    "\n"
   ]
  },
  {
   "cell_type": "markdown",
   "metadata": {},
   "source": [
    "Check out Chapter 9 (\"The Format Class\") of the [`xlsxwriter` documentation](https://www.google.com/url?sa=t&rct=j&q=&esrc=s&source=web&cd=&cad=rja&uact=8&ved=2ahUKEwjKzKS-t6LqAhU1YjUKHYb7B6sQFjABegQIAxAB&url=https%3A%2F%2Freadthedocs.org%2Fprojects%2Fpandas-xlsxwriter-charts%2Fdownloads%2Fpdf%2Flatest%2F&usg=AOvVaw2Jj--yXp5tA1Razh_yub54) for further possibilities. \n",
    "\n",
    "We will continue working on these in next section. "
   ]
  },
  {
   "cell_type": "markdown",
   "metadata": {},
   "source": [
    "## Freezing panes\n",
    "\n",
    "Freezing panes helps tremendously with legibility, especially with larger datasets... which we *will* get to once we eventually start working with `pandas`. \n",
    "\n",
    "To do that, we can use the function `freeze_panes()`. This function takes two arguments:\n",
    "\n",
    "- The number of rows that should be frozen, and  \n",
    "- The number of columns that should be frozen. \n",
    "\n",
    "Let's try it out!"
   ]
  },
  {
   "cell_type": "code",
   "execution_count": 8,
   "metadata": {},
   "outputs": [],
   "source": [
    "workbook = xlsxwriter.Workbook('freeze-panes.xlsx')\n",
    "\n",
    "worksheet = workbook.add_worksheet()\n",
    " \n",
    "name = ['Jack','Jill','Bobby','Susan']\n",
    "grade = [85, 90, 99, 88]\n",
    "\n",
    "worksheet.write_column('A1', name)\n",
    "worksheet.write_column('B1', grade)\n",
    "\n",
    "# Freeze panes --\n",
    "# What do you expect this to do?\n",
    "worksheet.freeze_panes(1,2)\n",
    "\n",
    "workbook.close()"
   ]
  },
  {
   "cell_type": "markdown",
   "metadata": {},
   "source": [
    "# DRILL\n",
    "\n",
    "Build on the example above to make a worksheet that looks like the below. Note that this worksheet contains *no* frozen panes.\n",
    "\n",
    "![Workbook do-over drill solution](workbook-do-over-drill-solution.png)\n",
    "\n",
    "You can use the scaffolding below, or try it out yourself. "
   ]
  },
  {
   "cell_type": "code",
   "execution_count": null,
   "metadata": {},
   "outputs": [],
   "source": []
  },
  {
   "cell_type": "markdown",
   "metadata": {},
   "source": [
    "| Method             | Argument taken                                       |\n",
    "| ------------------ | ---------------------------------------------------- |\n",
    "| `set_bold()`       | `True`/`False`  (`True` by default)                  |\n",
    "| `set_font_color()` | A color (e.g. `red`, `blue` , `yellow`)              |\n",
    "| `set_font_size()`  | A font size (e.g. `Times New Roman`, `Comic Sans MS` |\n",
    "| `set_border()`     | `True`/`False` (`True` by default)                   |\n",
    "| `set_top_border()` | `True`/`False` (`True` by default)                   |\n"
   ]
  },
  {
   "cell_type": "code",
   "execution_count": null,
   "metadata": {},
   "outputs": [],
   "source": []
  }
 ],
 "metadata": {
  "language_info": {
   "codemirror_mode": {
    "name": "ipython",
    "version": 3
   },
   "file_extension": ".py",
   "mimetype": "text/x-python",
   "name": "python",
   "nbconvert_exporter": "python",
   "pygments_lexer": "ipython3",
   "version": "3.7.4-final"
  },
  "orig_nbformat": 2,
  "kernelspec": {
   "name": "python3",
   "display_name": "Python 3"
  }
 },
 "nbformat": 4,
 "nbformat_minor": 2
}