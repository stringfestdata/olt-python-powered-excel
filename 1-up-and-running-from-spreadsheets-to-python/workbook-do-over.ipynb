{
 "cells": [
  {
   "cell_type": "markdown",
   "metadata": {},
   "source": [
    "# Beginning the workbook do-over\n",
    "\n",
    "Writing data to a workbook from `xlsxwriter` is great, but we've not done much that wouldn't have been possible with `pandas.`\n",
    "\n",
    "Let's start jazzing up our workbooks using `xlsxwriter`:\n",
    "\n",
    "- Including cell formulas  \n",
    "- Changing fonts and colors  \n",
    "- Freezing panes  \n",
    "- Adding borders\n",
    "\n",
    "Let's get started!\n",
    "\n",
    "## Writing formulas \n",
    "\n",
    "We can add Excel formulas to our worksheet using `write.formula()`. We will provide `xlsxwriter` with where in the worksheet to write the formula, and what formula to write.\n",
    "\n",
    "This will work on any standard Excel formula, text or number! 🎉\n",
    "\n",
    "** You *must* include the `=` sign when writing the Excel formula. **\n"
   ]
  },
  {
   "cell_type": "code",
   "execution_count": 2,
   "metadata": {},
   "outputs": [],
   "source": [
    "import xlsxwriter\n",
    "\n",
    "# Write our workbook\n",
    "workbook = xlsxwriter.Workbook('add-formula.xlsx')\n",
    "\n",
    "# Add our worksheet\n",
    "worksheet = workbook.add_worksheet()\n",
    "\n",
    "# What do we want to write?\n",
    "my_numbers = [1,2,3]\n",
    "my_string = 'Hello, world!'\n",
    "\n",
    "# Write them\n",
    "worksheet.write_column('A1', my_numbers)\n",
    "worksheet.write('D1', my_string)\n",
    "\n",
    "# Now write formulas to analyze that data\n",
    "worksheet.write_formula('A4','=SUM(A1:A3)')\n",
    "worksheet.write_formula('D2','=LEN(D1)')\n",
    "\n",
    "# 4. Close the workbook.\n",
    "workbook.close()"
   ]
  },
  {
   "cell_type": "markdown",
   "metadata": {},
   "source": [
    "## Formatting cells from `xlsxwriter`\n",
    "\n",
    "So far when we've added data to a worksheet we've provided `xlsxwriter` two bits of information:\n",
    "\n",
    "1. What to write  \n",
    "2. Where to write it\n",
    "\n",
    "Now let's add a third bit of information to the mix:\n",
    "\n",
    "3. How to *format* what is written.\n",
    "\n",
    "We will do this by assigning a variable (which we will name  `cell_format` by default) and adding this as an argument in our `write` functions."
   ]
  },
  {
   "cell_type": "code",
   "execution_count": 3,
   "metadata": {},
   "outputs": [],
   "source": [
    "import xlsxwriter\n",
    "\n",
    "workbook = xlsxwriter.Workbook('add-formats.xlsx')\n",
    "\n",
    "worksheet = workbook.add_worksheet()\n",
    " \n",
    "my_numbers = [1,2,3]\n",
    "\n",
    "# Define a cell format\n",
    "cell_format = workbook.add_format()\n",
    "# Toggle bold on for this format\n",
    "cell_format.set_bold(True)\n",
    "\n",
    "# Now we can set the format to bold:\n",
    "worksheet.write_row('A1', my_numbers, cell_format)\n",
    "\n",
    "# Let's check it out!\n",
    "workbook.close()"
   ]
  },
  {
   "cell_type": "markdown",
   "metadata": {},
   "source": [
    "Below is a table of some formats that we will be experimenting with for the remainder of this lesson.\n",
    "\n",
    "| Method             | Argument taken                                       |\n",
    "| ------------------ | ---------------------------------------------------- |\n",
    "| `set_bold()`       | `True`/`False`  (`True` by default)                  |\n",
    "| `set_font_color()` | A color (e.g. `red`, `blue` , `yellow`)              |\n",
    "| `set_font_size()`  | A font size (e.g. 12, 14, 16)                        |\n",
    "| `set_font_name()`  | A font name (e.g. `Times New Roman`, `Comic Sans MS` |\n",
    "| `set_border()`     | `True`/`False` (`True` by default)                   |\n",
    "| `set_top_border()` | `True`/`False` (`True` by default)                   |\n",
    "\n",
    "    \n",
    "Let's get more creative with our formatting!"
   ]
  },
  {
   "cell_type": "code",
   "execution_count": 4,
   "metadata": {},
   "outputs": [],
   "source": [
    "import xlsxwriter\n",
    "\n",
    "workbook = xlsxwriter.Workbook('add-formats.xlsx')\n",
    "\n",
    "worksheet = workbook.add_worksheet()\n",
    " \n",
    "my_numbers = [1,2,3]\n",
    "my_strings = ['Having','fun','yet?']\n",
    "my_python_fun = ['Python', 'IS', 'fun!']\n",
    "\n",
    "# Define a first cell format\n",
    "cell_format_1 = workbook.add_format()\n",
    "# Toggle bold on for this format\n",
    "cell_format_1.set_bold(True)\n",
    "# Add a border around this cell format\n",
    "cell_format_1.set_border(True)\n",
    "\n",
    "# Define a second cell format\n",
    "cell_format_2 = workbook.add_format()\n",
    "# Add color to format\n",
    "cell_format_2.set_font_color('pink')\n",
    "# Add custom font to format\n",
    "cell_format_2.set_font_name('Comic Sans MS')\n",
    "\n",
    "# Write our formatted data\n",
    "worksheet.write_row('A1', my_numbers, cell_format_1)\n",
    "worksheet.write_row('A2',my_strings, cell_format_2)\n",
    "worksheet.write_column('E1', my_python_fun, cell_format_2)\n",
    "\n",
    "# Let's check it out!\n",
    "workbook.close()"
   ]
  },
  {
   "cell_type": "markdown",
   "metadata": {},
   "source": [
    "## Setting cell formats via a dictionary\n",
    "\n",
    "It is a pain to keep writing a new line each time we want to add a new cell format. \n",
    "\n",
    "Instead, we can add a bunch of properties at the same time using a *dictionary*. This, like a list, is a Python data type. \n",
    "\n",
    "Dictionaries are a series of `key : value` pairs enclosed by `{brackets}`. For more on how dictionaries work, check out the resources.\n",
    "\n",
    "Rather than use `set_bold()` or `set_font_size()`, we will pass `bold` or `font_size` as keys in our dictionary, with the properties we want assigned to them in our values.\n",
    "\n",
    "For example, we could change both the font of our worksheet to Segoe UI and change it to size 12 font using a dictionary like this:"
   ]
  },
  {
   "cell_type": "code",
   "execution_count": 5,
   "metadata": {},
   "outputs": [],
   "source": [
    "workbook = xlsxwriter.Workbook('add-formats-with-dict.xlsx')\n",
    "\n",
    "worksheet = workbook.add_worksheet()\n",
    " \n",
    "# We will set our formats by passing a dictionary to `add_format()`\n",
    "cell_format = workbook.add_format({'font_size':12,'font_name':'Segoe UI'})\n",
    "\n",
    "# To turn on bold formatting, borders, etc, pass True to the dictionary\n",
    "cell_format_2 = workbook.add_format({'font_color':'Blue','bold':True,'border':True})\n",
    "\n",
    "\n",
    "# Write with our formats\n",
    "worksheet.write('A1','Hello, world!', cell_format)\n",
    "worksheet.write('A2', 'Python is fun!', cell_format_2)\n",
    "\n",
    "# Close and admire\n",
    "workbook.close()\n",
    "\n"
   ]
  },
  {
   "cell_type": "markdown",
   "metadata": {},
   "source": [
    "Check out Chapter 9 (\"The Format Class\") of the [`xlsxwriter` documentation](https://github.com/jmcnamara/XlsxWriter/blob/master/docs/XlsxWriter.pdf) for further possibilities on formatting cells. \n",
    "\n",
    "Let's look at one more helpful bit of cell formatting before moving on."
   ]
  },
  {
   "cell_type": "markdown",
   "metadata": {},
   "source": [
    "## Freezing panes\n",
    "\n",
    "Freezing panes helps tremendously with legibility, especially with larger datasets... which we *will* get to once we eventually start working with `pandas`. \n",
    "\n",
    "To do that, we can use the `freeze_panes()` method, which takes two arguments:\n",
    "\n",
    "- The number of rows that should be frozen, and  \n",
    "- The number of columns that should be frozen. \n",
    "\n",
    "Let's try it out!"
   ]
  },
  {
   "cell_type": "code",
   "execution_count": 1,
   "metadata": {},
   "outputs": [
    {
     "output_type": "error",
     "ename": "NameError",
     "evalue": "name 'xlsxwriter' is not defined",
     "traceback": [
      "\u001b[1;31m---------------------------------------------------------------------------\u001b[0m",
      "\u001b[1;31mNameError\u001b[0m                                 Traceback (most recent call last)",
      "\u001b[1;32m<ipython-input-1-cb0684739806>\u001b[0m in \u001b[0;36m<module>\u001b[1;34m\u001b[0m\n\u001b[1;32m----> 1\u001b[1;33m \u001b[0mworkbook\u001b[0m \u001b[1;33m=\u001b[0m \u001b[0mxlsxwriter\u001b[0m\u001b[1;33m.\u001b[0m\u001b[0mWorkbook\u001b[0m\u001b[1;33m(\u001b[0m\u001b[1;34m'freeze-panes.xlsx'\u001b[0m\u001b[1;33m)\u001b[0m\u001b[1;33m\u001b[0m\u001b[1;33m\u001b[0m\u001b[0m\n\u001b[0m\u001b[0;32m      2\u001b[0m \u001b[1;33m\u001b[0m\u001b[0m\n\u001b[0;32m      3\u001b[0m \u001b[0mworksheet\u001b[0m \u001b[1;33m=\u001b[0m \u001b[0mworkbook\u001b[0m\u001b[1;33m.\u001b[0m\u001b[0madd_worksheet\u001b[0m\u001b[1;33m(\u001b[0m\u001b[1;33m)\u001b[0m\u001b[1;33m\u001b[0m\u001b[1;33m\u001b[0m\u001b[0m\n\u001b[0;32m      4\u001b[0m \u001b[1;33m\u001b[0m\u001b[0m\n\u001b[0;32m      5\u001b[0m \u001b[0mname\u001b[0m \u001b[1;33m=\u001b[0m \u001b[1;33m[\u001b[0m\u001b[1;34m'Jack'\u001b[0m\u001b[1;33m,\u001b[0m\u001b[1;34m'Jill'\u001b[0m\u001b[1;33m,\u001b[0m\u001b[1;34m'Bobby'\u001b[0m\u001b[1;33m,\u001b[0m\u001b[1;34m'Susan'\u001b[0m\u001b[1;33m]\u001b[0m\u001b[1;33m\u001b[0m\u001b[1;33m\u001b[0m\u001b[0m\n",
      "\u001b[1;31mNameError\u001b[0m: name 'xlsxwriter' is not defined"
     ]
    }
   ],
   "source": [
    "workbook = xlsxwriter.Workbook('freeze-panes.xlsx')\n",
    "\n",
    "worksheet = workbook.add_worksheet()\n",
    " \n",
    "name = ['Jack','Jill','Bobby','Susan']\n",
    "grade = [85, 90, 99, 88]\n",
    "\n",
    "worksheet.write_column('A1', name)\n",
    "worksheet.write_column('B1', grade)\n",
    "\n",
    "# Freeze panes --\n",
    "# What do you expect this to do?\n",
    "worksheet.freeze_panes(1,2)\n",
    "\n",
    "# Take a look if the panes froze\n",
    "# as expected!\n",
    "workbook.close()"
   ]
  },
  {
   "cell_type": "markdown",
   "metadata": {},
   "source": [
    "# DRILL\n",
    "\n",
    "Build on the example above to make a worksheet that looks like the below. Note that this worksheet contains *no* frozen panes.\n",
    "\n",
    "![Workbook do-over drill solution](images/workbook-do-over-drill-solution.png)\n",
    "\n",
    "You can use the scaffolding below, or try it out yourself. "
   ]
  },
  {
   "cell_type": "code",
   "execution_count": 3,
   "metadata": {},
   "outputs": [],
   "source": [
    "workbook = xlsxwriter.Workbook('freeze-panes.xlsx')\n",
    "\n",
    "worksheet = workbook.add_worksheet()\n",
    " \n",
    "name = ['Jack','Jill','Bobby','Susan']\n",
    "grade = [85, 90, 99, 88]\n",
    "\n",
    "# Write our data\n",
    "worksheet.___\n",
    "___\n",
    "\n",
    "# Set the cell format for our average line\n",
    "cell_format = workbook.add_format({___:'green','top':True,'bold':___})\n",
    "\n",
    "\n",
    "# Write our average grade lines\n",
    "worksheet.___('A5','Average',___)\n",
    "worksheet.___(___,___,___)\n",
    "\n",
    "\n",
    "# Close the workbook -- do we have a match?\n",
    "___"
   ]
  },
  {
   "cell_type": "markdown",
   "metadata": {},
   "source": [
    "# QUESTIONS?\n",
    "\n",
    "See you in the next section!"
   ]
  },
  {
   "cell_type": "code",
   "execution_count": null,
   "metadata": {},
   "outputs": [],
   "source": []
  }
 ],
 "metadata": {
  "language_info": {
   "codemirror_mode": {
    "name": "ipython",
    "version": 3
   },
   "file_extension": ".py",
   "mimetype": "text/x-python",
   "name": "python",
   "nbconvert_exporter": "python",
   "pygments_lexer": "ipython3",
   "version": "3.8.3-final"
  },
  "orig_nbformat": 2,
  "kernelspec": {
   "name": "python3",
   "display_name": "Python 3"
  }
 },
 "nbformat": 4,
 "nbformat_minor": 2
}