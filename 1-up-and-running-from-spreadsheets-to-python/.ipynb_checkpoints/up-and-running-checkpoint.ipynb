{
 "cells": [
  {
   "cell_type": "markdown",
   "metadata": {},
   "source": [
    "# Hello, Jupyter\n",
    "\n",
    "Jupyter is a popular environment for working with Python.\n",
    "\n",
    "At a high level, it consists of **cells** which can contain text (like this one)... "
   ]
  },
  {
   "cell_type": "code",
   "execution_count": 3,
   "metadata": {
    "tags": []
   },
   "outputs": [
    {
     "name": "stdout",
     "output_type": "stream",
     "text": [
      "Hello from Jupyter\n"
     ]
    }
   ],
   "source": [
    "# ... or code, like this one.\n",
    "# Go ahead and print('Hello from Jupyter') below.\n",
    "# By the way, these hashtags represent human-read comments,\n",
    "# not machine-read code. \n",
    "\n",
    "print('Hello from Jupyter')"
   ]
  },
  {
   "cell_type": "markdown",
   "metadata": {},
   "source": [
    "For a more in-depth look at working with Jupyter notebooks, check out the course resources in the conclusion."
   ]
  },
  {
   "cell_type": "markdown",
   "metadata": {},
   "source": [
    "# Reading spreadsheet data into Python\n",
    "\n",
    "You will usually start working with data in Python by importing it from an external source. \n",
    "\n",
    "The `read_excel()` function from `pandas` will be helpful for reading worksheet data into Python. \n",
    "\n",
    "For more about working with `pandas`, check out the recommended resources in the conclusion. \n",
    "\n",
    "## Demo: `superstore.xlsx`\n",
    "\n",
    "This workbook contains three worksheets. Let's read each of them into Python and perform some data analysis."
   ]
  },
  {
   "cell_type": "code",
   "execution_count": 3,
   "metadata": {},
   "outputs": [
    {
     "data": {
      "text/html": [
       "<div>\n",
       "<style scoped>\n",
       "    .dataframe tbody tr th:only-of-type {\n",
       "        vertical-align: middle;\n",
       "    }\n",
       "\n",
       "    .dataframe tbody tr th {\n",
       "        vertical-align: top;\n",
       "    }\n",
       "\n",
       "    .dataframe thead th {\n",
       "        text-align: right;\n",
       "    }\n",
       "</style>\n",
       "<table border=\"1\" class=\"dataframe\">\n",
       "  <thead>\n",
       "    <tr style=\"text-align: right;\">\n",
       "      <th></th>\n",
       "      <th>Row ID</th>\n",
       "      <th>Order ID</th>\n",
       "      <th>Order Date</th>\n",
       "      <th>Ship Date</th>\n",
       "      <th>Ship Mode</th>\n",
       "      <th>Customer ID</th>\n",
       "      <th>Customer Name</th>\n",
       "      <th>Segment</th>\n",
       "      <th>Country</th>\n",
       "      <th>City</th>\n",
       "      <th>...</th>\n",
       "      <th>Postal Code</th>\n",
       "      <th>Region</th>\n",
       "      <th>Product ID</th>\n",
       "      <th>Category</th>\n",
       "      <th>Sub-Category</th>\n",
       "      <th>Product Name</th>\n",
       "      <th>Sales</th>\n",
       "      <th>Quantity</th>\n",
       "      <th>Discount</th>\n",
       "      <th>Profit</th>\n",
       "    </tr>\n",
       "  </thead>\n",
       "  <tbody>\n",
       "    <tr>\n",
       "      <td>0</td>\n",
       "      <td>7981</td>\n",
       "      <td>CA-2011-103800</td>\n",
       "      <td>2013-01-03</td>\n",
       "      <td>2013-01-07</td>\n",
       "      <td>Standard Class</td>\n",
       "      <td>DP-13000</td>\n",
       "      <td>Darren Powers</td>\n",
       "      <td>Consumer</td>\n",
       "      <td>United States</td>\n",
       "      <td>Houston</td>\n",
       "      <td>...</td>\n",
       "      <td>77095</td>\n",
       "      <td>Central</td>\n",
       "      <td>OFF-PA-10000174</td>\n",
       "      <td>Office Supplies</td>\n",
       "      <td>Paper</td>\n",
       "      <td>Message Book, Wirebound, Four 5 1/2\" X 4\" Form...</td>\n",
       "      <td>16.448</td>\n",
       "      <td>2</td>\n",
       "      <td>0.2</td>\n",
       "      <td>5.5512</td>\n",
       "    </tr>\n",
       "    <tr>\n",
       "      <td>1</td>\n",
       "      <td>740</td>\n",
       "      <td>CA-2011-112326</td>\n",
       "      <td>2013-01-04</td>\n",
       "      <td>2013-01-08</td>\n",
       "      <td>Standard Class</td>\n",
       "      <td>PO-19195</td>\n",
       "      <td>Phillina Ober</td>\n",
       "      <td>Home Office</td>\n",
       "      <td>United States</td>\n",
       "      <td>Naperville</td>\n",
       "      <td>...</td>\n",
       "      <td>60540</td>\n",
       "      <td>Central</td>\n",
       "      <td>OFF-LA-10003223</td>\n",
       "      <td>Office Supplies</td>\n",
       "      <td>Labels</td>\n",
       "      <td>Avery 508</td>\n",
       "      <td>11.784</td>\n",
       "      <td>3</td>\n",
       "      <td>0.2</td>\n",
       "      <td>4.2717</td>\n",
       "    </tr>\n",
       "    <tr>\n",
       "      <td>2</td>\n",
       "      <td>741</td>\n",
       "      <td>CA-2011-112326</td>\n",
       "      <td>2013-01-04</td>\n",
       "      <td>2013-01-08</td>\n",
       "      <td>Standard Class</td>\n",
       "      <td>PO-19195</td>\n",
       "      <td>Phillina Ober</td>\n",
       "      <td>Home Office</td>\n",
       "      <td>United States</td>\n",
       "      <td>Naperville</td>\n",
       "      <td>...</td>\n",
       "      <td>60540</td>\n",
       "      <td>Central</td>\n",
       "      <td>OFF-ST-10002743</td>\n",
       "      <td>Office Supplies</td>\n",
       "      <td>Storage</td>\n",
       "      <td>SAFCO Boltless Steel Shelving</td>\n",
       "      <td>272.736</td>\n",
       "      <td>3</td>\n",
       "      <td>0.2</td>\n",
       "      <td>-64.7748</td>\n",
       "    </tr>\n",
       "    <tr>\n",
       "      <td>3</td>\n",
       "      <td>742</td>\n",
       "      <td>CA-2011-112326</td>\n",
       "      <td>2013-01-04</td>\n",
       "      <td>2013-01-08</td>\n",
       "      <td>Standard Class</td>\n",
       "      <td>PO-19195</td>\n",
       "      <td>Phillina Ober</td>\n",
       "      <td>Home Office</td>\n",
       "      <td>United States</td>\n",
       "      <td>Naperville</td>\n",
       "      <td>...</td>\n",
       "      <td>60540</td>\n",
       "      <td>Central</td>\n",
       "      <td>OFF-BI-10004094</td>\n",
       "      <td>Office Supplies</td>\n",
       "      <td>Binders</td>\n",
       "      <td>GBC Standard Plastic Binding Systems Combs</td>\n",
       "      <td>3.540</td>\n",
       "      <td>2</td>\n",
       "      <td>0.8</td>\n",
       "      <td>-5.4870</td>\n",
       "    </tr>\n",
       "    <tr>\n",
       "      <td>4</td>\n",
       "      <td>1760</td>\n",
       "      <td>CA-2011-141817</td>\n",
       "      <td>2013-01-05</td>\n",
       "      <td>2013-01-12</td>\n",
       "      <td>Standard Class</td>\n",
       "      <td>MB-18085</td>\n",
       "      <td>Mick Brown</td>\n",
       "      <td>Consumer</td>\n",
       "      <td>United States</td>\n",
       "      <td>Philadelphia</td>\n",
       "      <td>...</td>\n",
       "      <td>19143</td>\n",
       "      <td>East</td>\n",
       "      <td>OFF-AR-10003478</td>\n",
       "      <td>Office Supplies</td>\n",
       "      <td>Art</td>\n",
       "      <td>Avery Hi-Liter EverBold Pen Style Fluorescent ...</td>\n",
       "      <td>19.536</td>\n",
       "      <td>3</td>\n",
       "      <td>0.2</td>\n",
       "      <td>4.8840</td>\n",
       "    </tr>\n",
       "  </tbody>\n",
       "</table>\n",
       "<p>5 rows × 21 columns</p>\n",
       "</div>"
      ],
      "text/plain": [
       "   Row ID        Order ID Order Date  Ship Date       Ship Mode Customer ID  \\\n",
       "0    7981  CA-2011-103800 2013-01-03 2013-01-07  Standard Class    DP-13000   \n",
       "1     740  CA-2011-112326 2013-01-04 2013-01-08  Standard Class    PO-19195   \n",
       "2     741  CA-2011-112326 2013-01-04 2013-01-08  Standard Class    PO-19195   \n",
       "3     742  CA-2011-112326 2013-01-04 2013-01-08  Standard Class    PO-19195   \n",
       "4    1760  CA-2011-141817 2013-01-05 2013-01-12  Standard Class    MB-18085   \n",
       "\n",
       "   Customer Name      Segment        Country          City  ... Postal Code  \\\n",
       "0  Darren Powers     Consumer  United States       Houston  ...       77095   \n",
       "1  Phillina Ober  Home Office  United States    Naperville  ...       60540   \n",
       "2  Phillina Ober  Home Office  United States    Naperville  ...       60540   \n",
       "3  Phillina Ober  Home Office  United States    Naperville  ...       60540   \n",
       "4     Mick Brown     Consumer  United States  Philadelphia  ...       19143   \n",
       "\n",
       "    Region       Product ID         Category Sub-Category  \\\n",
       "0  Central  OFF-PA-10000174  Office Supplies        Paper   \n",
       "1  Central  OFF-LA-10003223  Office Supplies       Labels   \n",
       "2  Central  OFF-ST-10002743  Office Supplies      Storage   \n",
       "3  Central  OFF-BI-10004094  Office Supplies      Binders   \n",
       "4     East  OFF-AR-10003478  Office Supplies          Art   \n",
       "\n",
       "                                        Product Name    Sales  Quantity  \\\n",
       "0  Message Book, Wirebound, Four 5 1/2\" X 4\" Form...   16.448         2   \n",
       "1                                          Avery 508   11.784         3   \n",
       "2                      SAFCO Boltless Steel Shelving  272.736         3   \n",
       "3         GBC Standard Plastic Binding Systems Combs    3.540         2   \n",
       "4  Avery Hi-Liter EverBold Pen Style Fluorescent ...   19.536         3   \n",
       "\n",
       "   Discount   Profit  \n",
       "0       0.2   5.5512  \n",
       "1       0.2   4.2717  \n",
       "2       0.2 -64.7748  \n",
       "3       0.8  -5.4870  \n",
       "4       0.2   4.8840  \n",
       "\n",
       "[5 rows x 21 columns]"
      ]
     },
     "execution_count": 3,
     "metadata": {},
     "output_type": "execute_result"
    }
   ],
   "source": [
    "# Import pandas\n",
    "import pandas as pd\n",
    "\n",
    "# Read in our worksheet with read_excel()\n",
    "orders = pd.read_excel(\"superstore.xlsx\")\n",
    "\n",
    "# Sneak peek of the data with head()\n",
    "orders.head()"
   ]
  },
  {
   "cell_type": "markdown",
   "metadata": {},
   "source": [
    "By default, `pandas.read_excel()` reads in the active worksheet in the workbook. If we want to read in others, we will specify a second argument, `sheet_name`.    "
   ]
  },
  {
   "cell_type": "code",
   "execution_count": 5,
   "metadata": {
    "tags": []
   },
   "outputs": [
    {
     "name": "stdout",
     "output_type": "stream",
     "text": [
      "Row ID        Order ID Order Date  Ship Date       Ship Mode Customer ID  \\\n",
      "0    7981  CA-2011-103800 2013-01-03 2013-01-07  Standard Class    DP-13000   \n",
      "1     740  CA-2011-112326 2013-01-04 2013-01-08  Standard Class    PO-19195   \n",
      "2     741  CA-2011-112326 2013-01-04 2013-01-08  Standard Class    PO-19195   \n",
      "3     742  CA-2011-112326 2013-01-04 2013-01-08  Standard Class    PO-19195   \n",
      "4    1760  CA-2011-141817 2013-01-05 2013-01-12  Standard Class    MB-18085   \n",
      "\n",
      "   Customer Name      Segment        Country          City  ... Postal Code  \\\n",
      "0  Darren Powers     Consumer  United States       Houston  ...       77095   \n",
      "1  Phillina Ober  Home Office  United States    Naperville  ...       60540   \n",
      "2  Phillina Ober  Home Office  United States    Naperville  ...       60540   \n",
      "3  Phillina Ober  Home Office  United States    Naperville  ...       60540   \n",
      "4     Mick Brown     Consumer  United States  Philadelphia  ...       19143   \n",
      "\n",
      "    Region       Product ID         Category Sub-Category  \\\n",
      "0  Central  OFF-PA-10000174  Office Supplies        Paper   \n",
      "1  Central  OFF-LA-10003223  Office Supplies       Labels   \n",
      "2  Central  OFF-ST-10002743  Office Supplies      Storage   \n",
      "3  Central  OFF-BI-10004094  Office Supplies      Binders   \n",
      "4     East  OFF-AR-10003478  Office Supplies          Art   \n",
      "\n",
      "                                        Product Name    Sales  Quantity  \\\n",
      "0  Message Book, Wirebound, Four 5 1/2\" X 4\" Form...   16.448         2   \n",
      "1                                          Avery 508   11.784         3   \n",
      "2                      SAFCO Boltless Steel Shelving  272.736         3   \n",
      "3         GBC Standard Plastic Binding Systems Combs    3.540         2   \n",
      "4  Avery Hi-Liter EverBold Pen Style Fluorescent ...   19.536         3   \n",
      "\n",
      "   Discount   Profit  \n",
      "0       0.2   5.5512  \n",
      "1       0.2   4.2717  \n",
      "2       0.2 -64.7748  \n",
      "3       0.8  -5.4870  \n",
      "4       0.2   4.8840  \n",
      "\n",
      "[5 rows x 21 columns]\n",
      "  Returned           Updated Order Returns\n",
      "0      Yes  CA-2014-153822 Product Damaged\n",
      "1      Yes  CA-2014-129707 Product Damaged\n",
      "2      Yes  CA-2011-152345 Product Damaged\n",
      "3      Yes  CA-2012-156440 Product Damaged\n",
      "4      Yes  US-2014-155999 Product Damaged\n",
      "              Person   Region\n",
      "0      Anna Andreadi     West\n",
      "1        Chuck Magee     East\n",
      "2     Kelly Williams  Central\n",
      "3  Cassandra Brandow    South\n"
     ]
    }
   ],
   "source": [
    "# Read in all three worksheets this time\n",
    "orders = pd.read_excel(\"superstore.xlsx\", sheet_name='orders')\n",
    "returns = pd.read_excel(\"superstore.xlsx\", sheet_name='returns')\n",
    "people = pd.read_excel(\"superstore.xlsx\", sheet_name='people')\n",
    "\n",
    "# Preview all three `pandas` DataFrames\n",
    "print(orders.head())\n",
    "print(returns.head())\n",
    "print(people.head())"
   ]
  },
  {
   "cell_type": "code",
   "execution_count": 7,
   "metadata": {
    "tags": []
   },
   "outputs": [
    {
     "name": "stdout",
     "output_type": "stream",
     "text": [
      "Index(['row id', 'order id', 'order date', 'ship date', 'ship mode',\n",
      "       'customer id', 'customer name', 'segment', 'country', 'city', 'state',\n",
      "       'postal code', 'region', 'product id', 'category', 'sub-category',\n",
      "       'product name', 'sales', 'quantity', 'discount', 'profit'],\n",
      "      dtype='object')\n",
      "Index(['person', 'region'], dtype='object')\n"
     ]
    }
   ],
   "source": [
    "# Renaming columns to make them easier to\n",
    "# operate on in `pandas`\n",
    "orders.columns = orders.columns.str.lower()\n",
    "people.columns = people.columns.str.lower()\n",
    "\n",
    "print(orders.columns)\n",
    "print(people.columns)"
   ]
  },
  {
   "cell_type": "markdown",
   "metadata": {},
   "source": [
    "We will now \"look up\" the salesperson names into the orders data, find the total sales for each salesperson, and then write that to Excel.\n",
    "\n",
    "Don't worry too much about the code to manipulate the data in `pandas`.\n",
    "\n",
    "Instead, focus on the code to read and write data in and out of Excel, the focus of this course.\n",
    "\n",
    "I will have resources at the conclusion of this book if you would like to learn more about analyzing and manipulating datasets in Python."
   ]
  },
  {
   "cell_type": "code",
   "execution_count": 8,
   "metadata": {},
   "outputs": [
    {
     "data": {
      "text/html": [
       "<div>\n",
       "<style scoped>\n",
       "    .dataframe tbody tr th:only-of-type {\n",
       "        vertical-align: middle;\n",
       "    }\n",
       "\n",
       "    .dataframe tbody tr th {\n",
       "        vertical-align: top;\n",
       "    }\n",
       "\n",
       "    .dataframe thead th {\n",
       "        text-align: right;\n",
       "    }\n",
       "</style>\n",
       "<table border=\"1\" class=\"dataframe\">\n",
       "  <thead>\n",
       "    <tr style=\"text-align: right;\">\n",
       "      <th></th>\n",
       "      <th>sales</th>\n",
       "      <th>profit</th>\n",
       "    </tr>\n",
       "    <tr>\n",
       "      <th>person</th>\n",
       "      <th></th>\n",
       "      <th></th>\n",
       "    </tr>\n",
       "  </thead>\n",
       "  <tbody>\n",
       "    <tr>\n",
       "      <td>Anna Andreadi</td>\n",
       "      <td>725457.8245</td>\n",
       "      <td>108418.4489</td>\n",
       "    </tr>\n",
       "    <tr>\n",
       "      <td>Cassandra Brandow</td>\n",
       "      <td>391721.9050</td>\n",
       "      <td>46749.4303</td>\n",
       "    </tr>\n",
       "    <tr>\n",
       "      <td>Chuck Magee</td>\n",
       "      <td>678781.2400</td>\n",
       "      <td>91522.7800</td>\n",
       "    </tr>\n",
       "    <tr>\n",
       "      <td>Kelly Williams</td>\n",
       "      <td>501239.8908</td>\n",
       "      <td>39706.3625</td>\n",
       "    </tr>\n",
       "  </tbody>\n",
       "</table>\n",
       "</div>"
      ],
      "text/plain": [
       "                         sales       profit\n",
       "person                                     \n",
       "Anna Andreadi      725457.8245  108418.4489\n",
       "Cassandra Brandow  391721.9050   46749.4303\n",
       "Chuck Magee        678781.2400   91522.7800\n",
       "Kelly Williams     501239.8908   39706.3625"
      ]
     },
     "execution_count": 8,
     "metadata": {},
     "output_type": "execute_result"
    }
   ],
   "source": [
    "# \"Look up\" the salesperson into the orders data\n",
    "report = orders.merge(people, on='region', how='left')\n",
    "\n",
    "# Find total sales by rep\n",
    "report_agg = report.groupby(['person'])['sales','profit'].sum()\n",
    "\n",
    "# Preview our report\n",
    "report_agg.head()"
   ]
  },
  {
   "cell_type": "markdown",
   "metadata": {},
   "source": [
    "We can now write the results of `report_agg` to Excel using the `to_excel()` method. We will specify what to call this file. "
   ]
  },
  {
   "cell_type": "code",
   "execution_count": 44,
   "metadata": {},
   "outputs": [],
   "source": [
    "# Let's write this to Excel.\n",
    "\n",
    "report_agg.to_excel(\"sales-report.xlsx\")"
   ]
  },
  {
   "cell_type": "markdown",
   "metadata": {},
   "source": [
    "By default, our workbook will be written to the same folder as this file. To customize or change that, check out file paths and directory paths in Python."
   ]
  },
  {
   "cell_type": "markdown",
   "metadata": {},
   "source": [
    "# DRILL: `baseball.xlsx`\n",
    "\n",
    "Now it's your turn to read worksheets into `pandas` DataFrames, operate on them, and export the results back to Excel.\n",
    "\n",
    "I have completed the code to conduct the data manipulation. You finish the code to read and write the data. "
   ]
  },
  {
   "cell_type": "code",
   "execution_count": null,
   "metadata": {},
   "outputs": [],
   "source": [
    "# Import pandas. We will need it for the data manipulation\n",
    "import pandas as pd\n",
    "\n",
    "\n",
    "#  Read the `teams`, `salaries` and `people` worksheets \n",
    "#  into DataFrames of the same names.\n",
    "teams = pd.___('baseball.xlsx', ___)\n",
    "salaries = ___(___, ___=___)\n",
    "people = ___(___, ___=___)"
   ]
  },
  {
   "cell_type": "code",
   "execution_count": 6,
   "metadata": {},
   "outputs": [
    {
     "data": {
      "text/plain": [
       "playerID   nameFirst  nameLast\n",
       "aardsda01  David      Aardsma     9259750\n",
       "aasedo01   Don        Aase        2300000\n",
       "abadan01   Andy       Abad         327000\n",
       "abadfe01   Fernando   Abad        3766400\n",
       "abbotje01  Jeff       Abbott       985000\n",
       "Name: salary, dtype: int64"
      ]
     },
     "execution_count": 6,
     "metadata": {},
     "output_type": "execute_result"
    }
   ],
   "source": [
    "# \"Look up\" first names and \n",
    "# last names from the people table into the\n",
    "# salaries table. \n",
    "salaries_report = salaries.merge(people[['playerID','nameFirst','nameLast']],on='playerID',how='left')\n",
    "\n",
    "# Find total salaries by player.\n",
    "# This line is completed for you to run. \n",
    "salaries_agg = salaries_report.groupby(['playerID','nameFirst','nameLast'])['salary'].sum()\n",
    "\n",
    "# Preview our report\n",
    "salaries_agg.head()"
   ]
  },
  {
   "cell_type": "code",
   "execution_count": 71,
   "metadata": {},
   "outputs": [],
   "source": [
    "# 4. Write this DataFrame to an Excel file\n",
    "# called `salaries-report.xlsx`\n",
    "___.___(___)"
   ]
  },
  {
   "cell_type": "markdown",
   "metadata": {},
   "source": [
    "Congrats on moving Excel data in and out of Python using `pandas`! Now, let's look at another, more versatile way for producing Excel reports from Python."
   ]
  },
  {
   "cell_type": "markdown",
   "metadata": {},
   "source": [
    "# `xlsxwriter` basics# `xlsxwriter` basics\n",
    "\n",
    "`pandas` is great for performing automated data analysis and exporting the results of that analysis back to Excel, as you saw in the previous lesson. \n",
    "\n",
    "... but what about automating *Excel* itself?\n",
    "\n",
    "- Freezing panes\n",
    "- Changing fonts\n",
    "- Adding charts\n",
    "- Doing all that formatting stuff that your boss loves\n",
    "\n",
    "![Spreadsheet design is my passion!](images/spreadsheet-design-is-my-passion.png)\n",
    "\n",
    "## Enter `xlsxwriter`. \n",
    "\n",
    "- A module for creating Excel files\n",
    "- [See documentation](https://xlsxwriter.readthedocs.io)\n",
    " - [Get the PDF guide](https://www.google.com/url?sa=t&rct=j&q=&esrc=s&source=web&cd=&ved=2ahUKEwjJ9IDm0__pAhXFRzABHb81Bf4QFjAAegQIAhAB&url=https%3A%2F%2Fraw.githubusercontent.com%2Fjmcnamara%2FXlsxWriter%2Fmaster%2Fdocs%2FXlsxWriter.pdf&usg=AOvVaw3kHptxxFcoER5_Jgt9P8O8) (617 pages long!) We will *just* scratch the surface."
   ]
  },
  {
   "cell_type": "markdown",
   "metadata": {},
   "source": [
    "## `xlsxwriter` basics\n",
    "\n",
    "### Installation\n",
    "\n",
    "If xlsxwriter is not on your machine, you can install it from Jupyter\n",
    "with the below code. Only run it once to install!"
   ]
  },
  {
   "cell_type": "code",
   "execution_count": 1,
   "metadata": {},
   "outputs": [],
   "source": [
    "# Run the below code once to install `xlsxwriter`.\n",
    "# Do not remove the exclamation mark -- only the #hashtag!\n",
    "\n",
    "#!pip install xlsxwriter"
   ]
  },
  {
   "cell_type": "markdown",
   "metadata": {},
   "source": [
    "## \"Hello, world\" from `xlsxwriter`\n",
    "\n",
    "Creating workbooks from `xlsxwriter` is more versatile than `pandas`, but also more involved. \n",
    "\n",
    "Here's our basic workflow for `xlsxwriter`:\n",
    "\n",
    "1. Initialize the workbook\n",
    "2. Add a worksheet\n",
    "3. Make your changes\n",
    "4. Close the workbook\n",
    "\n",
    "### Loading `xlsxwriter`\n",
    "\n",
    "While we've installed `xlsxwriter`, we still need to *load* it if we want to use it. This is accomplished with the code `import xlsxwriter`. \n",
    "\n",
    "We will need to execute this code each time we start a new Python session."
   ]
  },
  {
   "cell_type": "code",
   "execution_count": 2,
   "metadata": {},
   "outputs": [],
   "source": [
    "# Do this with each new session\n",
    "import xlsxwriter"
   ]
  },
  {
   "cell_type": "markdown",
   "metadata": {},
   "source": [
    "We are now ready to begin the process. \n",
    "\n",
    "Let's write `Hello, world!` in cell `A1` of our workbook. \n",
    "\n",
    "We can write to individual cells in Excel with the `write()` method.\n",
    "\n",
    "Do you remember the steps?"
   ]
  },
  {
   "cell_type": "code",
   "execution_count": null,
   "metadata": {},
   "outputs": [],
   "source": [
    "# Initialize a workbook.\n",
    "# This workbook doesn't exist yet. \n",
    "# We are creating it from Python!\n",
    "# Name the file something sensible\n",
    "workbook = xlsxwriter.Workbook('hello-world.xlsx')\n",
    "\n",
    "# Make your changes.\n",
    "# Write to a given cell with worksheet.write()\n",
    "worksheet.write('A1', 'Hello, world!')\n",
    "\n",
    "# Close the workbook\n",
    "# Your workbook isn't searchable until you \n",
    "# close it.\n",
    "workbook.close()\n"
   ]
  },
  {
   "cell_type": "markdown",
   "metadata": {},
   "source": [
    "Check out the resulting workbook, `hello-world.xlsx`.\n",
    "\n",
    "*Why don't we see \"Hello, world\" on cell `A1`?*\n",
    "\n",
    "It's because we forgot a step:\n",
    "\n",
    "1. Initialize the workbook\n",
    "2. **Add a worksheet**\n",
    "3. Make your changes\n",
    "4. Close the workbook\n",
    "\n",
    "Let's try this again:"
   ]
  },
  {
   "cell_type": "code",
   "execution_count": null,
   "metadata": {},
   "outputs": [],
   "source": [
    "# 1. Initialize workbook\n",
    "workbook = xlsxwriter.Workbook('hello-world.xlsx')\n",
    "\n",
    "# 2. Add worksheet. Let's name it 'helloworld.'\n",
    "worksheet = workbook.add_worksheet('helloworld')\n",
    "\n",
    "# 3. Make changes\n",
    "worksheet.write('A1', 'Hello, world!')\n",
    "\n",
    "# 4. Close the workbook\n",
    "workbook.close()"
   ]
  },
  {
   "cell_type": "markdown",
   "metadata": {},
   "source": [
    "# DRILL\n",
    "\n",
    "1. Place the below steps in the proper order for `xlsxwriter`. Not all steps may be necessary.\n",
    "\n",
    "- Add a worksheet    \n",
    "- Make your changes  \n",
    "- Initialize the workbook  \n",
    "- Create a new workbook from Excel  \n",
    "- Close the workbook  \n",
    "\n",
    "2. Fill out the code below to do the following:  \n",
    "a. Create a workbook named `my-favorite-things.xlsx` with a worksheet called `favorites`.    \n",
    "b. In cell `A1`, add your favorite color.  \n",
    "c. In cell `A2`, your favorite food.  \n",
    "d. In cell `A3`, your favorite animal.   \n",
    "e. Close the workbook and admire it.     \n"
   ]
  },
  {
   "cell_type": "code",
   "execution_count": null,
   "metadata": {},
   "outputs": [],
   "source": [
    "# Import xlsxwriter\n",
    "___ ___\n",
    "\n",
    "# 1. Initialize workbook\n",
    "workbook = xlsxwriter.Workbook(___)\n",
    "\n",
    "# 2. Add worksheet\n",
    "worksheet = workbook.___(___)\n",
    "\n",
    "# 3. Make changes\n",
    "worksheet.___(___, ___)\n",
    "worksheet.___(___, 'Your favorite food here')\n",
    "worksheet.write('A3', ___)\n",
    "\n",
    "# 4. Close the workbook\n",
    "___"
   ]
  },
  {
   "cell_type": "markdown",
   "metadata": {},
   "source": [
    "Now that you have the hang of writing individual cells to a worksheet, let's look at writing rows, columns and multiple worksheets to a workbook. \n",
    "\n",
    "We will do so with Python *lists*. To learn more about Python data structures, such as lists, check out the resources.\n",
    "\n",
    "## Adding rows and columns\n",
    "\n",
    "- We can add whole rows to a worksheet with `write_row()`.  \n",
    "- We can add whole columns to a worksheet with `write_columns`.\n",
    "\n",
    "In each case, we need to specify *where* in the workbook the data should be added. \n",
    "\n",
    "We have a couple of options for this:\n",
    "\n",
    "- We can use alphanumeric cell references such as `A1`, `C3`, etc. \n",
    "- We can also use `R1C1`-like references where the first number indicates the  row position of the cell, and the second position the column. \n",
    "  - In this convention, `0, 0` is the equivalent of cell `A1`; so `1,2` does not indicate `B1` but `C2`!"
   ]
  },
  {
   "cell_type": "code",
   "execution_count": null,
   "metadata": {},
   "outputs": [],
   "source": [
    " # 1. Initialize workbook\n",
    "workbook = xlsxwriter.Workbook('rows-and-columns.xlsx')\n",
    "\n",
    "# 2. Add worksheet -- by default will\n",
    "# use Excel's Sheet1 naming convention\n",
    "worksheet = workbook.add_worksheet()\n",
    "\n",
    "# Let's define our rows and columns \n",
    "my_row = ['Jack','Jill','Susan','Bobby']\n",
    "my_col = [0,1,1,2,3,5]\n",
    "\n",
    "# 3. Make changes\n",
    "worksheet.write_row('A1', my_row)\n",
    "\n",
    "# row/column sequence works as well\n",
    "worksheet.write_column(4,4,my_col)\n",
    "\n",
    "# 4. Close the workbook.\n",
    "workbook.close()"
   ]
  },
  {
   "cell_type": "markdown",
   "metadata": {},
   "source": [
    "Be careful that you don't over-write any cells in your workbook!"
   ]
  },
  {
   "cell_type": "code",
   "execution_count": null,
   "metadata": {},
   "outputs": [],
   "source": [
    " # 1. Initialize workbook\n",
    "workbook = xlsxwriter.Workbook('wheres-my-data.xlsx')\n",
    "\n",
    "# 2. Add worksheet\n",
    "worksheet = workbook.add_worksheet()\n",
    "\n",
    "# Let's define our rows and columns \n",
    "my_row = [1,2,3,'Boo!']\n",
    "my_col = [0,1,1,2,3,5]\n",
    "my_col_2 = [5,2,3]\n",
    "\n",
    "# 3. Make changes\n",
    "worksheet.write_row('A1', my_row)\n",
    "worksheet.write_column(0,0,my_col)\n",
    "worksheet.write_column('B1', my_col_2)\n",
    "\n",
    "# 4. Close the workbook.\n",
    "workbook.close()"
   ]
  },
  {
   "cell_type": "markdown",
   "metadata": {},
   "source": [
    "## Adding data to multiple worksheets\n",
    "\n",
    "Thus far, we've only been adding one worksheet to a workbook.\n",
    "\n",
    "To add multiple, we can call `add_worksheet()` multiple times, assigning the results to multiple *variables* representing each worksheet."
   ]
  },
  {
   "cell_type": "code",
   "execution_count": null,
   "metadata": {},
   "outputs": [],
   "source": [
    "# 1. Initialize workbook\n",
    "workbook = xlsxwriter.Workbook('multiple-sheets.xlsx')\n",
    "\n",
    "worksheet1 = workbook.add_worksheet('This sheet')\n",
    "worksheet2 = workbook.add_worksheet('That sheet')\n",
    "worksheet3 = workbook.add_worksheet('The other sheet')\n",
    "\n",
    "# Can you guess what these will do?\n",
    "worksheet2.write(1,4,'Boo!')\n",
    "worksheet3.write('A6','Boo who!')\n",
    "\n",
    "# Always close the workbook when you are done!\n",
    "workbook.close()"
   ]
  },
  {
   "cell_type": "markdown",
   "metadata": {},
   "source": [
    "# DRILL\n",
    "\n",
    "From Python:\n",
    "\n",
    "- Create a workbook `hello-xlsxwriter` with three worksheets:\n",
    "  - Name the first worksheet `ws_1`. Add a row starting at cell `B3` with the values `23`,`26`,`27` each in a different cell.\n",
    "  - Name the second worksheet `ws_2`. Add a column from `A1` with values `1`,`2`,`3`,`Hello!` each in a different cell.\n",
    "\n",
    "I have provided some scaffolding for this exercise below, or try to build it on your own. \n"
   ]
  },
  {
   "cell_type": "code",
   "execution_count": null,
   "metadata": {},
   "outputs": [],
   "source": [
    "# 1. Initialize workbook\n",
    "workbook = xlsxwriter.Workbook('hello-xlsxwriter.xlsx')\n",
    "\n",
    "worksheet1 = ___.___(___)\n",
    "worksheet2 = ___.___('ws_2')\n",
    " \n",
    "my_row = [23,26,27]\n",
    "my_col = [1,2,3,'Hello!']\n",
    "\n",
    "\n",
    "worksheet1.___(___, ___)\n",
    "worksheet2.___(___,___)\n",
    "\n",
    "# Always close the workbook when you are done!\n",
    "___"
   ]
  },
  {
   "cell_type": "markdown",
   "metadata": {},
   "source": [
    "## Questions?"
   ]
  },
  {
   "cell_type": "markdown",
   "metadata": {},
   "source": [
    "# Beginning the workbook do-over\n",
    "\n",
    "Writing data to a workbook from `xlsxwriter` is great, but we've not done much that wouldn't have been possible with `pandas.`\n",
    "\n",
    "Let's start jazzing up our workbooks using `xlsxwriter`:\n",
    "\n",
    "- Including cell formulas  \n",
    "- Changing fonts and colors  \n",
    "- Freezing panes  \n",
    "- Adding borders\n",
    "\n",
    "Let's get started!\n",
    "\n",
    "## Writing formulas \n",
    "\n",
    "We can add Excel formulas to our worksheet using `write.formula()`. We will provide `xlsxwriter` with where in the worksheet to write the formula, and what formula to write.\n",
    "\n",
    "This will work on any standard Excel formula, text or number! 🎉\n",
    "\n",
    "** You *must* include the `=` sign when writing the Excel formula. **\n"
   ]
  },
  {
   "cell_type": "code",
   "execution_count": null,
   "metadata": {},
   "outputs": [],
   "source": [
    "import xlsxwriter\n",
    "\n",
    "# Write our workbook\n",
    "workbook = xlsxwriter.Workbook('add-formula.xlsx')\n",
    "\n",
    "# Add our worksheet\n",
    "worksheet = workbook.add_worksheet()\n",
    "\n",
    "# What do we want to write?\n",
    "my_numbers = [1,2,3]\n",
    "my_string = 'Hello, world!'\n",
    "\n",
    "# Write them\n",
    "worksheet.write_column('A1', my_numbers)\n",
    "worksheet.write('D1', my_string)\n",
    "\n",
    "# Now write formulas to analyze that data\n",
    "worksheet.write_formula('A4','=SUM(A1:A3)')\n",
    "worksheet.write_formula('D2','=LEN(D1)')\n",
    "\n",
    "# 4. Close the workbook.\n",
    "workbook.close()"
   ]
  },
  {
   "cell_type": "markdown",
   "metadata": {},
   "source": [
    "## Formatting cells from `xlsxwriter`\n",
    "\n",
    "So far when we've added data to a worksheet we've provided `xlsxwriter` two bits of information:\n",
    "\n",
    "1. What to write  \n",
    "2. Where to write it\n",
    "\n",
    "Now let's add a third bit of information to the mix:\n",
    "\n",
    "3. How to *format* what is written.\n",
    "\n",
    "We will do this by assigning a variable (which we will name  `cell_format` by default) and adding this as an argument in our `write` functions."
   ]
  },
  {
   "cell_type": "code",
   "execution_count": null,
   "metadata": {},
   "outputs": [],
   "source": [
    "import xlsxwriter\n",
    "\n",
    "workbook = xlsxwriter.Workbook('add-formats.xlsx')\n",
    "\n",
    "worksheet = workbook.add_worksheet()\n",
    " \n",
    "my_numbers = [1,2,3]\n",
    "\n",
    "# Define a cell format\n",
    "cell_format = workbook.add_format()\n",
    "# Toggle bold on for this format\n",
    "cell_format.set_bold(True)\n",
    "\n",
    "# Now we can set the format to bold:\n",
    "worksheet.write_row('A1', my_numbers, cell_format)\n",
    "\n",
    "# Let's check it out!\n",
    "workbook.close()"
   ]
  },
  {
   "cell_type": "markdown",
   "metadata": {},
   "source": [
    "Below is a table of some formats that we will be experimenting with for the remainder of this lesson.\n",
    "\n",
    "| Method             | Argument taken                                       |\n",
    "| ------------------ | ---------------------------------------------------- |\n",
    "| `set_bold()`       | `True`/`False`  (`True` by default)                  |\n",
    "| `set_font_color()` | A color (e.g. `red`, `blue` , `yellow`)              |\n",
    "| `set_font_size()`  | A font size (e.g. 12, 14, 16)                        |\n",
    "| `set_font_name()`  | A font name (e.g. `Times New Roman`, `Comic Sans MS` |\n",
    "| `set_border()`     | `True`/`False` (`True` by default)                   |\n",
    "| `set_top_border()` | `True`/`False` (`True` by default)                   |\n",
    "\n",
    "    \n",
    "Let's get more creative with our formatting!"
   ]
  },
  {
   "cell_type": "code",
   "execution_count": null,
   "metadata": {},
   "outputs": [],
   "source": [
    "import xlsxwriter\n",
    "\n",
    "workbook = xlsxwriter.Workbook('add-formats.xlsx')\n",
    "\n",
    "worksheet = workbook.add_worksheet()\n",
    " \n",
    "my_numbers = [1,2,3]\n",
    "my_strings = ['Having','fun','yet?']\n",
    "my_python_fun = ['Python', 'IS', 'fun!']\n",
    "\n",
    "# Define a first cell format\n",
    "cell_format_1 = workbook.add_format()\n",
    "# Toggle bold on for this format\n",
    "cell_format_1.set_bold(True)\n",
    "# Add a border around this cell format\n",
    "cell_format_1.set_border(True)\n",
    "\n",
    "# Define a second cell format\n",
    "cell_format_2 = workbook.add_format()\n",
    "# Add color to format\n",
    "cell_format_2.set_font_color('pink')\n",
    "# Add custom font to format\n",
    "cell_format_2.set_font_name('Comic Sans MS')\n",
    "\n",
    "# Write our formatted data\n",
    "worksheet.write_row('A1', my_numbers, cell_format_1)\n",
    "worksheet.write_row('A2',my_strings, cell_format_2)\n",
    "worksheet.write_column('E1', my_python_fun, cell_format_2)\n",
    "\n",
    "# Let's check it out!\n",
    "workbook.close()"
   ]
  },
  {
   "cell_type": "markdown",
   "metadata": {},
   "source": [
    "## Setting cell formats via a dictionary\n",
    "\n",
    "It is a pain to keep writing a new line each time we want to add a new cell format. \n",
    "\n",
    "Instead, we can add a bunch of properties at the same time using a *dictionary*. This, like a list, is a Python data type. \n",
    "\n",
    "Dictionaries are a series of `key : value` pairs enclosed by `{brackets}`. For more on how dictionaries work, check out the resources.\n",
    "\n",
    "Rather than use `set_bold()` or `set_font_size()`, we will pass `bold` or `font_size` as keys in our dictionary, with the properties we want assigned to them in our values.\n",
    "\n",
    "For example, we could change both the font of our worksheet to Segoe UI and change it to size 12 font using a dictionary like this:"
   ]
  },
  {
   "cell_type": "code",
   "execution_count": null,
   "metadata": {},
   "outputs": [],
   "source": [
    "workbook = xlsxwriter.Workbook('add-formats-with-dict.xlsx')\n",
    "\n",
    "worksheet = workbook.add_worksheet()\n",
    " \n",
    "# We will set our formats by passing a dictionary to `add_format()`\n",
    "cell_format = workbook.add_format({'font_size':12,'font_name':'Segoe UI'})\n",
    "\n",
    "# To turn on bold formatting, borders, etc, pass True to the dictionary\n",
    "cell_format_2 = workbook.add_format({'font_color':'Blue','bold':True,'border':True})\n",
    "\n",
    "\n",
    "# Write with our formats\n",
    "worksheet.write('A1','Hello, world!', cell_format)\n",
    "worksheet.write('A2', 'Python is fun!', cell_format_2)\n",
    "\n",
    "# Close and admire\n",
    "workbook.close()\n",
    "\n"
   ]
  },
  {
   "cell_type": "markdown",
   "metadata": {},
   "source": [
    "Check out Chapter 9 (\"The Format Class\") of the [`xlsxwriter` documentation](https://github.com/jmcnamara/XlsxWriter/blob/master/docs/XlsxWriter.pdf) for further possibilities on formatting cells. \n",
    "\n",
    "Let's look at one more helpful bit of cell formatting before moving on."
   ]
  },
  {
   "cell_type": "markdown",
   "metadata": {},
   "source": [
    "## Freezing panes\n",
    "\n",
    "Freezing panes helps tremendously with legibility, especially with larger datasets... which we *will* get to once we eventually start working with `pandas`. \n",
    "\n",
    "To do that, we can use the `freeze_panes()` method, which takes two arguments:\n",
    "\n",
    "- The number of rows that should be frozen, and  \n",
    "- The number of columns that should be frozen. \n",
    "\n",
    "Let's try it out!"
   ]
  },
  {
   "cell_type": "code",
   "execution_count": null,
   "metadata": {},
   "outputs": [],
   "source": [
    "workbook = xlsxwriter.Workbook('freeze-panes.xlsx')\n",
    "\n",
    "worksheet = workbook.add_worksheet()\n",
    " \n",
    "name = ['Jack','Jill','Bobby','Susan']\n",
    "grade = [85, 90, 99, 88]\n",
    "\n",
    "worksheet.write_column('A1', name)\n",
    "worksheet.write_column('B1', grade)\n",
    "\n",
    "# Freeze panes --\n",
    "# What do you expect this to do?\n",
    "worksheet.freeze_panes(1,2)\n",
    "\n",
    "# Take a look if the panes froze\n",
    "# as expected!\n",
    "workbook.close()"
   ]
  },
  {
   "cell_type": "markdown",
   "metadata": {},
   "source": [
    "# DRILL\n",
    "\n",
    "Build on the example above to make a worksheet that looks like the below. Note that this worksheet contains *no* frozen panes.\n",
    "\n",
    "![Workbook do-over drill solution](images/workbook-do-over-drill-solution.png)\n",
    "\n",
    "You can use the scaffolding below, or try it out yourself. "
   ]
  },
  {
   "cell_type": "code",
   "execution_count": null,
   "metadata": {},
   "outputs": [],
   "source": [
    "workbook = xlsxwriter.Workbook('freeze-panes.xlsx')\n",
    "\n",
    "worksheet = workbook.add_worksheet()\n",
    " \n",
    "name = ['Jack','Jill','Bobby','Susan']\n",
    "grade = [85, 90, 99, 88]\n",
    "\n",
    "# Write our data\n",
    "worksheet.___\n",
    "___\n",
    "\n",
    "# Set the cell format for our average line\n",
    "cell_format = workbook.add_format({___:'green','top':True,'bold':___})\n",
    "\n",
    "\n",
    "# Write our average grade lines\n",
    "worksheet.___('A5','Average',___)\n",
    "worksheet.___(___,___,___)\n",
    "\n",
    "\n",
    "# Close the workbook -- do we have a match?\n",
    "___"
   ]
  },
  {
   "cell_type": "markdown",
   "metadata": {},
   "source": [
    "# Questions?"
   ]
  },
  {
   "cell_type": "code",
   "execution_count": null,
   "metadata": {},
   "outputs": [],
   "source": []
  }
 ],
 "metadata": {
  "kernelspec": {
   "display_name": "Python 3",
   "language": "python",
   "name": "python3"
  },
  "language_info": {
   "codemirror_mode": {
    "name": "ipython",
    "version": 3
   },
   "file_extension": ".py",
   "mimetype": "text/x-python",
   "name": "python",
   "nbconvert_exporter": "python",
   "pygments_lexer": "ipython3",
   "version": "3.8.3"
  }
 },
 "nbformat": 4,
 "nbformat_minor": 2
}
