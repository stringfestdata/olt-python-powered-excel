{
 "cells": [
  {
   "cell_type": "markdown",
   "metadata": {},
   "source": [
    "# DRILL: `baseball.xlsx`\n",
    "\n",
    "Now it's your turn to read worksheets into `pandas` DataFrames, operate on them, and export the results back to Excel.\n",
    "\n",
    "I have completed the code to conduct the data manipulation. You finish the code to read and write the data. "
   ]
  },
  {
   "cell_type": "code",
   "execution_count": 1,
   "metadata": {},
   "outputs": [],
   "source": [
    "# Import pandas. We will need it for the data manipulation\n",
    "import pandas as pd\n",
    "\n",
    "\n",
    "#  Read the `teams`, `salaries` and `people` worksheets \n",
    "#  into DataFrames of the same names.\n",
    "teams = pd.read_excel('baseball.xlsx', sheet_name='teams')\n",
    "salaries = pd.read_excel('baseball.xlsx', sheet_name='salaries')\n",
    "people = pd.read_excel('baseball.xlsx', sheet_name='people')"
   ]
  },
  {
   "cell_type": "code",
   "execution_count": 2,
   "metadata": {},
   "outputs": [
    {
     "data": {
      "text/plain": [
       "playerID   nameFirst  nameLast\n",
       "aardsda01  David      Aardsma     9259750\n",
       "aasedo01   Don        Aase        2300000\n",
       "abadan01   Andy       Abad         327000\n",
       "abadfe01   Fernando   Abad        3766400\n",
       "abbotje01  Jeff       Abbott       985000\n",
       "Name: salary, dtype: int64"
      ]
     },
     "execution_count": 2,
     "metadata": {},
     "output_type": "execute_result"
    }
   ],
   "source": [
    "# \"Look up\" first names and \n",
    "# last names from the people table into the\n",
    "# salaries table. \n",
    "salaries_report = salaries.merge(people[['playerID','nameFirst','nameLast']],on='playerID',how='left')\n",
    "\n",
    "# Find total salaries by player.\n",
    "# This line is completed for you to run. \n",
    "salaries_agg = salaries_report.groupby(['playerID','nameFirst','nameLast'])['salary'].sum()\n",
    "\n",
    "# Preview our report\n",
    "salaries_agg.head()"
   ]
  },
  {
   "cell_type": "code",
   "execution_count": null,
   "metadata": {},
   "outputs": [],
   "source": [
    "# 4. Write this DataFrame to an Excel file\n",
    "# called `salaries-report.xlsx`\n",
    "salaries_agg.to_excel('salaries-report.xlsx')"
   ]
  },
  {
   "cell_type": "markdown",
   "metadata": {},
   "source": [
    "# QUIZ\n",
    "\n",
    "Place the below steps in the proper order for `xlsxwriter`. Not all steps may be necessary.\n",
    "\n",
    "- 2. Add a worksheet    \n",
    "- 3. Make your changes  \n",
    "- 1. Initialize the workbook  \n",
    "- ~~Create a new workbook from Excel~~  \n",
    "- 4. Close the workbook  "
   ]
  },
  {
   "cell_type": "markdown",
   "metadata": {},
   "source": [
    "# DRILL\n",
    "\n",
    "From Python:\n",
    "\n",
    "1. Create a workbook named `my-favorite-things.xlsx` with a worksheet called `favorites`.\n",
    "2. In cell `A1`, add your favorite color.\n",
    "3. In cell `A2`, your favorite food.\n",
    "4. In cell `A3`, your favorite animal. \n",
    "5. Close the workbook and admire it. "
   ]
  },
  {
   "cell_type": "code",
   "execution_count": null,
   "metadata": {},
   "outputs": [],
   "source": [
    "# 1. Initialize workbook\n",
    "workbook = xlsxwriter.Workbook('my-favorite-things.xlsx')\n",
    "\n",
    "# 2. Add worksheet\n",
    "worksheet = workbook.add_worksheet('favorites')\n",
    "\n",
    "# 3. Make changes\n",
    "worksheet.write('A1', 'Red')\n",
    "worksheet.write('A2', 'Cincinnati chili')\n",
    "worksheet.write('A3', 'Cat')\n",
    "\n",
    "# 4. Close the workbook\n",
    "workbook.close()"
   ]
  },
  {
   "cell_type": "markdown",
   "metadata": {},
   "source": [
    "# DRILL\n",
    "\n",
    "From Python:\n",
    "\n",
    "- Create a workbook `hello-xlsxwriter` with three worksheets:\n",
    "  - Name the first worksheet `ws_1`. Add a row starting at cell `B3` with the values `23`,`26`,`27` each in a different cell.\n",
    "  - Name the second worksheet `ws_2`. Add a column from `A1` with values `1`,`2`,`3`,`Hello!` each in a different cell."
   ]
  },
  {
   "cell_type": "code",
   "execution_count": null,
   "metadata": {},
   "outputs": [],
   "source": [
    "# 1. Initialize workbook\n",
    "workbook = xlsxwriter.Workbook('hello-xlsxwriter.xlsx')\n",
    "\n",
    "worksheet1 = workbook.add_worksheet('ws_1')\n",
    "worksheet2 = workbook.add_worksheet('ws_2')\n",
    " \n",
    "my_row = [23,26,27]\n",
    "my_col = [1,2,3,'Hello!']\n",
    "\n",
    "\n",
    "worksheet1.write_row('B3', my_row)\n",
    "worksheet2.write_column('A1',my_col)\n",
    "\n",
    "# Always close the workbook when you are done!\n",
    "workbook.close()"
   ]
  },
  {
   "cell_type": "markdown",
   "metadata": {},
   "source": [
    "# DRILL\n",
    "\n",
    "Build on the example above to make a worksheet that looks like the below. Note that this worksheet contains *no* frozen panes.\n",
    "\n",
    "![Workbook do-over drill solution](images/workbook-do-over-drill-solution.png)\n",
    "\n",
    "You can use the scaffolding below, or try it out yourself. "
   ]
  },
  {
   "cell_type": "code",
   "execution_count": null,
   "metadata": {},
   "outputs": [],
   "source": [
    "import xlsxwriter\n",
    "\n",
    "workbook = xlsxwriter.Workbook('freeze-panes.xlsx')\n",
    "\n",
    "worksheet = workbook.add_worksheet()\n",
    " \n",
    "name = ['Jack','Jill','Bobby','Susan']\n",
    "grade = [85, 90, 99, 88]\n",
    "\n",
    "# Write our data\n",
    "worksheet.write_column('A1', name)\n",
    "worksheet.write_column('B1', grade)\n",
    "\n",
    "# Set the cell format for our average line\n",
    "cell_format = workbook.add_format({'font_color':'green','top':True,'bold':True})\n",
    "\n",
    "\n",
    "# Write our average grade lines\n",
    "worksheet.write('A5','Average',cell_format)\n",
    "worksheet.write_formula('B5','=AVERAGE(B1:B5)',cell_format)\n",
    "\n",
    "\n",
    "# Close the workbook -- do we have a match?\n",
    "workbook.close()"
   ]
  }
 ],
 "metadata": {
  "kernelspec": {
   "display_name": "Python 3",
   "language": "python",
   "name": "python3"
  },
  "language_info": {
   "codemirror_mode": {
    "name": "ipython",
    "version": 3
   },
   "file_extension": ".py",
   "mimetype": "text/x-python",
   "name": "python",
   "nbconvert_exporter": "python",
   "pygments_lexer": "ipython3",
   "version": "3.8.3"
  }
 },
 "nbformat": 4,
 "nbformat_minor": 2
}
