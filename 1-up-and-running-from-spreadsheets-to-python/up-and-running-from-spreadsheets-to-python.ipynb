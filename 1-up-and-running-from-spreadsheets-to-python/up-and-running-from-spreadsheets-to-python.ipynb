{
 "cells": [
  {
   "cell_type": "markdown",
   "metadata": {},
   "source": [
    "# Hello, Jupyter\n",
    "\n",
    "Jupyter is a popular environment for working with Python.\n",
    "\n",
    "At a high level, it consists of **cells** which can contain text (like this one)... "
   ]
  },
  {
   "cell_type": "code",
   "execution_count": 12,
   "metadata": {},
   "outputs": [],
   "source": [
    "# ... or code, like this one.\n",
    "# Go ahead and print('Hello from Jupyter') below.\n",
    "# By the way, these hashtags represent human-read comments,\n",
    "# not machine-read code. \n"
   ]
  },
  {
   "cell_type": "markdown",
   "metadata": {},
   "source": [
    "For a more in-depth look at working with Jupyter notebooks, check out the course resources in the conclusion."
   ]
  },
  {
   "cell_type": "markdown",
   "metadata": {},
   "source": [
    "# Reading spreadsheet data into Python\n",
    "\n",
    "You will usually start working with data in Python by importing it from an external source. \n",
    "\n",
    "The `read_excel()` function from `pandas` will be helpful for reading worksheet data into Python. \n",
    "\n",
    "For more about working with `pandas`, check out the recommended resources in the conclusion. \n",
    "\n",
    "## Demo: `superstore.xlsx`\n",
    "\n",
    "This workbook contains three worksheets. Let's read each of them into Python and perform some data analysis."
   ]
  },
  {
   "cell_type": "code",
   "execution_count": 3,
   "metadata": {},
   "outputs": [
    {
     "output_type": "execute_result",
     "data": {
      "text/plain": "   Row ID        Order ID Order Date  Ship Date       Ship Mode Customer ID  \\\n0    7981  CA-2011-103800 2013-01-03 2013-01-07  Standard Class    DP-13000   \n1     740  CA-2011-112326 2013-01-04 2013-01-08  Standard Class    PO-19195   \n2     741  CA-2011-112326 2013-01-04 2013-01-08  Standard Class    PO-19195   \n3     742  CA-2011-112326 2013-01-04 2013-01-08  Standard Class    PO-19195   \n4    1760  CA-2011-141817 2013-01-05 2013-01-12  Standard Class    MB-18085   \n\n   Customer Name      Segment        Country          City  ... Postal Code  \\\n0  Darren Powers     Consumer  United States       Houston  ...       77095   \n1  Phillina Ober  Home Office  United States    Naperville  ...       60540   \n2  Phillina Ober  Home Office  United States    Naperville  ...       60540   \n3  Phillina Ober  Home Office  United States    Naperville  ...       60540   \n4     Mick Brown     Consumer  United States  Philadelphia  ...       19143   \n\n    Region       Product ID         Category Sub-Category  \\\n0  Central  OFF-PA-10000174  Office Supplies        Paper   \n1  Central  OFF-LA-10003223  Office Supplies       Labels   \n2  Central  OFF-ST-10002743  Office Supplies      Storage   \n3  Central  OFF-BI-10004094  Office Supplies      Binders   \n4     East  OFF-AR-10003478  Office Supplies          Art   \n\n                                        Product Name    Sales  Quantity  \\\n0  Message Book, Wirebound, Four 5 1/2\" X 4\" Form...   16.448         2   \n1                                          Avery 508   11.784         3   \n2                      SAFCO Boltless Steel Shelving  272.736         3   \n3         GBC Standard Plastic Binding Systems Combs    3.540         2   \n4  Avery Hi-Liter EverBold Pen Style Fluorescent ...   19.536         3   \n\n   Discount   Profit  \n0       0.2   5.5512  \n1       0.2   4.2717  \n2       0.2 -64.7748  \n3       0.8  -5.4870  \n4       0.2   4.8840  \n\n[5 rows x 21 columns]",
      "text/html": "<div>\n<style scoped>\n    .dataframe tbody tr th:only-of-type {\n        vertical-align: middle;\n    }\n\n    .dataframe tbody tr th {\n        vertical-align: top;\n    }\n\n    .dataframe thead th {\n        text-align: right;\n    }\n</style>\n<table border=\"1\" class=\"dataframe\">\n  <thead>\n    <tr style=\"text-align: right;\">\n      <th></th>\n      <th>Row ID</th>\n      <th>Order ID</th>\n      <th>Order Date</th>\n      <th>Ship Date</th>\n      <th>Ship Mode</th>\n      <th>Customer ID</th>\n      <th>Customer Name</th>\n      <th>Segment</th>\n      <th>Country</th>\n      <th>City</th>\n      <th>...</th>\n      <th>Postal Code</th>\n      <th>Region</th>\n      <th>Product ID</th>\n      <th>Category</th>\n      <th>Sub-Category</th>\n      <th>Product Name</th>\n      <th>Sales</th>\n      <th>Quantity</th>\n      <th>Discount</th>\n      <th>Profit</th>\n    </tr>\n  </thead>\n  <tbody>\n    <tr>\n      <td>0</td>\n      <td>7981</td>\n      <td>CA-2011-103800</td>\n      <td>2013-01-03</td>\n      <td>2013-01-07</td>\n      <td>Standard Class</td>\n      <td>DP-13000</td>\n      <td>Darren Powers</td>\n      <td>Consumer</td>\n      <td>United States</td>\n      <td>Houston</td>\n      <td>...</td>\n      <td>77095</td>\n      <td>Central</td>\n      <td>OFF-PA-10000174</td>\n      <td>Office Supplies</td>\n      <td>Paper</td>\n      <td>Message Book, Wirebound, Four 5 1/2\" X 4\" Form...</td>\n      <td>16.448</td>\n      <td>2</td>\n      <td>0.2</td>\n      <td>5.5512</td>\n    </tr>\n    <tr>\n      <td>1</td>\n      <td>740</td>\n      <td>CA-2011-112326</td>\n      <td>2013-01-04</td>\n      <td>2013-01-08</td>\n      <td>Standard Class</td>\n      <td>PO-19195</td>\n      <td>Phillina Ober</td>\n      <td>Home Office</td>\n      <td>United States</td>\n      <td>Naperville</td>\n      <td>...</td>\n      <td>60540</td>\n      <td>Central</td>\n      <td>OFF-LA-10003223</td>\n      <td>Office Supplies</td>\n      <td>Labels</td>\n      <td>Avery 508</td>\n      <td>11.784</td>\n      <td>3</td>\n      <td>0.2</td>\n      <td>4.2717</td>\n    </tr>\n    <tr>\n      <td>2</td>\n      <td>741</td>\n      <td>CA-2011-112326</td>\n      <td>2013-01-04</td>\n      <td>2013-01-08</td>\n      <td>Standard Class</td>\n      <td>PO-19195</td>\n      <td>Phillina Ober</td>\n      <td>Home Office</td>\n      <td>United States</td>\n      <td>Naperville</td>\n      <td>...</td>\n      <td>60540</td>\n      <td>Central</td>\n      <td>OFF-ST-10002743</td>\n      <td>Office Supplies</td>\n      <td>Storage</td>\n      <td>SAFCO Boltless Steel Shelving</td>\n      <td>272.736</td>\n      <td>3</td>\n      <td>0.2</td>\n      <td>-64.7748</td>\n    </tr>\n    <tr>\n      <td>3</td>\n      <td>742</td>\n      <td>CA-2011-112326</td>\n      <td>2013-01-04</td>\n      <td>2013-01-08</td>\n      <td>Standard Class</td>\n      <td>PO-19195</td>\n      <td>Phillina Ober</td>\n      <td>Home Office</td>\n      <td>United States</td>\n      <td>Naperville</td>\n      <td>...</td>\n      <td>60540</td>\n      <td>Central</td>\n      <td>OFF-BI-10004094</td>\n      <td>Office Supplies</td>\n      <td>Binders</td>\n      <td>GBC Standard Plastic Binding Systems Combs</td>\n      <td>3.540</td>\n      <td>2</td>\n      <td>0.8</td>\n      <td>-5.4870</td>\n    </tr>\n    <tr>\n      <td>4</td>\n      <td>1760</td>\n      <td>CA-2011-141817</td>\n      <td>2013-01-05</td>\n      <td>2013-01-12</td>\n      <td>Standard Class</td>\n      <td>MB-18085</td>\n      <td>Mick Brown</td>\n      <td>Consumer</td>\n      <td>United States</td>\n      <td>Philadelphia</td>\n      <td>...</td>\n      <td>19143</td>\n      <td>East</td>\n      <td>OFF-AR-10003478</td>\n      <td>Office Supplies</td>\n      <td>Art</td>\n      <td>Avery Hi-Liter EverBold Pen Style Fluorescent ...</td>\n      <td>19.536</td>\n      <td>3</td>\n      <td>0.2</td>\n      <td>4.8840</td>\n    </tr>\n  </tbody>\n</table>\n<p>5 rows × 21 columns</p>\n</div>"
     },
     "metadata": {},
     "execution_count": 3
    }
   ],
   "source": [
    "# Import pandas\n",
    "import pandas as pd\n",
    "\n",
    "# Read in our worksheet with read_excel()\n",
    "orders = pd.read_excel(\"superstore.xlsx\")\n",
    "\n",
    "# Sneak peek of the data with head()\n",
    "orders.head()"
   ]
  },
  {
   "cell_type": "markdown",
   "metadata": {},
   "source": [
    "By default, `pandas.read_excel()` reads in the active worksheet in the workbook. If we want to read in others, we will specify a second argument, `sheet_name`.    "
   ]
  },
  {
   "cell_type": "code",
   "execution_count": 5,
   "metadata": {
    "tags": []
   },
   "outputs": [
    {
     "output_type": "stream",
     "name": "stdout",
     "text": "Row ID        Order ID Order Date  Ship Date       Ship Mode Customer ID  \\\n0    7981  CA-2011-103800 2013-01-03 2013-01-07  Standard Class    DP-13000   \n1     740  CA-2011-112326 2013-01-04 2013-01-08  Standard Class    PO-19195   \n2     741  CA-2011-112326 2013-01-04 2013-01-08  Standard Class    PO-19195   \n3     742  CA-2011-112326 2013-01-04 2013-01-08  Standard Class    PO-19195   \n4    1760  CA-2011-141817 2013-01-05 2013-01-12  Standard Class    MB-18085   \n\n   Customer Name      Segment        Country          City  ... Postal Code  \\\n0  Darren Powers     Consumer  United States       Houston  ...       77095   \n1  Phillina Ober  Home Office  United States    Naperville  ...       60540   \n2  Phillina Ober  Home Office  United States    Naperville  ...       60540   \n3  Phillina Ober  Home Office  United States    Naperville  ...       60540   \n4     Mick Brown     Consumer  United States  Philadelphia  ...       19143   \n\n    Region       Product ID         Category Sub-Category  \\\n0  Central  OFF-PA-10000174  Office Supplies        Paper   \n1  Central  OFF-LA-10003223  Office Supplies       Labels   \n2  Central  OFF-ST-10002743  Office Supplies      Storage   \n3  Central  OFF-BI-10004094  Office Supplies      Binders   \n4     East  OFF-AR-10003478  Office Supplies          Art   \n\n                                        Product Name    Sales  Quantity  \\\n0  Message Book, Wirebound, Four 5 1/2\" X 4\" Form...   16.448         2   \n1                                          Avery 508   11.784         3   \n2                      SAFCO Boltless Steel Shelving  272.736         3   \n3         GBC Standard Plastic Binding Systems Combs    3.540         2   \n4  Avery Hi-Liter EverBold Pen Style Fluorescent ...   19.536         3   \n\n   Discount   Profit  \n0       0.2   5.5512  \n1       0.2   4.2717  \n2       0.2 -64.7748  \n3       0.8  -5.4870  \n4       0.2   4.8840  \n\n[5 rows x 21 columns]\n  Returned           Updated Order Returns\n0      Yes  CA-2014-153822 Product Damaged\n1      Yes  CA-2014-129707 Product Damaged\n2      Yes  CA-2011-152345 Product Damaged\n3      Yes  CA-2012-156440 Product Damaged\n4      Yes  US-2014-155999 Product Damaged\n              Person   Region\n0      Anna Andreadi     West\n1        Chuck Magee     East\n2     Kelly Williams  Central\n3  Cassandra Brandow    South\n"
    }
   ],
   "source": [
    "# Read in all three worksheets this time\n",
    "orders = pd.read_excel(\"superstore.xlsx\", sheet_name='orders')\n",
    "returns = pd.read_excel(\"superstore.xlsx\", sheet_name='returns')\n",
    "people = pd.read_excel(\"superstore.xlsx\", sheet_name='people')\n",
    "\n",
    "# Preview all three `pandas` DataFrames\n",
    "print(orders.head())\n",
    "print(returns.head())\n",
    "print(people.head())"
   ]
  },
  {
   "cell_type": "code",
   "execution_count": 7,
   "metadata": {
    "tags": []
   },
   "outputs": [
    {
     "output_type": "stream",
     "name": "stdout",
     "text": "Index(['row id', 'order id', 'order date', 'ship date', 'ship mode',\n       'customer id', 'customer name', 'segment', 'country', 'city', 'state',\n       'postal code', 'region', 'product id', 'category', 'sub-category',\n       'product name', 'sales', 'quantity', 'discount', 'profit'],\n      dtype='object')\nIndex(['person', 'region'], dtype='object')\n"
    }
   ],
   "source": [
    "# Renaming columns to make them easier to\n",
    "# operate on in `pandas`\n",
    "orders.columns = orders.columns.str.lower()\n",
    "people.columns = people.columns.str.lower()\n",
    "\n",
    "print(orders.columns)\n",
    "print(people.columns)"
   ]
  },
  {
   "cell_type": "markdown",
   "metadata": {},
   "source": [
    "We will now \"look up\" the salesperson names into the orders data, find the total sales for each salesperson, and then write that to Excel.\n",
    "\n",
    "Don't worry too much about the code to manipulate the data in `pandas`.\n",
    "\n",
    "Instead, focus on the code to read and write data in and out of Excel, the focus of this course.\n",
    "\n",
    "I will have resources at the conclusion of this book if you would like to learn more about analyzing and manipulating datasets in Python."
   ]
  },
  {
   "cell_type": "code",
   "execution_count": 8,
   "metadata": {},
   "outputs": [
    {
     "output_type": "execute_result",
     "data": {
      "text/plain": "                         sales       profit\nperson                                     \nAnna Andreadi      725457.8245  108418.4489\nCassandra Brandow  391721.9050   46749.4303\nChuck Magee        678781.2400   91522.7800\nKelly Williams     501239.8908   39706.3625",
      "text/html": "<div>\n<style scoped>\n    .dataframe tbody tr th:only-of-type {\n        vertical-align: middle;\n    }\n\n    .dataframe tbody tr th {\n        vertical-align: top;\n    }\n\n    .dataframe thead th {\n        text-align: right;\n    }\n</style>\n<table border=\"1\" class=\"dataframe\">\n  <thead>\n    <tr style=\"text-align: right;\">\n      <th></th>\n      <th>sales</th>\n      <th>profit</th>\n    </tr>\n    <tr>\n      <th>person</th>\n      <th></th>\n      <th></th>\n    </tr>\n  </thead>\n  <tbody>\n    <tr>\n      <td>Anna Andreadi</td>\n      <td>725457.8245</td>\n      <td>108418.4489</td>\n    </tr>\n    <tr>\n      <td>Cassandra Brandow</td>\n      <td>391721.9050</td>\n      <td>46749.4303</td>\n    </tr>\n    <tr>\n      <td>Chuck Magee</td>\n      <td>678781.2400</td>\n      <td>91522.7800</td>\n    </tr>\n    <tr>\n      <td>Kelly Williams</td>\n      <td>501239.8908</td>\n      <td>39706.3625</td>\n    </tr>\n  </tbody>\n</table>\n</div>"
     },
     "metadata": {},
     "execution_count": 8
    }
   ],
   "source": [
    "# \"Look up\" the salesperson into the orders data\n",
    "report = orders.merge(people, on='region', how='left')\n",
    "\n",
    "# Find total sales by rep\n",
    "report_agg = report.groupby(['person'])['sales','profit'].sum()\n",
    "\n",
    "# Preview our report\n",
    "report_agg.head()"
   ]
  },
  {
   "cell_type": "markdown",
   "metadata": {},
   "source": [
    "We can now write the results of `report_agg` to Excel using the `to_excel()` method. We will specify what to call this file. "
   ]
  },
  {
   "cell_type": "code",
   "execution_count": 44,
   "metadata": {},
   "outputs": [],
   "source": [
    "# Let's write this to Excel.\n",
    "\n",
    "report_agg.to_excel(\"sales-report.xlsx\")"
   ]
  },
  {
   "cell_type": "markdown",
   "metadata": {},
   "source": [
    "By default, our workbook will be written to the same folder as this file. To customize or change that, check out file paths and directory paths in Python."
   ]
  },
  {
   "cell_type": "markdown",
   "metadata": {},
   "source": [
    "# DRILL: `baseball.xlsx`\n",
    "\n",
    "Now it's your turn to read worksheets into `pandas` DataFrames, operate on them, and export the results back to Excel.\n",
    "\n",
    "I have completed the code to conduct the data manipulation. You finish the code to read and write the data. "
   ]
  },
  {
   "cell_type": "code",
   "execution_count": null,
   "metadata": {},
   "outputs": [],
   "source": [
    "\n",
    "# Import pandas. We will need it for the data manipulation\n",
    "import pandas as pd\n",
    "\n",
    "\n",
    "#  Read the `teams`, `salaries` and `people` worksheets \n",
    "#  into DataFrames of the same names.\n",
    "teams = pd.read_excel(___, ___='teams')\n",
    "salaries = pd.read_excel(___, ___=___)\n",
    "people = pd.read_excel(___, ___=___)"
   ]
  },
  {
   "cell_type": "code",
   "execution_count": 57,
   "metadata": {},
   "outputs": [],
   "source": [
    "# \"Look up\" first names and \n",
    "# last names from the people table into the\n",
    "# salaries table. \n",
    "salaries_report = salaries.merge(people[['playerID','nameFirst','nameLast']],on='playerID',how='left')\n",
    "\n",
    "# Find total salaries by player.\n",
    "# This line is completed for you to run. \n",
    "salaries_agg = salaries_report.groupby(['playerID','nameFirst','nameLast'])['salary'].sum()\n",
    "\n",
    "# Preview our report\n",
    "salaries_agg.head()"
   ]
  },
  {
   "cell_type": "code",
   "execution_count": 71,
   "metadata": {},
   "outputs": [],
   "source": [
    "# 4. Write this DataFrame to an Excel file\n",
    "# called `salaries-report.xlsx`\n",
    "# We will also sort the values before doing so.\n",
    "___.sort_values(ascending=False).___(___)"
   ]
  },
  {
   "cell_type": "markdown",
   "metadata": {},
   "source": [
    "Congrats on moving Excel data in and out of Python using `pandas`! Now, let's look at another, more versatile way for producing Excel reports from Python."
   ]
  },
  {
   "cell_type": "code",
   "execution_count": null,
   "metadata": {},
   "outputs": [],
   "source": []
  }
 ],
 "metadata": {
  "kernelspec": {
   "display_name": "Python 3",
   "language": "python",
   "name": "python3"
  },
  "language_info": {
   "codemirror_mode": {
    "name": "ipython",
    "version": 3
   },
   "file_extension": ".py",
   "mimetype": "text/x-python",
   "name": "python",
   "nbconvert_exporter": "python",
   "pygments_lexer": "ipython3",
   "version": "3.7.4-final"
  }
 },
 "nbformat": 4,
 "nbformat_minor": 2
}