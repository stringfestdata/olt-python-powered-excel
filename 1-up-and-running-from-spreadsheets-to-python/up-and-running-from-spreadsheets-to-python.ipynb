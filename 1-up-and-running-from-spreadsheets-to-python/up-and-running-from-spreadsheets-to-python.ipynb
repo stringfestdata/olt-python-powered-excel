{
 "cells": [
  {
   "cell_type": "markdown",
   "metadata": {},
   "source": [
    "# Hello, Jupyter\n",
    "\n",
    "Jupyter is a popular environment for working with Python.\n",
    "\n",
    "At a high level, it consists of **cells** like this one which can contain text (like this one)... "
   ]
  },
  {
   "cell_type": "code",
   "execution_count": 12,
   "metadata": {},
   "outputs": [],
   "source": [
    "# ... or code, like this one.\n",
    "# Go ahead and print('Hello from Jupyter') below.\n"
   ]
  },
  {
   "cell_type": "markdown",
   "metadata": {},
   "source": [
    "For a more in-depth look at working with Jupyter notebooks, check out my other OLT course, \"First Steps in Python for Spreadsheet Users.\" "
   ]
  },
  {
   "cell_type": "markdown",
   "metadata": {},
   "source": [
    "# Reading spreadsheet data into Python\n",
    "\n",
    "`pandas.read_excel()` will be helpful here. "
   ]
  },
  {
   "cell_type": "code",
   "execution_count": 14,
   "metadata": {},
   "outputs": [],
   "source": [
    "# Import pandas\n",
    "\n",
    "import pandas as pd"
   ]
  },
  {
   "cell_type": "code",
   "execution_count": 17,
   "metadata": {},
   "outputs": [
    {
     "output_type": "execute_result",
     "data": {
      "text/plain": "   Row ID        Order ID Order Date  Ship Date       Ship Mode Customer ID  \\\n0    7981  CA-2011-103800 2013-01-03 2013-01-07  Standard Class    DP-13000   \n1     740  CA-2011-112326 2013-01-04 2013-01-08  Standard Class    PO-19195   \n2     741  CA-2011-112326 2013-01-04 2013-01-08  Standard Class    PO-19195   \n3     742  CA-2011-112326 2013-01-04 2013-01-08  Standard Class    PO-19195   \n4    1760  CA-2011-141817 2013-01-05 2013-01-12  Standard Class    MB-18085   \n\n   Customer Name      Segment        Country          City  ... Postal Code  \\\n0  Darren Powers     Consumer  United States       Houston  ...       77095   \n1  Phillina Ober  Home Office  United States    Naperville  ...       60540   \n2  Phillina Ober  Home Office  United States    Naperville  ...       60540   \n3  Phillina Ober  Home Office  United States    Naperville  ...       60540   \n4     Mick Brown     Consumer  United States  Philadelphia  ...       19143   \n\n    Region       Product ID         Category Sub-Category  \\\n0  Central  OFF-PA-10000174  Office Supplies        Paper   \n1  Central  OFF-LA-10003223  Office Supplies       Labels   \n2  Central  OFF-ST-10002743  Office Supplies      Storage   \n3  Central  OFF-BI-10004094  Office Supplies      Binders   \n4     East  OFF-AR-10003478  Office Supplies          Art   \n\n                                        Product Name    Sales  Quantity  \\\n0  Message Book, Wirebound, Four 5 1/2\" X 4\" Form...   16.448         2   \n1                                          Avery 508   11.784         3   \n2                      SAFCO Boltless Steel Shelving  272.736         3   \n3         GBC Standard Plastic Binding Systems Combs    3.540         2   \n4  Avery Hi-Liter EverBold Pen Style Fluorescent ...   19.536         3   \n\n   Discount   Profit  \n0       0.2   5.5512  \n1       0.2   4.2717  \n2       0.2 -64.7748  \n3       0.8  -5.4870  \n4       0.2   4.8840  \n\n[5 rows x 21 columns]",
      "text/html": "<div>\n<style scoped>\n    .dataframe tbody tr th:only-of-type {\n        vertical-align: middle;\n    }\n\n    .dataframe tbody tr th {\n        vertical-align: top;\n    }\n\n    .dataframe thead th {\n        text-align: right;\n    }\n</style>\n<table border=\"1\" class=\"dataframe\">\n  <thead>\n    <tr style=\"text-align: right;\">\n      <th></th>\n      <th>Row ID</th>\n      <th>Order ID</th>\n      <th>Order Date</th>\n      <th>Ship Date</th>\n      <th>Ship Mode</th>\n      <th>Customer ID</th>\n      <th>Customer Name</th>\n      <th>Segment</th>\n      <th>Country</th>\n      <th>City</th>\n      <th>...</th>\n      <th>Postal Code</th>\n      <th>Region</th>\n      <th>Product ID</th>\n      <th>Category</th>\n      <th>Sub-Category</th>\n      <th>Product Name</th>\n      <th>Sales</th>\n      <th>Quantity</th>\n      <th>Discount</th>\n      <th>Profit</th>\n    </tr>\n  </thead>\n  <tbody>\n    <tr>\n      <td>0</td>\n      <td>7981</td>\n      <td>CA-2011-103800</td>\n      <td>2013-01-03</td>\n      <td>2013-01-07</td>\n      <td>Standard Class</td>\n      <td>DP-13000</td>\n      <td>Darren Powers</td>\n      <td>Consumer</td>\n      <td>United States</td>\n      <td>Houston</td>\n      <td>...</td>\n      <td>77095</td>\n      <td>Central</td>\n      <td>OFF-PA-10000174</td>\n      <td>Office Supplies</td>\n      <td>Paper</td>\n      <td>Message Book, Wirebound, Four 5 1/2\" X 4\" Form...</td>\n      <td>16.448</td>\n      <td>2</td>\n      <td>0.2</td>\n      <td>5.5512</td>\n    </tr>\n    <tr>\n      <td>1</td>\n      <td>740</td>\n      <td>CA-2011-112326</td>\n      <td>2013-01-04</td>\n      <td>2013-01-08</td>\n      <td>Standard Class</td>\n      <td>PO-19195</td>\n      <td>Phillina Ober</td>\n      <td>Home Office</td>\n      <td>United States</td>\n      <td>Naperville</td>\n      <td>...</td>\n      <td>60540</td>\n      <td>Central</td>\n      <td>OFF-LA-10003223</td>\n      <td>Office Supplies</td>\n      <td>Labels</td>\n      <td>Avery 508</td>\n      <td>11.784</td>\n      <td>3</td>\n      <td>0.2</td>\n      <td>4.2717</td>\n    </tr>\n    <tr>\n      <td>2</td>\n      <td>741</td>\n      <td>CA-2011-112326</td>\n      <td>2013-01-04</td>\n      <td>2013-01-08</td>\n      <td>Standard Class</td>\n      <td>PO-19195</td>\n      <td>Phillina Ober</td>\n      <td>Home Office</td>\n      <td>United States</td>\n      <td>Naperville</td>\n      <td>...</td>\n      <td>60540</td>\n      <td>Central</td>\n      <td>OFF-ST-10002743</td>\n      <td>Office Supplies</td>\n      <td>Storage</td>\n      <td>SAFCO Boltless Steel Shelving</td>\n      <td>272.736</td>\n      <td>3</td>\n      <td>0.2</td>\n      <td>-64.7748</td>\n    </tr>\n    <tr>\n      <td>3</td>\n      <td>742</td>\n      <td>CA-2011-112326</td>\n      <td>2013-01-04</td>\n      <td>2013-01-08</td>\n      <td>Standard Class</td>\n      <td>PO-19195</td>\n      <td>Phillina Ober</td>\n      <td>Home Office</td>\n      <td>United States</td>\n      <td>Naperville</td>\n      <td>...</td>\n      <td>60540</td>\n      <td>Central</td>\n      <td>OFF-BI-10004094</td>\n      <td>Office Supplies</td>\n      <td>Binders</td>\n      <td>GBC Standard Plastic Binding Systems Combs</td>\n      <td>3.540</td>\n      <td>2</td>\n      <td>0.8</td>\n      <td>-5.4870</td>\n    </tr>\n    <tr>\n      <td>4</td>\n      <td>1760</td>\n      <td>CA-2011-141817</td>\n      <td>2013-01-05</td>\n      <td>2013-01-12</td>\n      <td>Standard Class</td>\n      <td>MB-18085</td>\n      <td>Mick Brown</td>\n      <td>Consumer</td>\n      <td>United States</td>\n      <td>Philadelphia</td>\n      <td>...</td>\n      <td>19143</td>\n      <td>East</td>\n      <td>OFF-AR-10003478</td>\n      <td>Office Supplies</td>\n      <td>Art</td>\n      <td>Avery Hi-Liter EverBold Pen Style Fluorescent ...</td>\n      <td>19.536</td>\n      <td>3</td>\n      <td>0.2</td>\n      <td>4.8840</td>\n    </tr>\n  </tbody>\n</table>\n<p>5 rows × 21 columns</p>\n</div>"
     },
     "metadata": {},
     "execution_count": 17
    }
   ],
   "source": [
    "# Read in our worksheet, print header\n",
    "\n",
    "orders = pd.read_excel(\"superstore.xlsx\")\n",
    "\n",
    "# Sneak peek of the data\n",
    "orders.head()"
   ]
  },
  {
   "cell_type": "code",
   "execution_count": 19,
   "metadata": {},
   "outputs": [],
   "source": [
    "# That's presumptuous; what about `returns` and `people`? \n",
    "\n",
    "orders = pd.read_excel(\"superstore.xlsx\", sheet_name='orders')\n",
    "returns = pd.read_excel(\"superstore.xlsx\", sheet_name='returns')\n",
    "people = pd.read_excel(\"superstore.xlsx\", sheet_name='people')"
   ]
  },
  {
   "cell_type": "code",
   "execution_count": 21,
   "metadata": {},
   "outputs": [
    {
     "output_type": "stream",
     "name": "stdout",
     "text": "Row ID        Order ID Order Date  Ship Date       Ship Mode Customer ID  \\\n0    7981  CA-2011-103800 2013-01-03 2013-01-07  Standard Class    DP-13000   \n1     740  CA-2011-112326 2013-01-04 2013-01-08  Standard Class    PO-19195   \n2     741  CA-2011-112326 2013-01-04 2013-01-08  Standard Class    PO-19195   \n3     742  CA-2011-112326 2013-01-04 2013-01-08  Standard Class    PO-19195   \n4    1760  CA-2011-141817 2013-01-05 2013-01-12  Standard Class    MB-18085   \n\n   Customer Name      Segment        Country          City  ... Postal Code  \\\n0  Darren Powers     Consumer  United States       Houston  ...       77095   \n1  Phillina Ober  Home Office  United States    Naperville  ...       60540   \n2  Phillina Ober  Home Office  United States    Naperville  ...       60540   \n3  Phillina Ober  Home Office  United States    Naperville  ...       60540   \n4     Mick Brown     Consumer  United States  Philadelphia  ...       19143   \n\n    Region       Product ID         Category Sub-Category  \\\n0  Central  OFF-PA-10000174  Office Supplies        Paper   \n1  Central  OFF-LA-10003223  Office Supplies       Labels   \n2  Central  OFF-ST-10002743  Office Supplies      Storage   \n3  Central  OFF-BI-10004094  Office Supplies      Binders   \n4     East  OFF-AR-10003478  Office Supplies          Art   \n\n                                        Product Name    Sales  Quantity  \\\n0  Message Book, Wirebound, Four 5 1/2\" X 4\" Form...   16.448         2   \n1                                          Avery 508   11.784         3   \n2                      SAFCO Boltless Steel Shelving  272.736         3   \n3         GBC Standard Plastic Binding Systems Combs    3.540         2   \n4  Avery Hi-Liter EverBold Pen Style Fluorescent ...   19.536         3   \n\n   Discount   Profit  \n0       0.2   5.5512  \n1       0.2   4.2717  \n2       0.2 -64.7748  \n3       0.8  -5.4870  \n4       0.2   4.8840  \n\n[5 rows x 21 columns]\n  Returned           Updated Order Returns\n0      Yes  CA-2014-153822 Product Damaged\n1      Yes  CA-2014-129707 Product Damaged\n2      Yes  CA-2011-152345 Product Damaged\n3      Yes  CA-2012-156440 Product Damaged\n4      Yes  US-2014-155999 Product Damaged\n              Person   Region\n0      Anna Andreadi     West\n1        Chuck Magee     East\n2     Kelly Williams  Central\n3  Cassandra Brandow    South\n"
    }
   ],
   "source": [
    "print(orders.head())\n",
    "print(returns.head())\n",
    "print(people.head())"
   ]
  },
  {
   "cell_type": "code",
   "execution_count": 22,
   "metadata": {},
   "outputs": [
    {
     "output_type": "stream",
     "name": "stdout",
     "text": "Index(['row id', 'order id', 'order date', 'ship date', 'ship mode',\n       'customer id', 'customer name', 'segment', 'country', 'city', 'state',\n       'postal code', 'region', 'product id', 'category', 'sub-category',\n       'product name', 'sales', 'quantity', 'discount', 'profit'],\n      dtype='object')\nIndex(['person', 'region'], dtype='object')\n"
    }
   ],
   "source": [
    "# Renaming columns\n",
    "\n",
    "orders.columns = orders.columns.str.lower()\n",
    "people.columns = people.columns.str.lower()\n",
    "\n",
    "print(orders.columns)\n",
    "print(people.columns)"
   ]
  },
  {
   "cell_type": "code",
   "execution_count": 32,
   "metadata": {},
   "outputs": [],
   "source": [
    "# Let's \"look up\" the salesperson into the orders data\n",
    "\n",
    "report = orders.merge(people, on='region', how='left')"
   ]
  },
  {
   "cell_type": "code",
   "execution_count": 42,
   "metadata": {},
   "outputs": [],
   "source": [
    "# We want total sales by rep.\n",
    "\n",
    "report_agg = report.groupby(['person'])['sales','profit'].sum()"
   ]
  },
  {
   "cell_type": "code",
   "execution_count": 44,
   "metadata": {},
   "outputs": [],
   "source": [
    "# Let's write this to Excel.\n",
    "\n",
    "report_agg.to_excel(\"sales-report.xlsx\")"
   ]
  },
  {
   "cell_type": "markdown",
   "metadata": {},
   "source": [
    "# DRILL: `baseball.xlsx`"
   ]
  },
  {
   "cell_type": "code",
   "execution_count": null,
   "metadata": {},
   "outputs": [],
   "source": [
    "'''\n",
    "1. Read the `teams`, `salaries` and `people` worksheets \n",
    "into DataFrames of the same name.\n",
    "'''\n",
    "\n",
    "import ____ ___ ___\n",
    "\n"
   ]
  },
  {
   "cell_type": "code",
   "execution_count": 46,
   "metadata": {},
   "outputs": [],
   "source": [
    "teams = pd.read_excel(\"baseball.xlsx\", sheet_name='teams')\n",
    "salaries = pd.read_excel(\"baseball.xlsx\", sheet_name='salaries')\n",
    "people = pd.read_excel(\"baseball.xlsx\", sheet_name='people')\n"
   ]
  },
  {
   "cell_type": "code",
   "execution_count": 57,
   "metadata": {},
   "outputs": [],
   "source": [
    "'''\n",
    "2. \"Look up\" first names and \n",
    "last names from the people table into the\n",
    "salaries table\n",
    "'''\n",
    "\n",
    "salaries_report = salaries.merge(people[['playerID','nameFirst','nameLast']],on='playerID',how='left')"
   ]
  },
  {
   "cell_type": "code",
   "execution_count": 67,
   "metadata": {},
   "outputs": [
    {
     "output_type": "error",
     "ename": "ValueError",
     "evalue": "No axis named salary for object type <class 'pandas.core.series.Series'>",
     "traceback": [
      "\u001b[1;31m---------------------------------------------------------------------------\u001b[0m",
      "\u001b[1;31mValueError\u001b[0m                                Traceback (most recent call last)",
      "\u001b[1;32m<ipython-input-67-de10e490f360>\u001b[0m in \u001b[0;36m<module>\u001b[1;34m\u001b[0m\n\u001b[0;32m      2\u001b[0m \u001b[1;33m\u001b[0m\u001b[0m\n\u001b[0;32m      3\u001b[0m \u001b[0msalaries_agg\u001b[0m \u001b[1;33m=\u001b[0m \u001b[0msalaries_report\u001b[0m\u001b[1;33m.\u001b[0m\u001b[0mgroupby\u001b[0m\u001b[1;33m(\u001b[0m\u001b[1;33m[\u001b[0m\u001b[1;34m'playerID'\u001b[0m\u001b[1;33m,\u001b[0m\u001b[1;34m'nameFirst'\u001b[0m\u001b[1;33m,\u001b[0m\u001b[1;34m'nameLast'\u001b[0m\u001b[1;33m]\u001b[0m\u001b[1;33m)\u001b[0m\u001b[1;33m[\u001b[0m\u001b[1;34m'salary'\u001b[0m\u001b[1;33m]\u001b[0m\u001b[1;33m.\u001b[0m\u001b[0msum\u001b[0m\u001b[1;33m(\u001b[0m\u001b[1;33m)\u001b[0m\u001b[1;33m\u001b[0m\u001b[1;33m\u001b[0m\u001b[0m\n\u001b[1;32m----> 4\u001b[1;33m \u001b[0msalaries_agg\u001b[0m\u001b[1;33m.\u001b[0m\u001b[0msort_values\u001b[0m\u001b[1;33m(\u001b[0m\u001b[1;34m'salary'\u001b[0m\u001b[1;33m)\u001b[0m\u001b[1;33m\u001b[0m\u001b[1;33m\u001b[0m\u001b[0m\n\u001b[0m",
      "\u001b[1;32m~\\Anaconda3\\lib\\site-packages\\pandas\\core\\series.py\u001b[0m in \u001b[0;36msort_values\u001b[1;34m(self, axis, ascending, inplace, kind, na_position)\u001b[0m\n\u001b[0;32m   3135\u001b[0m         \u001b[0minplace\u001b[0m \u001b[1;33m=\u001b[0m \u001b[0mvalidate_bool_kwarg\u001b[0m\u001b[1;33m(\u001b[0m\u001b[0minplace\u001b[0m\u001b[1;33m,\u001b[0m \u001b[1;34m\"inplace\"\u001b[0m\u001b[1;33m)\u001b[0m\u001b[1;33m\u001b[0m\u001b[1;33m\u001b[0m\u001b[0m\n\u001b[0;32m   3136\u001b[0m         \u001b[1;31m# Validate the axis parameter\u001b[0m\u001b[1;33m\u001b[0m\u001b[1;33m\u001b[0m\u001b[1;33m\u001b[0m\u001b[0m\n\u001b[1;32m-> 3137\u001b[1;33m         \u001b[0mself\u001b[0m\u001b[1;33m.\u001b[0m\u001b[0m_get_axis_number\u001b[0m\u001b[1;33m(\u001b[0m\u001b[0maxis\u001b[0m\u001b[1;33m)\u001b[0m\u001b[1;33m\u001b[0m\u001b[1;33m\u001b[0m\u001b[0m\n\u001b[0m\u001b[0;32m   3138\u001b[0m \u001b[1;33m\u001b[0m\u001b[0m\n\u001b[0;32m   3139\u001b[0m         \u001b[1;31m# GH 5856/5853\u001b[0m\u001b[1;33m\u001b[0m\u001b[1;33m\u001b[0m\u001b[1;33m\u001b[0m\u001b[0m\n",
      "\u001b[1;32m~\\Anaconda3\\lib\\site-packages\\pandas\\core\\generic.py\u001b[0m in \u001b[0;36m_get_axis_number\u001b[1;34m(cls, axis)\u001b[0m\n\u001b[0;32m    409\u001b[0m             \u001b[1;32mexcept\u001b[0m \u001b[0mKeyError\u001b[0m\u001b[1;33m:\u001b[0m\u001b[1;33m\u001b[0m\u001b[1;33m\u001b[0m\u001b[0m\n\u001b[0;32m    410\u001b[0m                 \u001b[1;32mpass\u001b[0m\u001b[1;33m\u001b[0m\u001b[1;33m\u001b[0m\u001b[0m\n\u001b[1;32m--> 411\u001b[1;33m         \u001b[1;32mraise\u001b[0m \u001b[0mValueError\u001b[0m\u001b[1;33m(\u001b[0m\u001b[1;34m\"No axis named {0} for object type {1}\"\u001b[0m\u001b[1;33m.\u001b[0m\u001b[0mformat\u001b[0m\u001b[1;33m(\u001b[0m\u001b[0maxis\u001b[0m\u001b[1;33m,\u001b[0m \u001b[0mcls\u001b[0m\u001b[1;33m)\u001b[0m\u001b[1;33m)\u001b[0m\u001b[1;33m\u001b[0m\u001b[1;33m\u001b[0m\u001b[0m\n\u001b[0m\u001b[0;32m    412\u001b[0m \u001b[1;33m\u001b[0m\u001b[0m\n\u001b[0;32m    413\u001b[0m     \u001b[1;33m@\u001b[0m\u001b[0mclassmethod\u001b[0m\u001b[1;33m\u001b[0m\u001b[1;33m\u001b[0m\u001b[0m\n",
      "\u001b[1;31mValueError\u001b[0m: No axis named salary for object type <class 'pandas.core.series.Series'>"
     ]
    }
   ],
   "source": [
    "# Get total salaries by player\n",
    "\n",
    "salaries_agg = salaries_report.groupby(['playerID','nameFirst','nameLast'])['salary'].sum()\n"
   ]
  },
  {
   "cell_type": "code",
   "execution_count": 71,
   "metadata": {},
   "outputs": [],
   "source": [
    "# Sort from highest to lowest\n",
    "salaries_agg.sort_values(ascending=False).to_excel(\"salaries-report.xlsx\")"
   ]
  }
 ],
 "metadata": {
  "kernelspec": {
   "display_name": "Python 3",
   "language": "python",
   "name": "python3"
  },
  "language_info": {
   "codemirror_mode": {
    "name": "ipython",
    "version": 3
   },
   "file_extension": ".py",
   "mimetype": "text/x-python",
   "name": "python",
   "nbconvert_exporter": "python",
   "pygments_lexer": "ipython3",
   "version": "3.7.4-final"
  }
 },
 "nbformat": 4,
 "nbformat_minor": 2
}