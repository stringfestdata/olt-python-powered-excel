{
 "cells": [
  {
   "cell_type": "markdown",
   "metadata": {},
   "source": [
    "# QUIZ\n",
    "\n",
    "Place the below steps in the proper order for `xlsxwriter`. Not all steps may be necessary.\n",
    "\n",
    "- 2. Add a worksheet    \n",
    "- 3. Make your changes  \n",
    "- 1. Initialize the workbook  \n",
    "- ~~Create a new workbook from Excel~~  \n",
    "- 4. Close the workbook  "
   ]
  },
  {
   "cell_type": "markdown",
   "metadata": {},
   "source": [
    "# DRILL\n",
    "\n",
    "From Python:\n",
    "\n",
    "1. Create a workbook named `my-favorite-things.xlsx` with a worksheet called `favorites`.\n",
    "2. In cell `A1`, add your favorite color.\n",
    "3. In cell `A2`, your favorite food.\n",
    "4. In cell `A3`, your favorite animal. \n",
    "5. Close the workbook and admire it. "
   ]
  },
  {
   "cell_type": "code",
   "execution_count": null,
   "metadata": {},
   "outputs": [],
   "source": [
    "# 1. Initialize workbook\n",
    "workbook = xlsxwriter.Workbook('my-favorite-things.xlsx')\n",
    "\n",
    "# 2. Add worksheet. Let's name it 'helloworld.'\n",
    "worksheet = workbook.add_worksheet('favorites')\n",
    "\n",
    "# 3. Make changes\n",
    "worksheet.write('A1', 'Red')\n",
    "worksheet.write('A2', 'Cincinnati chili')\n",
    "worksheet.write('A3', 'Cat')\n",
    "\n",
    "# 4. Close the workbook\n",
    "workbook.close()"
   ]
  },
  {
   "cell_type": "markdown",
   "metadata": {},
   "source": [
    "# DRILL\n",
    "\n",
    "From Python:\n",
    "\n",
    "- Create a workbook `hello-xlsxwriter` with three worksheets:\n",
    "  - Name the first worksheet `ws_1`. Add a row starting at cell `B3` with the values `23`,`26`,`27` each in a different cell.\n",
    "  - Name the second worksheet `ws_2`. Add a column from `A1` with values `1`,`2`,`3`,`Hello!` each in a different cell."
   ]
  },
  {
   "cell_type": "code",
   "execution_count": null,
   "metadata": {},
   "outputs": [],
   "source": [
    "# 1. Initialize workbook\n",
    "workbook = xlsxwriter.Workbook('hello-xlsxwriter.xlsx')\n",
    "\n",
    "worksheet1 = workbook.add_worksheet('ws_1')\n",
    "worksheet2 = workbook.add_worksheet('ws_2')\n",
    " \n",
    "my_row = [23,26,27]\n",
    "my_col = [1,2,3,'Hello!']\n",
    "\n",
    "\n",
    "worksheet1.write_row('B3', my_row)\n",
    "worksheet2.write_column('A1',my_col)\n",
    "\n",
    "# Always close the workbook when you are done!\n",
    "workbook.close()"
   ]
  }
 ],
 "metadata": {
  "language_info": {
   "codemirror_mode": {
    "name": "ipython",
    "version": 3
   },
   "file_extension": ".py",
   "mimetype": "text/x-python",
   "name": "python",
   "nbconvert_exporter": "python",
   "pygments_lexer": "ipython3",
   "version": 3
  },
  "orig_nbformat": 2
 },
 "nbformat": 4,
 "nbformat_minor": 2
}