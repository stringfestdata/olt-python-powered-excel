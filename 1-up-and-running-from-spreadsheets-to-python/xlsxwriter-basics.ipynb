{
 "cells": [
  {
   "cell_type": "markdown",
   "metadata": {},
   "source": [
    "# `xlsxwriter` basics\n",
    "\n",
    "`pandas` is great for performing automated data analysis and exporting the results of that analysis back to Excel, as you saw in the previous lesson. \n",
    "\n",
    "... but what about automating *Excel* itself?\n",
    "\n",
    "- Freezing panes\n",
    "- Changing fonts\n",
    "- Adding charts\n",
    "- Doing all that formatting stuff that your boss loves\n",
    "\n",
    "![Spreadsheet design is my passion!](images/spreadsheet-design-is-my-passion.png)\n",
    "\n",
    "## Enter `xlsxwriter`. \n",
    "\n",
    "- A module for creating Excel files\n",
    "- [See documentation](https://xlsxwriter.readthedocs.io)\n",
    " - [Get the PDF guide](https://www.google.com/url?sa=t&rct=j&q=&esrc=s&source=web&cd=&ved=2ahUKEwjJ9IDm0__pAhXFRzABHb81Bf4QFjAAegQIAhAB&url=https%3A%2F%2Fraw.githubusercontent.com%2Fjmcnamara%2FXlsxWriter%2Fmaster%2Fdocs%2FXlsxWriter.pdf&usg=AOvVaw3kHptxxFcoER5_Jgt9P8O8) (617 pages long!) We will *just* scratch the surface."
   ]
  },
  {
   "cell_type": "markdown",
   "metadata": {},
   "source": [
    "## `xlsxwriter` basics\n",
    "\n",
    "### Installation\n",
    "\n",
    "If xlsxwriter is not on your machine, you can install it from Jupyter\n",
    "with the below code. Only run it once to install!"
   ]
  },
  {
   "cell_type": "code",
   "execution_count": null,
   "metadata": {},
   "outputs": [],
   "source": [
    "# Run the below code once to install `xlsxwriter`.\n",
    "# Do not remove the exclamation mark -- only the #hashtag!\n",
    "\n",
    "#!pip install xlsxwriter"
   ]
  },
  {
   "cell_type": "markdown",
   "metadata": {},
   "source": [
    "## \"Hello, world\" from `xlsxwriter`\n",
    "\n",
    "Creating workbooks from `xlsxwriter` is more versatile than `pandas`, but also more involved. \n",
    "\n",
    "Here's our basic workflow for `xlsxwriter`:\n",
    "\n",
    "1. Initialize the workbook\n",
    "2. Add a worksheet\n",
    "3. Make your changes\n",
    "4. Close the workbook\n",
    "\n",
    "### Loading `xlsxwriter`\n",
    "\n",
    "While we've installed `xlsxwriter`, we still need to *load* it if we want to use it. This is accomplished with the code `import xlsxwriter`. \n",
    "\n",
    "We will need to execute this code each time we start a new Python session."
   ]
  },
  {
   "cell_type": "code",
   "execution_count": 5,
   "metadata": {},
   "outputs": [],
   "source": [
    "# Do this with each new session\n",
    "import xlsxwriter"
   ]
  },
  {
   "cell_type": "markdown",
   "metadata": {},
   "source": [
    "We are now ready to begin the process. \n",
    "\n",
    "Let's write `Hello, world!` in cell `A1` of our workbook. \n",
    "\n",
    "We can write to individual cells in Excel with the `write()` method.\n",
    "\n",
    "Do you remember the steps?"
   ]
  },
  {
   "cell_type": "code",
   "execution_count": 4,
   "metadata": {},
   "outputs": [
    {
     "output_type": "error",
     "ename": "NameError",
     "evalue": "name 'xlsxwriter' is not defined",
     "traceback": [
      "\u001b[1;31m---------------------------------------------------------------------------\u001b[0m",
      "\u001b[1;31mNameError\u001b[0m                                 Traceback (most recent call last)",
      "\u001b[1;32m<ipython-input-4-cb7d4f57e7ad>\u001b[0m in \u001b[0;36m<module>\u001b[1;34m\u001b[0m\n\u001b[0;32m      3\u001b[0m \u001b[1;31m# We are creating it from Python!\u001b[0m\u001b[1;33m\u001b[0m\u001b[1;33m\u001b[0m\u001b[1;33m\u001b[0m\u001b[0m\n\u001b[0;32m      4\u001b[0m \u001b[1;31m# Name the file something sensible\u001b[0m\u001b[1;33m\u001b[0m\u001b[1;33m\u001b[0m\u001b[1;33m\u001b[0m\u001b[0m\n\u001b[1;32m----> 5\u001b[1;33m \u001b[0mworkbook\u001b[0m \u001b[1;33m=\u001b[0m \u001b[0mxlsxwriter\u001b[0m\u001b[1;33m.\u001b[0m\u001b[0mWorkbook\u001b[0m\u001b[1;33m(\u001b[0m\u001b[1;34m'hello-world.xlsx'\u001b[0m\u001b[1;33m)\u001b[0m\u001b[1;33m\u001b[0m\u001b[1;33m\u001b[0m\u001b[0m\n\u001b[0m\u001b[0;32m      6\u001b[0m \u001b[1;33m\u001b[0m\u001b[0m\n\u001b[0;32m      7\u001b[0m \u001b[1;31m# Make your changes.\u001b[0m\u001b[1;33m\u001b[0m\u001b[1;33m\u001b[0m\u001b[1;33m\u001b[0m\u001b[0m\n",
      "\u001b[1;31mNameError\u001b[0m: name 'xlsxwriter' is not defined"
     ]
    }
   ],
   "source": [
    "# Initialize a workbook.\n",
    "# This workbook doesn't exist yet. \n",
    "# We are creating it from Python!\n",
    "# Name the file something sensible\n",
    "workbook = xlsxwriter.Workbook('hello-world.xlsx')\n",
    "\n",
    "# Make your changes.\n",
    "# Write to a given cell with worksheet.write()\n",
    "worksheet.write('A1', 'Hello, world!')\n",
    "\n",
    "# Close the workbook\n",
    "# Your workbook isn't searchable until you \n",
    "# close it.\n",
    "workbook.close()\n"
   ]
  },
  {
   "cell_type": "markdown",
   "metadata": {},
   "source": [
    "Check out the resulting workbook, `hello-world.xlsx`.\n",
    "\n",
    "*Why don't we see \"Hello, world\" on cell `A1`?*\n",
    "\n",
    "It's because we forgot a step:\n",
    "\n",
    "1. Initialize the workbook\n",
    "2. **Add a worksheet**\n",
    "3. Make your changes\n",
    "4. Close the workbook\n",
    "\n",
    "Let's try this again:"
   ]
  },
  {
   "cell_type": "code",
   "execution_count": 2,
   "metadata": {},
   "outputs": [
    {
     "output_type": "error",
     "ename": "NameError",
     "evalue": "name 'xlsxwriter' is not defined",
     "traceback": [
      "\u001b[1;31m---------------------------------------------------------------------------\u001b[0m",
      "\u001b[1;31mNameError\u001b[0m                                 Traceback (most recent call last)",
      "\u001b[1;32m<ipython-input-2-ad3f5b7c7428>\u001b[0m in \u001b[0;36m<module>\u001b[1;34m\u001b[0m\n\u001b[0;32m      1\u001b[0m \u001b[1;31m# 1. Initialize workbook\u001b[0m\u001b[1;33m\u001b[0m\u001b[1;33m\u001b[0m\u001b[1;33m\u001b[0m\u001b[0m\n\u001b[1;32m----> 2\u001b[1;33m \u001b[0mworkbook\u001b[0m \u001b[1;33m=\u001b[0m \u001b[0mxlsxwriter\u001b[0m\u001b[1;33m.\u001b[0m\u001b[0mWorkbook\u001b[0m\u001b[1;33m(\u001b[0m\u001b[1;34m'hello-world.xlsx'\u001b[0m\u001b[1;33m)\u001b[0m\u001b[1;33m\u001b[0m\u001b[1;33m\u001b[0m\u001b[0m\n\u001b[0m\u001b[0;32m      3\u001b[0m \u001b[1;33m\u001b[0m\u001b[0m\n\u001b[0;32m      4\u001b[0m \u001b[1;31m# 2. Add worksheet. Let's name it 'helloworld.'\u001b[0m\u001b[1;33m\u001b[0m\u001b[1;33m\u001b[0m\u001b[1;33m\u001b[0m\u001b[0m\n\u001b[0;32m      5\u001b[0m \u001b[0mworksheet\u001b[0m \u001b[1;33m=\u001b[0m \u001b[0mworkbook\u001b[0m\u001b[1;33m.\u001b[0m\u001b[0madd_worksheet\u001b[0m\u001b[1;33m(\u001b[0m\u001b[1;34m'helloworld'\u001b[0m\u001b[1;33m)\u001b[0m\u001b[1;33m\u001b[0m\u001b[1;33m\u001b[0m\u001b[0m\n",
      "\u001b[1;31mNameError\u001b[0m: name 'xlsxwriter' is not defined"
     ]
    }
   ],
   "source": [
    "# 1. Initialize workbook\n",
    "workbook = xlsxwriter.Workbook('hello-world.xlsx')\n",
    "\n",
    "# 2. Add worksheet. Let's name it 'helloworld.'\n",
    "worksheet = workbook.add_worksheet('helloworld')\n",
    "\n",
    "# 3. Make changes\n",
    "worksheet.write('A1', 'Hello, world!')\n",
    "\n",
    "# 4. Close the workbook\n",
    "workbook.close()"
   ]
  },
  {
   "cell_type": "markdown",
   "metadata": {},
   "source": [
    "# DRILL\n",
    "\n",
    "1. Place the below steps in the proper order for `xlsxwriter`. Not all steps may be necessary.\n",
    "\n",
    "- Add a worksheet    \n",
    "- Make your changes  \n",
    "- Initialize the workbook  \n",
    "- Create a new workbook from Excel  \n",
    "- Close the workbook  \n",
    "\n",
    "2. Fill out the code below to do the following:  \n",
    "a. Create a workbook named `my-favorite-things.xlsx` with a worksheet called `favorites`.    \n",
    "b. In cell `A1`, add your favorite color.  \n",
    "c. In cell `A2`, your favorite food.  \n",
    "d. In cell `A3`, your favorite animal.   \n",
    "e. Close the workbook and admire it.     \n"
   ]
  },
  {
   "cell_type": "code",
   "execution_count": 22,
   "metadata": {},
   "outputs": [],
   "source": [
    "# Import xlsxwriter\n",
    "___ ___\n",
    "\n",
    "# 1. Initialize workbook\n",
    "workbook = xlsxwriter.Workbook(___)\n",
    "\n",
    "# 2. Add worksheet\n",
    "worksheet = workbook.___(___)\n",
    "\n",
    "# 3. Make changes\n",
    "worksheet.___(___, ___)\n",
    "worksheet.___(___, 'Your favorite food here')\n",
    "worksheet.write('A3', ___)\n",
    "\n",
    "# 4. Close the workbook\n",
    "___"
   ]
  },
  {
   "cell_type": "markdown",
   "metadata": {},
   "source": [
    "Now that you have the hang of writing individual cells to a worksheet, let's look at writing rows, columns and multiple worksheets to a workbook. \n",
    "\n",
    "We will do so with Python *lists*. To learn more about Python data structures, such as lists, check out the resources.\n",
    "\n",
    "## Adding rows and columns\n",
    "\n",
    "- We can add whole rows to a worksheet with `write_row()`.  \n",
    "- We can add whole columns to a worksheet with `write_columns`.\n",
    "\n",
    "In each case, we need to specify *where* in the workbook the data should be added. \n",
    "\n",
    "We have a couple of options for this:\n",
    "\n",
    "- We can use alphanumeric cell references such as `A1`, `C3`, etc. \n",
    "- We can also use `R1C1`-like references where the first number indicates the  row position of the cell, and the second position the column. \n",
    "  - In this convention, `0, 0` is the equivalent of cell `A1`; so `1,2` does not indicate `B1` but `C2`!"
   ]
  },
  {
   "cell_type": "code",
   "execution_count": 6,
   "metadata": {},
   "outputs": [],
   "source": [
    " # 1. Initialize workbook\n",
    "workbook = xlsxwriter.Workbook('rows-and-columns.xlsx')\n",
    "\n",
    "# 2. Add worksheet -- by default will\n",
    "# use Excel's Sheet1 naming convention\n",
    "worksheet = workbook.add_worksheet()\n",
    "\n",
    "# Let's define our rows and columns \n",
    "my_row = ['Jack','Jill','Susan','Bobby']\n",
    "my_col = [0,1,1,2,3,5]\n",
    "\n",
    "# 3. Make changes\n",
    "worksheet.write_row('A1', my_row)\n",
    "\n",
    "# row/column sequence works as well\n",
    "worksheet.write_column(4,4,my_col)\n",
    "\n",
    "# 4. Close the workbook.\n",
    "workbook.close()"
   ]
  },
  {
   "cell_type": "markdown",
   "metadata": {},
   "source": [
    "Be careful that you don't over-write any cells in your workbook!"
   ]
  },
  {
   "cell_type": "code",
   "execution_count": 7,
   "metadata": {},
   "outputs": [],
   "source": [
    " # 1. Initialize workbook\n",
    "workbook = xlsxwriter.Workbook('wheres-my-data.xlsx')\n",
    "\n",
    "# 2. Add worksheet\n",
    "worksheet = workbook.add_worksheet()\n",
    "\n",
    "# Let's define our rows and columns \n",
    "my_row = [1,2,3,'Boo!']\n",
    "my_col = [0,1,1,2,3,5]\n",
    "my_col_2 = [5,2,3]\n",
    "\n",
    "# 3. Make changes\n",
    "worksheet.write_row('A1', my_row)\n",
    "worksheet.write_column(0,0,my_col)\n",
    "worksheet.write_column('B1', my_col_2)\n",
    "\n",
    "# 4. Close the workbook.\n",
    "workbook.close()"
   ]
  },
  {
   "cell_type": "markdown",
   "metadata": {},
   "source": [
    "## Adding data to multiple worksheets\n",
    "\n",
    "Thus far, we've only been adding one worksheet to a workbook.\n",
    "\n",
    "To add multiple, we can call `add_worksheet()` multiple times, assigning the results to multiple *variables* representing each worksheet."
   ]
  },
  {
   "cell_type": "code",
   "execution_count": 8,
   "metadata": {},
   "outputs": [],
   "source": [
    "# 1. Initialize workbook\n",
    "workbook = xlsxwriter.Workbook('multiple-sheets.xlsx')\n",
    "\n",
    "worksheet1 = workbook.add_worksheet('This sheet')\n",
    "worksheet2 = workbook.add_worksheet('That sheet')\n",
    "worksheet3 = workbook.add_worksheet('The other sheet')\n",
    "\n",
    "# Can you guess what these will do?\n",
    "worksheet2.write(1,4,'Boo!')\n",
    "worksheet3.write('A6','Boo who!')\n",
    "\n",
    "# Always close the workbook when you are done!\n",
    "workbook.close()"
   ]
  },
  {
   "cell_type": "markdown",
   "metadata": {},
   "source": [
    "# DRILL\n",
    "\n",
    "From Python:\n",
    "\n",
    "- Create a workbook `hello-xlsxwriter` with three worksheets:\n",
    "  - Name the first worksheet `ws_1`. Add a row starting at cell `B3` with the values `23`,`26`,`27` each in a different cell.\n",
    "  - Name the second worksheet `ws_2`. Add a column from `A1` with values `1`,`2`,`3`,`Hello!` each in a different cell.\n",
    "\n",
    "I have provided some scaffolding for this exercise below, or try to build it on your own. \n"
   ]
  },
  {
   "cell_type": "code",
   "execution_count": 6,
   "metadata": {},
   "outputs": [],
   "source": [
    "# 1. Initialize workbook\n",
    "workbook = xlsxwriter.Workbook('hello-xlsxwriter.xlsx')\n",
    "\n",
    "worksheet1 = ___.___(___)\n",
    "worksheet2 = ___.___('ws_2')\n",
    " \n",
    "my_row = [23,26,27]\n",
    "my_col = [1,2,3,'Hello!']\n",
    "\n",
    "\n",
    "worksheet1.___(___, ___)\n",
    "worksheet2.___(___,___)\n",
    "\n",
    "# Always close the workbook when you are done!\n",
    "___"
   ]
  },
  {
   "cell_type": "markdown",
   "metadata": {},
   "source": [
    "## Questions?"
   ]
  }
 ],
 "metadata": {
  "language_info": {
   "codemirror_mode": {
    "name": "ipython",
    "version": 3
   },
   "file_extension": ".py",
   "mimetype": "text/x-python",
   "name": "python",
   "nbconvert_exporter": "python",
   "pygments_lexer": "ipython3",
   "version": "3.7.4-final"
  },
  "orig_nbformat": 2,
  "kernelspec": {
   "name": "python3",
   "display_name": "Python 3"
  }
 },
 "nbformat": 4,
 "nbformat_minor": 2
}