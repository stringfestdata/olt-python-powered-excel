{
 "cells": [
  {
   "cell_type": "markdown",
   "metadata": {},
   "source": [
    "# `xlsxwriter` basics\n",
    "\n",
    "`pandas` is great for performing automated data analysis and exporting the results of that analysis back to Excel, as you saw in the previous lesson. \n",
    "\n",
    "... but what about automating *Excel* itself?\n",
    "\n",
    "- Freezing panes\n",
    "- Changing fonts\n",
    "- Adding charts\n",
    "- Doing all that formatting stuff that your boss loves\n",
    "\n",
    "![Spreadsheet design is my passion!](spreadsheet-design-is-my-passion.png)\n",
    "\n",
    "## Enter `xlsxwriter`. \n",
    "\n",
    "- A module for creating Excel files\n",
    "- [See documentation](https://xlsxwriter.readthedocs.io)\n",
    " - [Get the PDF guide](https://www.google.com/url?sa=t&rct=j&q=&esrc=s&source=web&cd=&ved=2ahUKEwjJ9IDm0__pAhXFRzABHb81Bf4QFjAAegQIAhAB&url=https%3A%2F%2Fraw.githubusercontent.com%2Fjmcnamara%2FXlsxWriter%2Fmaster%2Fdocs%2FXlsxWriter.pdf&usg=AOvVaw3kHptxxFcoER5_Jgt9P8O8) (617 pages long!) We will *just* scratch the surface."
   ]
  },
  {
   "cell_type": "markdown",
   "metadata": {},
   "source": [
    "## `xlsxwriter` basics\n",
    "\n",
    "### Installation"
   ]
  },
  {
   "cell_type": "code",
   "execution_count": null,
   "metadata": {},
   "outputs": [],
   "source": [
    "'''\n",
    "If xlsxwriter is not on your\n",
    "machine, you can install it from Jupyter\n",
    "with the below code. Only run it once to install!\n",
    "'''\n",
    "\n",
    "#!pip install xlsxwriter"
   ]
  },
  {
   "cell_type": "markdown",
   "metadata": {},
   "source": [
    "## \"Hello, world\" from `xlsxwriter`\n",
    "\n",
    "The basic workflow of `xlsxwriter`:\n",
    "\n",
    "1. Initialize the workbook\n",
    "2. Add a worksheet\n",
    "3. Make your changes\n",
    "4. Close the workbook"
   ]
  },
  {
   "cell_type": "code",
   "execution_count": 18,
   "metadata": {},
   "outputs": [
    {
     "output_type": "execute_result",
     "data": {
      "text/plain": "0"
     },
     "metadata": {},
     "execution_count": 18
    }
   ],
   "source": [
    "import xlsxwriter\n",
    "\n",
    "# 1. Initialize a workbook.\n",
    "# This workbook doesn't exist yet. \n",
    "# We are creating it from Python!\n",
    "workbook = xlsxwriter.Workbook('hello-world.xlsx')\n",
    "\n",
    "# 3. Make your changes\n",
    "# Write to a given cell with worksheet.write()\n",
    "worksheet.write('A1', 'Hello, world!')\n",
    "\n",
    "# 4. Close the workbook\n",
    "# Your workbook isn't searchable until you \n",
    "# close it.\n",
    "workbook.close()\n"
   ]
  },
  {
   "cell_type": "markdown",
   "metadata": {},
   "source": [
    "Check out the resulting workbook, `hello-world.xlsx`.\n",
    "\n",
    "*Why don't we see \"Hello, world\" on cell `A1`?*\n",
    "\n",
    "It's because we forgot a step:\n",
    "\n",
    "1. Initialize the workbook\n",
    "2. **Add a worksheet**\n",
    "3. Make your changes\n",
    "4. Close the workbook\n",
    "\n",
    "Let's try this again:"
   ]
  },
  {
   "cell_type": "code",
   "execution_count": 21,
   "metadata": {},
   "outputs": [],
   "source": [
    "# 1. Initialize workbook\n",
    "workbook = xlsxwriter.Workbook('hello-world.xlsx')\n",
    "\n",
    "# 2. Add worksheet. Let's name it 'helloworld.'\n",
    "worksheet = workbook.add_worksheet('helloworld')\n",
    "\n",
    "# 3. Make changes\n",
    "worksheet.write('A1', 'Hello, world!')\n",
    "\n",
    "# 4. Close the workbook\n",
    "workbook.close()"
   ]
  },
  {
   "cell_type": "markdown",
   "metadata": {},
   "source": [
    "# QUIZ\n",
    "\n",
    "Place the below steps in the proper order for `xlsxwriter`. Not all steps may be necessary.\n",
    "\n",
    "- Add a worksheet    \n",
    "- Make your changes  \n",
    "- Initialize the workbook  \n",
    "- Create a new workbook from Excel  \n",
    "- Close the workbook  \n"
   ]
  },
  {
   "cell_type": "markdown",
   "metadata": {},
   "source": [
    "# DRILL\n",
    "\n",
    "From Python:\n",
    "\n",
    "1. Create a workbook named `my-favorite-things.xlsx` with a worksheet called `favorites`.\n",
    "2. In cell `A1`, add your favorite color.\n",
    "3. In cell `A2`, your favorite food.\n",
    "4. In cell `A3`, your favorite animal. \n",
    "5. Close the workbook and admire it. "
   ]
  },
  {
   "cell_type": "code",
   "execution_count": 22,
   "metadata": {},
   "outputs": [],
   "source": [
    "# 1. Initialize workbook\n",
    "workbook = xlsxwriter.Workbook('my-favorite-things.xlsx')\n",
    "\n",
    "# 2. Add worksheet. Let's name it 'helloworld.'\n",
    "worksheet = workbook.add_worksheet('favorites')\n",
    "\n",
    "# 3. Make changes\n",
    "worksheet.write('A1', 'Red')\n",
    "worksheet.write('A2', 'Cincinnati chili')\n",
    "worksheet.write('A3', 'Cat')\n",
    "\n",
    "# 4. Close the workbook\n",
    "workbook.close()"
   ]
  },
  {
   "cell_type": "markdown",
   "metadata": {},
   "source": [
    "Now that you have the hang of writing individual cells to a worksheet, let's look at writing rows, columns and multiple worksheets to a workbook. \n",
    "\n",
    "We will do so with Python *lists*. To learn more about Python data structures, such as lists, check out the resources.\n",
    "\n",
    "## Adding rows and columns\n",
    "\n",
    "- We will add rows to a worksheet with `write_row()`.  \n",
    "- We will add columns to a worksheet with `write_columns`.\n",
    "\n",
    "In each case, we need to specify *where* in the workbook the data should be added. \n",
    "\n",
    "We have a couple of options for this:\n",
    "\n",
    "- We can use alphanumeric cell references such as `A1`, `C3`, etc. \n",
    "- We can also use `R1C1` references where the first number indicates the  row position of the cell, and the second position the column. \n",
    "  - For example, `1,2` indicates the first row, second column of the worksheet. This corresponds to cell `B1`. "
   ]
  },
  {
   "cell_type": "code",
   "execution_count": 3,
   "metadata": {},
   "outputs": [],
   "source": [
    " # 1. Initialize workbook\n",
    "workbook = xlsxwriter.Workbook('rows-and-columns.xlsx')\n",
    "\n",
    "# 2. Add worksheet\n",
    "worksheet = workbook.add_worksheet()\n",
    "\n",
    "# Let's define our rows and columns \n",
    "my_row = ['Jack','Jill','Susan','Bobby']\n",
    "my_col = [0,1,1,2,3,5]\n",
    "\n",
    "# 3. Make changes\n",
    "worksheet.write_row('A1', my_row)\n",
    "\n",
    "# row/column sequence works as well\n",
    "worksheet.write_column(4,4,my_col)\n",
    "\n",
    "# 4. Close the workbook.\n",
    "workbook.close()"
   ]
  },
  {
   "cell_type": "markdown",
   "metadata": {},
   "source": [
    "Be careful that you don't over-write any cells in your workbook!"
   ]
  },
  {
   "cell_type": "code",
   "execution_count": 5,
   "metadata": {},
   "outputs": [],
   "source": [
    " # 1. Initialize workbook\n",
    "workbook = xlsxwriter.Workbook('wheres-my-data.xlsx')\n",
    "\n",
    "# 2. Add worksheet\n",
    "worksheet = workbook.add_worksheet()\n",
    "\n",
    "# Let's define our rows and columns \n",
    "my_row = [1,2,3,'Boo!']\n",
    "my_col = [0,1,1,2,3,5]\n",
    "my_col_2 = [5,2,3]\n",
    "\n",
    "# 3. Make changes\n",
    "worksheet.write_row('A1', my_row)\n",
    "worksheet.write_column(0,0,my_col)\n",
    "worksheet.write_column('B1', my_col_2)\n",
    "\n",
    "# 4. Close the workbook.\n",
    "workbook.close()"
   ]
  },
  {
   "cell_type": "markdown",
   "metadata": {},
   "source": [
    "## Adding data to multiple worksheets\n",
    "\n",
    "Thus far, we've only been adding one worksheet to a workbook.\n",
    "\n",
    "To add multiple, we can call `add_worksheet()` multiple times, assigning the results to multiple *variables* representing each worksheet."
   ]
  },
  {
   "cell_type": "code",
   "execution_count": 41,
   "metadata": {},
   "outputs": [],
   "source": [
    "# 1. Initialize workbook\n",
    "workbook = xlsxwriter.Workbook('multiple-sheets.xlsx')\n",
    "\n",
    "worksheet1 = workbook.add_worksheet('This sheet')\n",
    "worksheet2 = workbook.add_worksheet('That sheet')\n",
    "worksheet3 = workbook.add_worksheet('The other sheet')\n",
    "\n",
    "# Can you guess what these will do?\n",
    "worksheet2.write(1,4,'Boo!')\n",
    "worksheet3.write('A6','Boo who!')\n",
    "\n",
    "# Always close the workbook when you are done!\n",
    "workbook.close()"
   ]
  },
  {
   "cell_type": "markdown",
   "metadata": {},
   "source": [
    "# DRILL\n",
    "\n",
    "From Python:\n",
    "\n",
    "- Create a workbook `hello-xlsxwriter` with three worksheets:\n",
    "  - Name the first worksheet `ws_1`. Add a row starting at cell `B3` with the values `23`,`26`,`27` each in a different cell.\n",
    "  - Name the second worksheet `ws_2`. Add a column from `A1` with values `1`,`2`,`3`,`Hello!` each in a different cell.\n",
    "\n",
    "I have provided some scaffolding for this exercise below, or try to build it on your own. \n"
   ]
  },
  {
   "cell_type": "code",
   "execution_count": 6,
   "metadata": {},
   "outputs": [],
   "source": [
    "# 1. Initialize workbook\n",
    "workbook = xlsxwriter.Workbook('hello-xlsxwriter.xlsx')\n",
    "\n",
    "worksheet1 = workbook.add_worksheet('ws_1')\n",
    "worksheet2 = workbook.add_worksheet('ws_2')\n",
    " \n",
    "my_row = [23,26,27]\n",
    "my_col = [1,2,3,'Hello!']\n",
    "\n",
    "\n",
    "worksheet1.write_row('B3', my_row)\n",
    "worksheet2.write_column('A1',my_col)\n",
    "\n",
    "# Always close the workbook when you are done!\n",
    "workbook.close()"
   ]
  },
  {
   "cell_type": "code",
   "execution_count": null,
   "metadata": {},
   "outputs": [],
   "source": []
  }
 ],
 "metadata": {
  "language_info": {
   "codemirror_mode": {
    "name": "ipython",
    "version": 3
   },
   "file_extension": ".py",
   "mimetype": "text/x-python",
   "name": "python",
   "nbconvert_exporter": "python",
   "pygments_lexer": "ipython3",
   "version": "3.8.3-final"
  },
  "orig_nbformat": 2,
  "kernelspec": {
   "name": "python3",
   "display_name": "Python 3"
  }
 },
 "nbformat": 4,
 "nbformat_minor": 2
}