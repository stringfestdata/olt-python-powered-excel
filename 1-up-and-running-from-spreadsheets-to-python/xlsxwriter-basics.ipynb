{
 "cells": [
  {
   "cell_type": "markdown",
   "metadata": {},
   "source": [
    "# `xlsxwriter` basics\n",
    "\n",
    "`pandas` is great for automated data manipulation... \n",
    "\n",
    "... but what about automating *Excel* itself?\n",
    "\n",
    "- Freezing panes\n",
    "- Changing fonts\n",
    "- Adding charts\n",
    "- Doing all that formatting stuff that your boss loves\n",
    "\n",
    "![Spreadsheet design is my passion!](spreadsheet-design-is-my-passion.png)\n",
    "\n",
    "## Enter `xlsxwriter`. \n",
    "\n",
    "- A module for creating Excel files\n",
    "- [See documentation](https://xlsxwriter.readthedocs.io)\n",
    " - [Get the PDF guide](https://www.google.com/url?sa=t&rct=j&q=&esrc=s&source=web&cd=&ved=2ahUKEwjJ9IDm0__pAhXFRzABHb81Bf4QFjAAegQIAhAB&url=https%3A%2F%2Fraw.githubusercontent.com%2Fjmcnamara%2FXlsxWriter%2Fmaster%2Fdocs%2FXlsxWriter.pdf&usg=AOvVaw3kHptxxFcoER5_Jgt9P8O8) (617 pages long!)"
   ]
  },
  {
   "cell_type": "markdown",
   "metadata": {},
   "source": [
    "## `xlsxwriter` basics\n",
    "\n",
    "### Installation"
   ]
  },
  {
   "cell_type": "code",
   "execution_count": null,
   "metadata": {},
   "outputs": [],
   "source": [
    "'''\n",
    "If xlsxwriter is not on your\n",
    "machine, you can install it from Jupyter\n",
    "with the below code. Only run it once to install!\n",
    "'''\n",
    "\n",
    "#!pip install xlsxwriter"
   ]
  },
  {
   "cell_type": "markdown",
   "metadata": {},
   "source": [
    "## \"Hello, world\" from `xlsxwriter`\n",
    "\n",
    "The basic workflow:\n",
    "\n",
    "1. Initialize the workbook\n",
    "2. Add a worksheet\n",
    "3. Make your changes\n",
    "4. Close the workbook"
   ]
  },
  {
   "cell_type": "code",
   "execution_count": 18,
   "metadata": {},
   "outputs": [
    {
     "output_type": "execute_result",
     "data": {
      "text/plain": "0"
     },
     "metadata": {},
     "execution_count": 18
    }
   ],
   "source": [
    "import xlsxwriter\n",
    "\n",
    "# Open a new workbook\n",
    "workbook = xlsxwriter.Workbook('hello-world.xlsx')\n",
    "\n",
    "# Make your changes\n",
    "# Write to a given cell\n",
    "worksheet.write('A1', 'Hello, world!')\n"
   ]
  },
  {
   "cell_type": "code",
   "execution_count": 19,
   "metadata": {},
   "outputs": [],
   "source": [
    "# Your workbook isn't browseable until you \n",
    "# close it!\n",
    "\n",
    "workbook.close()"
   ]
  },
  {
   "cell_type": "markdown",
   "metadata": {},
   "source": [
    "- What happens if you try to execute the above code when the file is open? \n",
    "- *Why don't we see \"Hello, world\" on cell `A1`?*\n",
    "\n",
    "1. Initialize the workbook\n",
    "2. **Add a worksheet**\n",
    "3. Make your changes\n",
    "4. Close the workbook"
   ]
  },
  {
   "cell_type": "code",
   "execution_count": 21,
   "metadata": {},
   "outputs": [],
   "source": [
    "# 1. Initialize workbook\n",
    "workbook = xlsxwriter.Workbook('hello-world.xlsx')\n",
    "\n",
    "# 2. Add worksheet. Let's name it 'helloworld.'\n",
    "worksheet = workbook.add_worksheet('helloworld')\n",
    "\n",
    "# 3. Make changes\n",
    "worksheet.write('A1', 'Hello, world!')\n",
    "\n",
    "# 4. Close the workbook\n",
    "workbook.close()"
   ]
  },
  {
   "cell_type": "markdown",
   "metadata": {},
   "source": [
    "# DRILL\n",
    "\n",
    "From Python:\n",
    "\n",
    "1. Create a workbook named `my-favorite-things.xlsx` with a worksheet called `favorites`.\n",
    "2. In cell `A1`, add your favorite color.\n",
    "3. In cell `A2`, your favorite food.\n",
    "4. In cell `A3`, your favorite animal. \n",
    "5. Close the workbook and admire it. "
   ]
  },
  {
   "cell_type": "code",
   "execution_count": 22,
   "metadata": {},
   "outputs": [],
   "source": [
    "# 1. Initialize workbook\n",
    "workbook = xlsxwriter.Workbook('my-favorite-things.xlsx')\n",
    "\n",
    "# 2. Add worksheet. Let's name it 'helloworld.'\n",
    "worksheet = workbook.add_worksheet('favorites')\n",
    "\n",
    "# 3. Make changes\n",
    "worksheet.write('A1', 'Red')\n",
    "worksheet.write('A2', 'Cincinnati chili')\n",
    "worksheet.write('A3', 'Cat')\n",
    "\n",
    "# 4. Close the workbook\n",
    "workbook.close()"
   ]
  },
  {
   "cell_type": "markdown",
   "metadata": {},
   "source": [
    "Now that you have the hang of writing individual cells to a worksheet, let's look at writing rows, columns and multiple worksheets to a workbook. \n",
    "\n",
    "## Adding rows and columns"
   ]
  },
  {
   "cell_type": "code",
   "execution_count": 43,
   "metadata": {},
   "outputs": [],
   "source": [
    "# 1. Initialize workbook\n",
    "workbook = xlsxwriter.Workbook('rows-and-columns.xlsx')\n",
    "\n",
    "# 2. Add worksheet\n",
    "worksheet = workbook.add_worksheet()\n",
    "\n",
    "my_row = ['Plop','Plop','Fizz','Fizz']\n",
    "my_col = [0,1,1,2,3,5]\n",
    "\n",
    "# 3. Make changes\n",
    "worksheet.write_row('A1', my_row)\n",
    "\n",
    "# row/column sequence works as well\n",
    "worksheet.write_column(0,0,my_col)\n",
    "\n",
    "# 4. Close the workbook...\n",
    "# what happened to our intersected cell A1?\n",
    "workbook.close()"
   ]
  },
  {
   "cell_type": "markdown",
   "metadata": {},
   "source": [
    "## Adding data to multiple worksheets"
   ]
  },
  {
   "cell_type": "code",
   "execution_count": 41,
   "metadata": {},
   "outputs": [],
   "source": [
    "# 1. Initialize workbook\n",
    "workbook = xlsxwriter.Workbook('multiple-sheets.xlsx')\n",
    "\n",
    "worksheet1 = workbook.add_worksheet('This sheet')\n",
    "worksheet2 = workbook.add_worksheet('That sheet')\n",
    "worksheet3 = workbook.add_worksheet('The other sheet')\n",
    "\n",
    "# Can you guess what these will do?\n",
    "worksheet2.write(1,4,'Boo!')\n",
    "worksheet3.write('A6','Boo who!')\n",
    "\n",
    "workbook.close()"
   ]
  },
  {
   "cell_type": "code",
   "execution_count": null,
   "metadata": {},
   "outputs": [],
   "source": [
    "# DRILL\n",
    "\n",
    "From Python: "
   ]
  }
 ],
 "metadata": {
  "language_info": {
   "codemirror_mode": {
    "name": "ipython",
    "version": 3
   },
   "file_extension": ".py",
   "mimetype": "text/x-python",
   "name": "python",
   "nbconvert_exporter": "python",
   "pygments_lexer": "ipython3",
   "version": "3.7.4-final"
  },
  "orig_nbformat": 2,
  "kernelspec": {
   "name": "python3",
   "display_name": "Python 3"
  }
 },
 "nbformat": 4,
 "nbformat_minor": 2
}