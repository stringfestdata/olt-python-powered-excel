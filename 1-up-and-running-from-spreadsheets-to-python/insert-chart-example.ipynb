{
 "cells": [
  {
   "cell_type": "code",
   "execution_count": 2,
   "metadata": {},
   "outputs": [],
   "source": [
    "import xlsxwriter\n",
    "\n",
    "workbook = xlsxwriter.Workbook('chart.xlsx')\n",
    "worksheet = workbook.add_worksheet()\n",
    "\n",
    "# Create a new Chart object.\n",
    "chart = workbook.add_chart({'type': 'column'})\n",
    "\n",
    "# Write some data to add to plot on the chart.\n",
    "data = [\n",
    "[1, 2, 3, 4, 5],\n",
    "[2, 4, 6, 8, 10],\n",
    "[3, 6, 9, 12, 15],\n",
    "]\n",
    "worksheet.write_column('A1', data[0])\n",
    "worksheet.write_column('B1', data[1])\n",
    "worksheet.write_column('C1', data[2])\n",
    "\n",
    "# Configure the chart. In simplest case we add one or more data series.\n",
    "chart.add_series({'values': '=Sheet1!$A$1:$A$5'})\n",
    "chart.add_series({'values': '=Sheet1!$B$1:$B$5'})\n",
    "chart.add_series({'values': '=Sheet1!$C$1:$C$5'})\n",
    "\n",
    "# Insert the chart into the worksheet.\n",
    "worksheet.insert_chart('A7', chart)\n",
    "workbook.close()"
   ]
  },
  {
   "cell_type": "code",
   "execution_count": null,
   "metadata": {},
   "outputs": [],
   "source": []
  }
 ],
 "metadata": {
  "language_info": {
   "codemirror_mode": {
    "name": "ipython",
    "version": 3
   },
   "file_extension": ".py",
   "mimetype": "text/x-python",
   "name": "python",
   "nbconvert_exporter": "python",
   "pygments_lexer": "ipython3",
   "version": "3.7.4-final"
  },
  "orig_nbformat": 2,
  "kernelspec": {
   "name": "python3",
   "display_name": "Python 3"
  }
 },
 "nbformat": 4,
 "nbformat_minor": 2
}