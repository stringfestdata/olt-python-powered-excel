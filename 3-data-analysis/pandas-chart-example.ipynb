{
 "cells": [
  {
   "cell_type": "code",
   "execution_count": 1,
   "metadata": {},
   "outputs": [],
   "source": [
    "import pandas as pd\n",
    "\n",
    "# Create a Pandas dataframe from the data.\n",
    "df = pd.DataFrame({'Data': [10, 20, 30, 20, 15, 30, 45]})\n",
    "\n",
    "# Create a Pandas Excel writer using XlsxWriter as the engine.\n",
    "writer = pd.ExcelWriter('pandas_simple.xlsx', engine='xlsxwriter')\n",
    "\n",
    "# Convert the dataframe to an XlsxWriter Excel object.\n",
    "df.to_excel(writer, sheet_name='Sheet1')\n",
    "\n",
    "# Close the Pandas Excel writer and output the Excel file.\n",
    "writer.save()"
   ]
  },
  {
   "cell_type": "code",
   "execution_count": 2,
   "metadata": {},
   "outputs": [],
   "source": [
    "import pandas as pd\n",
    "\n",
    "# Create a Pandas dataframe from the data.\n",
    "df = pd.DataFrame({'Data': [10, 20, 30, 20, 15, 30, 45]})\n",
    "\n",
    "# Create a Pandas Excel writer using XlsxWriter as the engine.\n",
    "writer = pd.ExcelWriter('pandas_simple.xlsx', engine='xlsxwriter')\n",
    "\n",
    "# Convert the dataframe to an XlsxWriter Excel object.\n",
    "df.to_excel(writer, sheet_name='Sheet1')\n",
    "\n",
    "# Get the xlsxwriter objects from the dataframe writer object.\n",
    "workbook  = writer.book\n",
    "worksheet = writer.sheets['Sheet1']"
   ]
  },
  {
   "cell_type": "code",
   "execution_count": 4,
   "metadata": {},
   "outputs": [],
   "source": [
    "# Get the xlsxwriter objects from the dataframe writer object.\n",
    "workbook  = writer.book\n",
    "worksheet = writer.sheets['Sheet1']\n",
    "\n",
    "# Create a chart object.\n",
    "chart = workbook.add_chart({'type': 'column'})\n",
    "\n",
    "# Configure the series of the chart from the dataframe data.\n",
    "chart.add_series({'values': '=Sheet1!$B$2:$B$8'})\n",
    "\n",
    "# Insert the chart into the worksheet.\n",
    "worksheet.insert_chart('D2', chart)\n",
    "\n",
    "workbook.close()"
   ]
  },
  {
   "cell_type": "code",
   "execution_count": null,
   "metadata": {},
   "outputs": [],
   "source": [
    "# Create a bar chart\n",
    "\n",
    "chart1 = workbook.add_chart({'type': 'bar'})\n",
    "\n",
    "# Configure the first series.\n",
    "chart1.add_series({\n",
    "'name': '=Sheet1!$B$1',\n",
    "'categories': '=Sheet1!$A$2:$A$7',\n",
    "'values': '=Sheet1!$B$2:$B$7',\n",
    "})\n",
    "# Configure a second series. Note use of alternative syntax to define ranges.\n",
    "chart1.add_series({\n",
    "'name': ['Sheet1', 0, 2],\n",
    "'categories': ['Sheet1', 1, 0, 6, 0],\n",
    "'values': ['Sheet1', 1, 2, 6, 2],\n",
    "})\n",
    "# Add a chart title and some axis labels.\n",
    "chart1.set_title ({'name': 'Results of sample analysis'})\n",
    "chart1.set_x_axis({'name': 'Test number'})\n",
    "chart1.set_y_axis({'name': 'Sample length (mm)'})\n",
    "# Set an Excel chart style.\n",
    "chart1.set_style(11)\n",
    "# Insert the chart into the worksheet (with an offset).\n",
    "worksheet.insert_chart('D2', chart1, {'x_offset': 25, 'y_offset': 10})"
   ]
  }
 ],
 "metadata": {
  "language_info": {
   "codemirror_mode": {
    "name": "ipython",
    "version": 3
   },
   "file_extension": ".py",
   "mimetype": "text/x-python",
   "name": "python",
   "nbconvert_exporter": "python",
   "pygments_lexer": "ipython3",
   "version": "3.7.4-final"
  },
  "orig_nbformat": 2,
  "kernelspec": {
   "name": "python3",
   "display_name": "Python 3"
  }
 },
 "nbformat": 4,
 "nbformat_minor": 2
}