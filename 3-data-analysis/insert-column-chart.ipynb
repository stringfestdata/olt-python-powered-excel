{
 "cells": [
  {
   "cell_type": "code",
   "execution_count": 1,
   "metadata": {},
   "outputs": [
    {
     "output_type": "execute_result",
     "data": {
      "text/plain": "0"
     },
     "metadata": {},
     "execution_count": 1
    }
   ],
   "source": [
    "\n",
    "import xlsxwriter\n",
    "workbook = xlsxwriter.Workbook('chart_column.xlsx')\n",
    "worksheet = workbook.add_worksheet()\n",
    "bold = workbook.add_format({'bold': 1})\n",
    "# Add the worksheet data that the charts will refer to.\n",
    "headings = ['Number', 'Batch 1', 'Batch 2']\n",
    "data = [\n",
    "[2, 3, 4, 5, 6, 7],\n",
    "[10, 40, 50, 20, 10, 50],\n",
    "[30, 60, 70, 50, 40, 30],\n",
    "]\n",
    "worksheet.write_row('A1', headings, bold)\n",
    "worksheet.write_column('A2', data[0])\n",
    "worksheet.write_column('B2', data[1])\n",
    "worksheet.write_column('C2', data[2])"
   ]
  },
  {
   "cell_type": "code",
   "execution_count": 2,
   "metadata": {},
   "outputs": [
    {
     "output_type": "error",
     "ename": "SyntaxError",
     "evalue": "invalid syntax (<ipython-input-2-cf15bb4eeeb6>, line 3)",
     "traceback": [
      "\u001b[1;36m  File \u001b[1;32m\"<ipython-input-2-cf15bb4eeeb6>\"\u001b[1;36m, line \u001b[1;32m3\u001b[0m\n\u001b[1;33m    Create a new column chart.\u001b[0m\n\u001b[1;37m           ^\u001b[0m\n\u001b[1;31mSyntaxError\u001b[0m\u001b[1;31m:\u001b[0m invalid syntax\n"
     ]
    }
   ],
   "source": [
    "#######################################################################\n",
    "##\n",
    "Create a new column chart.\n",
    "#\n",
    "chart1 = workbook.add_chart({'type': 'column'})\n",
    "# Configure the first series.\n",
    "chart1.add_series({\n",
    "'name': '=Sheet1!$B$1',\n",
    "'categories': '=Sheet1!$A$2:$A$7',\n",
    "'values': '=Sheet1!$B$2:$B$7',\n",
    "})\n",
    "# Configure a second series. Note use of alternative syntax to define ranges.\n",
    "chart1.add_series({\n",
    "'name': ['Sheet1', 0, 2],\n",
    "'categories': ['Sheet1', 1, 0, 6, 0],\n",
    "'values': ['Sheet1', 1, 2, 6, 2],\n",
    "})\n",
    "# Add a chart title and some axis labels.\n",
    "chart1.set_title ({'name': 'Results of sample analysis'})\n",
    "chart1.set_x_axis({'name': 'Test number'})\n",
    "chart1.set_y_axis({'name': 'Sample length (mm)'})\n",
    "# Set an Excel chart style.\n",
    "chart1.set_style(11)\n",
    "# Insert the chart into the worksheet (with an offset).\n",
    "worksheet.insert_chart('D2', chart1, {'x_offset': 25, 'y_offset': 10})\n",
    "\n"
   ]
  },
  {
   "cell_type": "code",
   "execution_count": null,
   "metadata": {},
   "outputs": [],
   "source": [
    "#######################################################################\n",
    "##\n",
    "Create a stacked chart sub-type.\n",
    "#\n",
    "chart2 = workbook.add_chart({'type': 'column', 'subtype': 'stacked'})\n",
    "# Configure the first series.\n",
    "chart2.add_series({\n",
    "'name': '=Sheet1!$B$1',\n",
    "'categories': '=Sheet1!$A$2:$A$7',\n",
    "'values': '=Sheet1!$B$2:$B$7',\n",
    "})\n",
    "# Configure second series.\n",
    "chart2.add_series({\n",
    "'name': '=Sheet1!$C$1',\n",
    "'categories': '=Sheet1!$A$2:$A$7',\n",
    "'values': '=Sheet1!$C$2:$C$7',\n",
    "})\n",
    "# Add a chart title and some axis labels.\n",
    "chart2.set_title ({'name': 'Stacked Chart'})\n",
    "chart2.set_x_axis({'name': 'Test number'})\n",
    "chart2.set_y_axis({'name': 'Sample length (mm)'})\n",
    "# Set an Excel chart style.\n",
    "chart2.set_style(12)\n",
    "# Insert the chart into the worksheet (with an offset).\n",
    "worksheet.insert_chart('D18', chart2, {'x_offset': 25, 'y_offset': 10})\n",
    "#######################################################################\n",
    "#"
   ]
  }
 ],
 "metadata": {
  "language_info": {
   "codemirror_mode": {
    "name": "ipython",
    "version": 3
   },
   "file_extension": ".py",
   "mimetype": "text/x-python",
   "name": "python",
   "nbconvert_exporter": "python",
   "pygments_lexer": "ipython3",
   "version": "3.7.4-final"
  },
  "orig_nbformat": 2,
  "kernelspec": {
   "name": "python3",
   "display_name": "Python 3"
  }
 },
 "nbformat": 4,
 "nbformat_minor": 2
}