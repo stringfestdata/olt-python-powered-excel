{
 "cells": [
  {
   "cell_type": "markdown",
   "metadata": {},
   "source": [
    "# Drill\n",
    "\n",
    "1. Place the steps in order for writing a `pandas` DataFrame into an `xlsxwriter` workbook. \n",
    "\n",
    "- Set the `pandas` Excel-writing engine to `xlsxwriter` with `ExcelWriter()`.  \n",
    "- Convert the DataFrame into an `xlsxwriter` object with `to_excel()`.  \n",
    "- Create workbook and worksheet objects for the resulting output with `writer.book` and `writer.sheets`.\n",
    "\n",
    "\n",
    "\n",
    "2. Fill out the below code to write this DataFrame to a workbook named `hr.xlsx` and worksheet named `leaders`. \n",
    "\n"
   ]
  },
  {
   "cell_type": "code",
   "execution_count": null,
   "metadata": {},
   "outputs": [],
   "source": [
    "import pandas as pd\n",
    "import xlsxwriter\n",
    "\n",
    "# Create a DataFrame\n",
    "data = {'player':['Barry', 'Hank', 'Babe', 'Alex', 'Wille'],'hr':[762,755,714,696,660]}\n",
    "df = pd.DataFrame(data)\n",
    "\n",
    "# Set Pandas engine to xlsxwriter\n",
    "writer = pd.ExcelWriter(___, engine='xlsxwriter')\n",
    "\n",
    "# Convert the dataframe to an XlsxWriter Excel object.\n",
    "df.to_excel(writer, ___=___, index=False)\n",
    "\n",
    "# Get the xsxwriter objects from the dataframe writer object.\n",
    "workbook  = writer.book\n",
    "worksheet = writer.sheets[___]\n",
    "\n",
    "workbook.close()"
   ]
  },
  {
   "cell_type": "code",
   "execution_count": null,
   "metadata": {},
   "outputs": [],
   "source": [
    "import pandas as pd\n",
    "import xlsxwriter\n",
    "\n",
    "# Create a DataFrame\n",
    "data = {'player':['Barry', 'Hank', 'Babe', 'Alex', 'Wille'],'hr':[762,755,714,696,660]}\n",
    "df = pd.DataFrame(data)\n",
    "\n",
    "# Set Pandas engine to xlsxwriter\n",
    "writer = pd.ExcelWriter('hr.xlsx', engine='xlsxwriter')\n",
    "\n",
    "# Convert the dataframe to an XlsxWriter Excel object.\n",
    "df.to_excel(writer, sheet_name='leaders', index=False)\n",
    "\n",
    "# Get the xsxwriter objects from the dataframe writer object.\n",
    "workbook  = writer.book\n",
    "worksheet = writer.sheets['leaders']\n",
    "\n",
    "workbook.close()"
   ]
  },
  {
   "cell_type": "markdown",
   "metadata": {},
   "source": [
    "# Drill\n",
    "\n",
    "Complete the code scaffolding to format the following:\n",
    "\n",
    "- Format the cells of boroughs with a land area greater than 50 square miles with a green format.\n",
    "- Add a two-grade color scale to the population column.  \n"
   ]
  },
  {
   "cell_type": "code",
   "execution_count": null,
   "metadata": {},
   "outputs": [],
   "source": [
    "import pandas as pd\n",
    "import xlsxwriter\n",
    "\n",
    "# Create a DataFrame of land sizes of NYC boroughs\n",
    "data = {'borough':['The Bronx', 'Brooklyn', 'Manhattan', 'Queens', 'Staten Island'],'land_area':[42.10,70.82,22.83,108.53,58.37],'population':[1418207,2559903,1628706,2253858,476143]}\n",
    "\n",
    "nyc = pd.DataFrame(data)\n",
    "\n",
    "# Set Pandas engine to xlsxwriter\n",
    "writer = pd.ExcelWriter('nyc.xlsx', engine='xlsxwriter')\n",
    "\n",
    "# Convert the dataframe to an XlsxWriter Excel object.\n",
    "nyc.to_excel(writer, sheet_name='Sheet1', index=False)\n",
    "\n",
    "# Get the xlsxwriter objects from the dataframe writer object\n",
    "workbook  = writer.book\n",
    "worksheet = writer.sheets['Sheet1']\n",
    "\n",
    "\n",
    "# Set green fill with dark green text format\n",
    "green_format = workbook.add_format({'bg_color': '#C6EFCE',\n",
    "'font_color': '#006100'})\n",
    "\n",
    "# Format cells of boroughs with land area over 50 sq miles\n",
    "worksheet.conditional_format('B2:B6', {'type': 'cell',\n",
    "'criteria': 'greater than',\n",
    "'value': 50,\n",
    "'format': green_format})\n",
    "\n",
    "# Format two-grade color scale to the population cells\n",
    "worksheet.conditional_format('C2:C6', {'type': '2_color_scale'})\n",
    "\n",
    "# Close the workbook\n",
    "workbook.close()"
   ]
  },
  {
   "cell_type": "markdown",
   "metadata": {},
   "source": [
    "# Drill: \n",
    "\n",
    "Insert a DataFrame and scatterplot in Python. \n",
    "\n",
    "I will fill out the information to complete the scatterplot -- you focus on the `xlsxwriter`-related parts.  "
   ]
  },
  {
   "cell_type": "code",
   "execution_count": 4,
   "metadata": {},
   "outputs": [
    {
     "data": {
      "text/html": [
       "<div>\n",
       "<style scoped>\n",
       "    .dataframe tbody tr th:only-of-type {\n",
       "        vertical-align: middle;\n",
       "    }\n",
       "\n",
       "    .dataframe tbody tr th {\n",
       "        vertical-align: top;\n",
       "    }\n",
       "\n",
       "    .dataframe thead th {\n",
       "        text-align: right;\n",
       "    }\n",
       "</style>\n",
       "<table border=\"1\" class=\"dataframe\">\n",
       "  <thead>\n",
       "    <tr style=\"text-align: right;\">\n",
       "      <th></th>\n",
       "      <th>mpg</th>\n",
       "      <th>cylinders</th>\n",
       "      <th>displacement</th>\n",
       "      <th>horsepower</th>\n",
       "      <th>weight</th>\n",
       "      <th>acceleration</th>\n",
       "      <th>model-year</th>\n",
       "    </tr>\n",
       "  </thead>\n",
       "  <tbody>\n",
       "    <tr>\n",
       "      <th>0</th>\n",
       "      <td>18.0</td>\n",
       "      <td>8</td>\n",
       "      <td>307.0</td>\n",
       "      <td>130.0</td>\n",
       "      <td>3504</td>\n",
       "      <td>12.0</td>\n",
       "      <td>70</td>\n",
       "    </tr>\n",
       "    <tr>\n",
       "      <th>1</th>\n",
       "      <td>15.0</td>\n",
       "      <td>8</td>\n",
       "      <td>350.0</td>\n",
       "      <td>165.0</td>\n",
       "      <td>3693</td>\n",
       "      <td>11.5</td>\n",
       "      <td>70</td>\n",
       "    </tr>\n",
       "    <tr>\n",
       "      <th>2</th>\n",
       "      <td>18.0</td>\n",
       "      <td>8</td>\n",
       "      <td>318.0</td>\n",
       "      <td>150.0</td>\n",
       "      <td>3436</td>\n",
       "      <td>11.0</td>\n",
       "      <td>70</td>\n",
       "    </tr>\n",
       "    <tr>\n",
       "      <th>3</th>\n",
       "      <td>16.0</td>\n",
       "      <td>8</td>\n",
       "      <td>304.0</td>\n",
       "      <td>150.0</td>\n",
       "      <td>3433</td>\n",
       "      <td>12.0</td>\n",
       "      <td>70</td>\n",
       "    </tr>\n",
       "    <tr>\n",
       "      <th>4</th>\n",
       "      <td>17.0</td>\n",
       "      <td>8</td>\n",
       "      <td>302.0</td>\n",
       "      <td>140.0</td>\n",
       "      <td>3449</td>\n",
       "      <td>10.5</td>\n",
       "      <td>70</td>\n",
       "    </tr>\n",
       "  </tbody>\n",
       "</table>\n",
       "</div>"
      ],
      "text/plain": [
       "    mpg  cylinders  displacement  horsepower  weight  acceleration  model-year\n",
       "0  18.0          8         307.0       130.0    3504          12.0          70\n",
       "1  15.0          8         350.0       165.0    3693          11.5          70\n",
       "2  18.0          8         318.0       150.0    3436          11.0          70\n",
       "3  16.0          8         304.0       150.0    3433          12.0          70\n",
       "4  17.0          8         302.0       140.0    3449          10.5          70"
      ]
     },
     "execution_count": 4,
     "metadata": {},
     "output_type": "execute_result"
    }
   ],
   "source": [
    "import pandas as pd\n",
    "import xlsxwriter\n",
    "import seaborn as sns\n",
    "import matplotlib.pyplot as plt\n",
    "\n",
    "# Create a DataFrame of land sizes of NYC boroughs\n",
    "mpg = pd.read_csv(\"https://raw.githubusercontent.com/plotly/datasets/master/auto-mpg.csv\")\n",
    "\n",
    "# View first rows of data \n",
    "mpg.head()"
   ]
  },
  {
   "cell_type": "code",
   "execution_count": 2,
   "metadata": {},
   "outputs": [
    {
     "data": {
      "text/plain": [
       "0"
      ]
     },
     "execution_count": 2,
     "metadata": {},
     "output_type": "execute_result"
    }
   ],
   "source": [
    "# Set Pandas engine to xlsxwriter\n",
    "writer = pd.ExcelWriter('mpg.xlsx', engine='xlsxwriter')\n",
    "\n",
    "# Convert the dataframe to an XlsxWriter Excel object.\n",
    "# Do not display the index when we export\n",
    "# Name the worksheet 'data'.\n",
    "mpg.to_excel(writer, sheet_name='data', index=False)\n",
    "\n",
    "# Get the xlsxwriter objects from the dataframe writer object.\n",
    "workbook  = writer.book\n",
    "worksheet = writer.sheets['data']\n",
    "\n",
    "# Let's freeze the pane of this worksheet while we're at it\n",
    "worksheet.freeze_panes(1,0)\n",
    "\n",
    "# Set column widths\n",
    "worksheet.set_column('A:I',12)\n"
   ]
  },
  {
   "cell_type": "code",
   "execution_count": 5,
   "metadata": {},
   "outputs": [
    {
     "data": {
      "image/png": "[encoded data removed]",
      "text/plain": [
       "<Figure size 432x288 with 1 Axes>"
      ]
     },
     "metadata": {
      "needs_background": "light"
     },
     "output_type": "display_data"
    }
   ],
   "source": [
    "### This code is finished ###\n",
    "sns.scatterplot(x='horsepower', y='mpg', data=mpg)\n",
    "plt.title('Relationship between horsepower and mpg')\n",
    "\n",
    "\n",
    "\n",
    "# Save the image-- we will need this for later\n",
    "plt.savefig('mpg.png', bbox_inches='tight', dpi = (400))\n"
   ]
  },
  {
   "cell_type": "code",
   "execution_count": null,
   "metadata": {},
   "outputs": [],
   "source": [
    "# Create a new worksheet called `scatter`\n",
    "worksheet2 = workbook.add_worksheet('scatter')\n",
    "\n",
    "# Add the image `mpg.png` to the workbook\n",
    "worksheet2.insert_image('A1', 'mpg.png')\n",
    "\n",
    "# Close the workbook and admire your creation!\n",
    "workbook.close()"
   ]
  },
  {
   "cell_type": "code",
   "execution_count": null,
   "metadata": {},
   "outputs": [],
   "source": []
  }
 ],
 "metadata": {
  "kernelspec": {
   "display_name": "Python 3",
   "language": "python",
   "name": "python3"
  },
  "language_info": {
   "codemirror_mode": {
    "name": "ipython",
    "version": 3
   },
   "file_extension": ".py",
   "mimetype": "text/x-python",
   "name": "python",
   "nbconvert_exporter": "python",
   "pygments_lexer": "ipython3",
   "version": "3.7.4"
  }
 },
 "nbformat": 4,
 "nbformat_minor": 2
}
