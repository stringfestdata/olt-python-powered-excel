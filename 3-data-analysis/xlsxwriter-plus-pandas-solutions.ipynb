{
 "cells": [
  {
   "cell_type": "markdown",
   "metadata": {},
   "source": [
    "# Drill\n",
    "\n",
    "1. Place the steps in order for writing a `pandas` DataFrame into an `xlsxwriter` workbook. \n",
    "\n",
    "**1. Set the `pandas` Excel-writing engine to `xlsxwriter` with `ExcelWriter()`.  \n",
    "2. Convert the DataFrame into an `xlsxwriter` object with `to_excel()`.  \n",
    "3. Create workbook and worksheet objects for the resulting output with `writer.book` and `writer.sheets`.**\n",
    "\n",
    "\n",
    "\n",
    "2. Fill out the below code to write this DataFrame to a workbook named `hr.xlsx` and worksheet named `leaders`. \n",
    "\n"
   ]
  },
  {
   "cell_type": "code",
   "execution_count": null,
   "metadata": {},
   "outputs": [],
   "source": [
    "import pandas as pd\n",
    "import xlsxwriter\n",
    "\n",
    "# Create a DataFrame\n",
    "data = {'player':['Barry', 'Hank', 'Babe', 'Alex', 'Wille'],'hr':[762,755,714,696,660]}\n",
    "df = pd.DataFrame(data)\n",
    "\n",
    "# Set Pandas engine to xlsxwriter\n",
    "writer = pd.ExcelWriter('hr.xlsx', engine='xlsxwriter')\n",
    "\n",
    "# Convert the dataframe to an XlsxWriter Excel object.\n",
    "df.to_excel(writer, sheet_name='leaders', index=False)\n",
    "\n",
    "# Get the xsxwriter objects from the dataframe writer object.\n",
    "workbook  = writer.book\n",
    "worksheet = writer.sheets['leaders']\n",
    "\n",
    "workbook.close()"
   ]
  }
 ],
 "metadata": {
  "language_info": {
   "codemirror_mode": {
    "name": "ipython",
    "version": 3
   },
   "file_extension": ".py",
   "mimetype": "text/x-python",
   "name": "python",
   "nbconvert_exporter": "python",
   "pygments_lexer": "ipython3",
   "version": 3
  },
  "orig_nbformat": 2
 },
 "nbformat": 4,
 "nbformat_minor": 2
}