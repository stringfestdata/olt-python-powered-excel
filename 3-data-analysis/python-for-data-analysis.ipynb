{
 "cells": [
  {
   "cell_type": "markdown",
   "metadata": {},
   "source": [
    "# `xlsxwriter` plus `pandas`\n",
    "\n",
    "So far, we've been concocting Excel worksheet out of Python structures called *lists*:\n",
    "\n",
    "```\n",
    "my_list = [1,2,3]\n",
    "my_other_list = ['Red','Blue','Green']\n",
    "```\n",
    "\n",
    "However, you are probably more used to seeing data stored in structures like this:\n",
    "\n",
    "![Example DataFrame](images/pandas-dataframe.png)\n",
    "\n",
    "*[Image source](https://www.oreilly.com/content/data-indexing-and-selection/)*\n",
    "\n",
    "This is an example of *tabular* data, with *rows* and *columns*. You use it in spreadsheets all the time!\n",
    "\n",
    "When you hear tabular data in Python, think `pandas`. \n",
    "\n",
    "We used `pandas` earlier to read data from Excel, operate on it, and write the results into another workbook.\n",
    "\n",
    "Now, let's combine the powers of `xlsxwriter` with `pandas` to create powerful, automated data analysis with Python and Excel. \n",
    "\n",
    "First, let's create a small DataFrame of the land areas of the boroughs of New York City:"
   ]
  },
  {
   "cell_type": "code",
   "execution_count": 1,
   "metadata": {},
   "outputs": [
    {
     "output_type": "execute_result",
     "data": {
      "text/plain": "         borough  land_area\n0      The Bronx      42.10\n1       Brooklyn      70.82\n2      Manhattan      22.83\n3         Queens     108.53\n4  Staten Island      58.37",
      "text/html": "<div>\n<style scoped>\n    .dataframe tbody tr th:only-of-type {\n        vertical-align: middle;\n    }\n\n    .dataframe tbody tr th {\n        vertical-align: top;\n    }\n\n    .dataframe thead th {\n        text-align: right;\n    }\n</style>\n<table border=\"1\" class=\"dataframe\">\n  <thead>\n    <tr style=\"text-align: right;\">\n      <th></th>\n      <th>borough</th>\n      <th>land_area</th>\n    </tr>\n  </thead>\n  <tbody>\n    <tr>\n      <td>0</td>\n      <td>The Bronx</td>\n      <td>42.10</td>\n    </tr>\n    <tr>\n      <td>1</td>\n      <td>Brooklyn</td>\n      <td>70.82</td>\n    </tr>\n    <tr>\n      <td>2</td>\n      <td>Manhattan</td>\n      <td>22.83</td>\n    </tr>\n    <tr>\n      <td>3</td>\n      <td>Queens</td>\n      <td>108.53</td>\n    </tr>\n    <tr>\n      <td>4</td>\n      <td>Staten Island</td>\n      <td>58.37</td>\n    </tr>\n  </tbody>\n</table>\n</div>"
     },
     "metadata": {},
     "execution_count": 1
    }
   ],
   "source": [
    "import pandas as pd\n",
    "import xlsxwriter\n",
    "\n",
    "# Create a DataFrame of land sizes of NYC boroughs\n",
    "data = {'borough':['The Bronx', 'Brooklyn', 'Manhattan', 'Queens', 'Staten Island'],'land_area':[42.10,70.82,22.83,108.53,58.37]}\n",
    "\n",
    "df = pd.DataFrame(data)\n",
    "\n",
    "# Doesn't this look familiar?\n",
    "df\n"
   ]
  },
  {
   "cell_type": "markdown",
   "metadata": {},
   "source": [
    "Let's say we wanted to load this DataFrame into a workbook and format the output with `xlsxwriter`.\n",
    "\n",
    "Unfortunately, `pandas` DataFrames take a couple of extra steps to use with `xlsxwriter`. Here are our steps:\n",
    "\n",
    "1. Set the `pandas` Excel-writing engine to `xlsxwriter` with `ExcelWriter()`.  \n",
    "2. Convert the DataFrame into an `xlsxwriter` object with `to_excel()`.  \n",
    "3. Create workbook and worksheet objects for the resulting output with `writer.book` and `writer.sheets`.\n",
    "\n",
    "Let's take a look: "
   ]
  },
  {
   "cell_type": "code",
   "execution_count": null,
   "metadata": {},
   "outputs": [],
   "source": [
    "# Set Pandas engine to xlsxwriter\n",
    "writer = pd.ExcelWriter('nycland.xlsx', engine='xlsxwriter')\n",
    "\n",
    "# Convert the dataframe to an XlsxWriter Excel object.\n",
    "df.to_excel(writer, sheet_name='Sheet1')\n",
    "\n",
    "# Get the xlsxwriter objects from the DataFrame writer object.\n",
    "workbook  = writer.book\n",
    "worksheet = writer.sheets['Sheet1']"
   ]
  },
  {
   "cell_type": "markdown",
   "metadata": {},
   "source": [
    "Were you to close your workbook now, you would see something like the below.\n",
    "\n",
    "![DataFrame index visible in Excel export](images/nyc-land-index.png)\n",
    "\n",
    "\n",
    "-  By default, our DataFrame will be written starting in `A1` of the worksheet. To write it elsewhere, check out this [`pandas` documentation](https://pandas.pydata.org/pandas-docs/stable/reference/api/pandas.DataFrame.to_excel.html).  \n",
    "\n",
    "\n",
    "-  The numbers in column `A` represent the ***index*** of the DataFrame. Indexes are great for hleping us access and manipulate data in `pandas`, but aren't so helpful in our finished Excel export. \n",
    "\n",
    "\n",
    "We can hide the index from displaying by including `Index = False` in our `to_excel()` method.\n",
    "\n",
    "Let's try this again:"
   ]
  },
  {
   "cell_type": "code",
   "execution_count": null,
   "metadata": {},
   "outputs": [],
   "source": [
    "# Set Pandas engine to xlsxwriter\n",
    "writer = pd.ExcelWriter('nycland.xlsx', engine='xlsxwriter')\n",
    "\n",
    "# Convert the dataframe to an XlsxWriter Excel object.\n",
    "### index = 'False' ###\n",
    "df.to_excel(writer, sheet_name='Sheet1', index=False)\n",
    "\n",
    "# Get the xsxwriter objects from the dataframe writer object.\n",
    "workbook  = writer.book\n",
    "worksheet = writer.sheets['Sheet1']\n",
    "\n",
    "workbook.close()"
   ]
  },
  {
   "cell_type": "markdown",
   "metadata": {},
   "source": [
    "# Drill\n",
    "\n",
    "1. Place the steps in order for writing a `pandas` DataFrame into an `xlsxwriter` workbook. \n",
    "\n",
    "- Create workbook and worksheet objects for the resulting output with `writer.book` and `writer.sheets`.\n",
    "- Convert the DataFrame into an `xlsxwriter` object with `to_excel()`.  \n",
    "- Set the `pandas` Excel-writing engine to `xlsxwriter` with `ExcelWriter()`.  \n",
    "\n",
    "\n",
    "\n",
    "2. Fill out the below code to write this DataFrame to a workbook named `hr.xlsx` and worksheet named `leaders`. "
   ]
  },
  {
   "cell_type": "code",
   "execution_count": null,
   "metadata": {},
   "outputs": [],
   "source": [
    "import pandas as pd\n",
    "import xlsxwriter\n",
    "\n",
    "# Create a DataFrame\n",
    "data = {'player':['Barry', 'Hank', 'Babe', 'Alex', 'Wille'],'hr':[762,755,714,696,660]}\n",
    "df = pd.DataFrame(data)\n",
    "\n",
    "# Set Pandas engine to xlsxwriter\n",
    "writer = pd.ExcelWriter(___, engine='xlsxwriter')\n",
    "\n",
    "# Convert the dataframe to an XlsxWriter Excel object.\n",
    "df.to_excel(writer, ___=___, index=False)\n",
    "\n",
    "# Get the xlsxwriter objects from the dataframe writer object.\n",
    "workbook  = writer.book\n",
    "worksheet = writer.sheets[___]\n",
    "\n",
    "# Close the workbook\n",
    "workbook.close()"
   ]
  },
  {
   "cell_type": "markdown",
   "metadata": {},
   "source": [
    "## Customizing `pandas` output with `xlsxwriter`\n",
    "\n",
    "You may remember that we were writing `pandas` DataFrames to Excel back at the beginning of this course. Why do it this newfangled way now?\n",
    "\n",
    "The benefit of sending our DataFrame to `xlsxwriter` is that we can now add any formatting and analysis to the workbook in ways that would be difficult or impossible in `pandas`. \n",
    "\n",
    "You've already learned several useful methods for customizing workbooks from Python. Let's learn one more. \n",
    "\n",
    "## Conditional formatting\n",
    "\n",
    "Conditional formatting is a great way to add visual elements to data analysis.  \n",
    "\n",
    "The usual disclaimer applies: You'll just get a taste of the possibilities here. For more information on conditional formatting in `xlsxwriter`, check out Chapter 22 of the [`xlsxwriter` guide](https://github.com/jmcnamara/XlsxWriter/blob/master/docs/XlsxWriter.pdf). "
   ]
  },
  {
   "cell_type": "code",
   "execution_count": 74,
   "metadata": {},
   "outputs": [
    {
     "output_type": "execute_result",
     "data": {
      "text/plain": "          city  population  pop_change  land_area\n0     New York     8336817      0.0198      301.5\n1  Los Angeles     3979576      0.0493      468.7\n2      Chicago     2693976     -0.0006      227.3\n3      Houston     2320268      0.1048      637.5\n4      Phoenix     1680992      0.1628      517.6",
      "text/html": "<div>\n<style scoped>\n    .dataframe tbody tr th:only-of-type {\n        vertical-align: middle;\n    }\n\n    .dataframe tbody tr th {\n        vertical-align: top;\n    }\n\n    .dataframe thead th {\n        text-align: right;\n    }\n</style>\n<table border=\"1\" class=\"dataframe\">\n  <thead>\n    <tr style=\"text-align: right;\">\n      <th></th>\n      <th>city</th>\n      <th>population</th>\n      <th>pop_change</th>\n      <th>land_area</th>\n    </tr>\n  </thead>\n  <tbody>\n    <tr>\n      <td>0</td>\n      <td>New York</td>\n      <td>8336817</td>\n      <td>0.0198</td>\n      <td>301.5</td>\n    </tr>\n    <tr>\n      <td>1</td>\n      <td>Los Angeles</td>\n      <td>3979576</td>\n      <td>0.0493</td>\n      <td>468.7</td>\n    </tr>\n    <tr>\n      <td>2</td>\n      <td>Chicago</td>\n      <td>2693976</td>\n      <td>-0.0006</td>\n      <td>227.3</td>\n    </tr>\n    <tr>\n      <td>3</td>\n      <td>Houston</td>\n      <td>2320268</td>\n      <td>0.1048</td>\n      <td>637.5</td>\n    </tr>\n    <tr>\n      <td>4</td>\n      <td>Phoenix</td>\n      <td>1680992</td>\n      <td>0.1628</td>\n      <td>517.6</td>\n    </tr>\n  </tbody>\n</table>\n</div>"
     },
     "metadata": {},
     "execution_count": 74
    }
   ],
   "source": [
    "import pandas as pd \n",
    "import xlsxwriter\n",
    "\n",
    "# pandas can read in data from most any source\n",
    "cities = pd.read_csv(\"https://raw.githubusercontent.com/summerofgeorge/training-assets/master/largest-us-cities.csv\")\n",
    "\n",
    "# Convert our population field to be numeric\n",
    "cities['population'] = pd.to_numeric(cities['population'], errors='coerce')\n",
    "\n",
    "# Print the first few rows\n",
    "cities.head()"
   ]
  },
  {
   "cell_type": "markdown",
   "metadata": {},
   "source": [
    "## Creating workbook calculations from `pandas`\n",
    "\n",
    "At the beginning of the class we talked about using Python and Excel *together* to make awesome data products. \n",
    "\n",
    "Let's discuss a bit further about how to draw the \"division of labor\" between these tools:\n",
    "\n",
    "*If it has to do with data analysis, manipulation or visualization, use Python.*\n",
    "\n",
    "*If it has to do with workbook formatting, presentation and end-user interaction, use Excel.*\n",
    "\n",
    "We would like to add a column to our table expressing population density. We could do this in either Excel or Python, but generally, unless the end-user absolutely has to have the formulas written out in Excel, any calculations we perform should be conducted in Python. \n",
    "\n",
    "Fortunately, `pandas` makes it quite easy to create calculated columns. "
   ]
  },
  {
   "cell_type": "code",
   "execution_count": 75,
   "metadata": {},
   "outputs": [
    {
     "output_type": "execute_result",
     "data": {
      "text/plain": "          city  population  pop_change  land_area       density\n0     New York     8336817      0.0198      301.5  27651.134328\n1  Los Angeles     3979576      0.0493      468.7   8490.667805\n2      Chicago     2693976     -0.0006      227.3  11852.072151\n3      Houston     2320268      0.1048      637.5   3639.636078\n4      Phoenix     1680992      0.1628      517.6   3247.666151",
      "text/html": "<div>\n<style scoped>\n    .dataframe tbody tr th:only-of-type {\n        vertical-align: middle;\n    }\n\n    .dataframe tbody tr th {\n        vertical-align: top;\n    }\n\n    .dataframe thead th {\n        text-align: right;\n    }\n</style>\n<table border=\"1\" class=\"dataframe\">\n  <thead>\n    <tr style=\"text-align: right;\">\n      <th></th>\n      <th>city</th>\n      <th>population</th>\n      <th>pop_change</th>\n      <th>land_area</th>\n      <th>density</th>\n    </tr>\n  </thead>\n  <tbody>\n    <tr>\n      <td>0</td>\n      <td>New York</td>\n      <td>8336817</td>\n      <td>0.0198</td>\n      <td>301.5</td>\n      <td>27651.134328</td>\n    </tr>\n    <tr>\n      <td>1</td>\n      <td>Los Angeles</td>\n      <td>3979576</td>\n      <td>0.0493</td>\n      <td>468.7</td>\n      <td>8490.667805</td>\n    </tr>\n    <tr>\n      <td>2</td>\n      <td>Chicago</td>\n      <td>2693976</td>\n      <td>-0.0006</td>\n      <td>227.3</td>\n      <td>11852.072151</td>\n    </tr>\n    <tr>\n      <td>3</td>\n      <td>Houston</td>\n      <td>2320268</td>\n      <td>0.1048</td>\n      <td>637.5</td>\n      <td>3639.636078</td>\n    </tr>\n    <tr>\n      <td>4</td>\n      <td>Phoenix</td>\n      <td>1680992</td>\n      <td>0.1628</td>\n      <td>517.6</td>\n      <td>3247.666151</td>\n    </tr>\n  </tbody>\n</table>\n</div>"
     },
     "metadata": {},
     "execution_count": 75
    }
   ],
   "source": [
    "# Create rounded population density column in our cities table\n",
    "\n",
    "cities['density'] = cities['population']/cities['land_area']\n",
    "\n",
    "# Check out our new column\n",
    "cities.head()"
   ]
  },
  {
   "cell_type": "markdown",
   "metadata": {},
   "source": [
    "Remember that the way our data looks here in `pandas` is pretty much the way it will look in Excel! So let's clean up our cell formatting as we write to the workbook.\n",
    "\n",
    "We've been writing our custom cell formats in as we wrote data. But with `pandas`, we will be writing all our data in at once, and *then* going back to format it.\n",
    "\n",
    "We can apply cell formatting to columns without writing to them with the `set_column()` method. This is what we used to increase column widths."
   ]
  },
  {
   "cell_type": "code",
   "execution_count": 76,
   "metadata": {},
   "outputs": [
    {
     "output_type": "execute_result",
     "data": {
      "text/plain": "0"
     },
     "metadata": {},
     "execution_count": 76
    }
   ],
   "source": [
    "# Set Pandas engine to xlsxwriter\n",
    "writer = pd.ExcelWriter('us-cities.xlsx', engine='xlsxwriter')\n",
    "\n",
    "# Convert the dataframe to an XlsxWriter Excel object.\n",
    "cities.to_excel(writer, sheet_name='Sheet1',index=False)\n",
    "\n",
    "# Get the xlsxwriter objects from the DataFrame writer object.\n",
    "workbook  = writer.book\n",
    "worksheet = writer.sheets['Sheet1']\n",
    "\n",
    "# Set up cell formatting \n",
    "thousands_format = workbook.add_format({'num_format':'#,##0'})\n",
    "pct_format = workbook.add_format({'num_format':'0.00%'})\n",
    "\n",
    "# Format our columns -- we will also set the column width here\n",
    "worksheet.set_column('A:A',12)\n",
    "worksheet.set_column('B:B', 10, thousands_format)\n",
    "worksheet.set_column('C:C', 10, pct_format)\n",
    "worksheet.set_column('D:E', 10, thousands_format)"
   ]
  },
  {
   "cell_type": "markdown",
   "metadata": {},
   "source": [
    "### The basics of conditional formatting.\n",
    "\n",
    "To add conditional formatting to our worksheet, we will apply the `conditional_format()` method to our selected cells. "
   ]
  },
  {
   "cell_type": "markdown",
   "metadata": {},
   "source": [
    "#### Greater than/less than\n",
    "\n",
    "We would like to format all of our density values greater than 500 miles as <font color='green'>green</font>.\n",
    "\n",
    "To do so, we will pass a dictionary of our conditional formatting settings and apply that to the range `D2:D11`.\n",
    "\n",
    "As we've done before, we will set a workbook cell format and then include that as our option for cell formatting. "
   ]
  },
  {
   "cell_type": "code",
   "execution_count": 70,
   "metadata": {},
   "outputs": [],
   "source": [
    "# Set green fill with dark green text format.\n",
    "# bg_color will set the cell fill by hex code\n",
    "green_format = workbook.add_format({'bg_color': '#C6EFCE',\n",
    "'font_color': '#006100'})\n",
    "\n",
    "\n",
    "worksheet.conditional_format('D2:D11', {'type': 'cell',\n",
    "'criteria': 'greater than',\n",
    "'value': 500,\n",
    "'format': green_format})"
   ]
  },
  {
   "cell_type": "markdown",
   "metadata": {},
   "source": [
    "#### Top *n*/Bottom *n*\n",
    "\n",
    "We can also find the top or bottom *n* values in a range.\n",
    "\n",
    "Let's find the three most and least densely-populated cities, setting them with red and green formats, respectively. "
   ]
  },
  {
   "cell_type": "code",
   "execution_count": 71,
   "metadata": {},
   "outputs": [],
   "source": [
    "# Set top three values to red\n",
    "worksheet.conditional_format('E2:E11',{'type':'top',\n",
    "'value':3,\n",
    "'format':green_format})\n",
    "\n",
    "# Now we want a red format\n",
    "red_format = workbook.add_format({'bg_color': '#FFC7CE',\n",
    "'font_color': '#9C0006'})\n",
    "\n",
    "# Apply red format to bottom 3\n",
    "worksheet.conditional_format('E2:E11',{'type':'bottom',\n",
    "'value':3,\n",
    "'format':red_format})"
   ]
  },
  {
   "cell_type": "markdown",
   "metadata": {},
   "source": [
    "#### Data bar\n",
    "\n",
    "We will now add data bars to our population column. Fortunately this time, the formatting is already made for us 🎉.\n",
    "\n",
    "There are ways to customize the data bar settings -- check the documentation for more."
   ]
  },
  {
   "cell_type": "code",
   "execution_count": 72,
   "metadata": {},
   "outputs": [],
   "source": [
    "# Format range with data bars\n",
    "worksheet.conditional_format('A2:A11', {'type': 'data_bar'})"
   ]
  },
  {
   "cell_type": "markdown",
   "metadata": {},
   "source": [
    "#### Color scales\n",
    "\n",
    "Similarly, we can apply a pre-set format color scale. Let's try it on the population change column. We will apply a three-color scale:"
   ]
  },
  {
   "cell_type": "code",
   "execution_count": 73,
   "metadata": {},
   "outputs": [],
   "source": [
    "# Format range with color scale\n",
    "worksheet.conditional_format('C2:A11', {'type': '3_color_scale'})\n",
    "\n",
    "# That's a wrap!\n",
    "workbook.close()"
   ]
  },
  {
   "cell_type": "markdown",
   "metadata": {},
   "source": [
    "# Drill\n",
    "\n",
    "Complete the code scaffolding to format the following:\n",
    "\n",
    "- Format the cells of boroughs with a land area greater than 50 square miles with a green format.\n",
    "- Add a two-grade color scale to the population column.  \n",
    "\n"
   ]
  },
  {
   "cell_type": "code",
   "execution_count": 1,
   "metadata": {},
   "outputs": [],
   "source": [
    "import pandas as pd\n",
    "import xlsxwriter\n",
    "\n",
    "# Create a DataFrame of land sizes of NYC boroughs\n",
    "data = {'borough':['The Bronx', 'Brooklyn', 'Manhattan', 'Queens', 'Staten Island'],'land_area':[42.10,70.82,22.83,108.53,58.37],'population':[1418207,2559903,1628706,2253858,476143]}\n",
    "\n",
    "nyc = pd.DataFrame(data)\n",
    "\n",
    "# Set Pandas engine to xlsxwriter\n",
    "writer = ___('nyc.xlsx', engine=___)\n",
    "\n",
    "# Convert the dataframe to an XlsxWriter Excel object.\n",
    "nyc.to_excel(___, sheet_name='Sheet1', index=False)\n",
    "\n",
    "# Get the xlsxwriter objects from the dataframe writer object\n",
    "workbook  = ___\n",
    "worksheet = ___.sheets['Sheet1']\n",
    "\n",
    "\n",
    "# Set green fill with dark green text format\n",
    "green_format = workbook.add_format({'bg_color': '#C6EFCE',\n",
    "'font_color': '#006100'})\n",
    "\n",
    "# Format cells of boroughs with land area over 50 sq miles\n",
    "# with green format\n",
    "worksheet.___('B2:B6', {'type': 'cell',\n",
    "'criteria': 'greater than',\n",
    "'value': ___,\n",
    "'format': ___})\n",
    "\n",
    "# Format two-grade color scale to the population cells\n",
    "worksheet.conditional_format('C2:C6', {___: '2_color_scale'})\n",
    "\n",
    "# Close the workbook\n",
    "___"
   ]
  },
  {
   "cell_type": "markdown",
   "metadata": {},
   "source": [
    "# `xlsxwriter` and data visualization\n",
    "\n",
    "Now that we are starting to operate on familiar \"worksheet\"-like data structures with `pandas` and `xlsxwriter`, let's dive into an important method of data analysis: *data visualizations*.\n",
    "\n",
    "## Writing Excel charts from `xlsxwriter`\n",
    "\n",
    "It is possible to write Excel charts right from Python. Let's set up our data and see:\n"
   ]
  },
  {
   "cell_type": "code",
   "execution_count": 8,
   "metadata": {},
   "outputs": [],
   "source": [
    "import pandas as pd\n",
    "import xlsxwriter\n",
    "\n",
    "# Create a DataFrame of land sizes of NYC boroughs\n",
    "data = {'borough':['The Bronx', 'Brooklyn', 'Manhattan', 'Queens', 'Staten Island'],'land_area':[42.10,70.82,22.83,108.53,58.37]}\n",
    "\n",
    "nyc = pd.DataFrame(data)\n",
    "\n",
    "# Sort this DataFrame\n",
    "nyc = df.sort_values(by=['land_area'])\n",
    "\n",
    "# Set pandas engin\n",
    "writer = pd.ExcelWriter('nyc-charts.xlsx',engine='xlsxwriter')\n",
    "\n",
    "# Convert the dataframe to xlsxwriter object\n",
    "nyc.to_excel(writer, sheet_name='Sheet1', index=False)\n",
    "\n",
    "# Get the xsxwriter objects from the writer\n",
    "workbook  = writer.book\n",
    "worksheet = writer.sheets['Sheet1']"
   ]
  },
  {
   "cell_type": "markdown",
   "metadata": {},
   "source": [
    "### Inserting Excel charts from `xlsxwriter`\n",
    "\n",
    "As you may expect at this point, it will take a few steps to insert this chart: \n",
    "\n",
    "1. Add the chart with `add_chart()`.  \n",
    "\n",
    "2. Add the series with `add_series()`  \n",
    "\n",
    "\n",
    "3.  \n",
    "    a.  Set a chart title with `set_title()`.  \n",
    "\n",
    "    b.  Set an x-axis label with `set_x_axis()`. \n",
    " \n",
    "    c.  Set a y-axis label with `set_y_axis()`.  \n",
    "\n",
    "\n",
    "\n",
    "4.  Insert the chart into the worksheet with `insert_chart()`.  \n",
    "\n",
    "There are some other possibilities here, such as setting a chart style or a secondary series. Check [Chapter 18 of the `xlsxwriter` documentation](https://github.com/jmcnamara/XlsxWriter/blob/master/docs/XlsxWriter.pdf)."
   ]
  },
  {
   "cell_type": "code",
   "execution_count": 9,
   "metadata": {},
   "outputs": [],
   "source": [
    "# 1. Add the chart with `add_chart()`\n",
    "# Assign this to a variable so we can refer to it for\n",
    "# subsequent steps\n",
    "nyc_chart = workbook.add_chart({'type': 'bar'})\n",
    "\n",
    "# 2. Add the series with `add_series()`\n",
    "nyc_chart.add_series({\n",
    "# 'name' is the name of our variable\n",
    "'name': '=Sheet1!$B$1',\n",
    "# 'categories' are our observation labels\n",
    "'categories': '=Sheet1!$A$2:$A$6',\n",
    "# 'values' are our variable values\n",
    "'values': '=Sheet1!$B$2:$B$6',\n",
    "})\n",
    "\n",
    "# 3a. Set a chart title with `set_title()`\n",
    "nyc_chart.set_title ({'name': 'Land area of NYC boroughs'})\n",
    "\n",
    "# 3b. Set an x-axis label with `set_x_axis()`\n",
    "nyc_chart.set_x_axis({'name': 'Borough'})\n",
    "\n",
    "# 3c. Set a y-axis label with `set_y_axis()`\n",
    "nyc_chart.set_y_axis({'name': 'Land area (square miles)'})\n",
    "\n",
    "# 4. Insert the chart to worksheet with `insert_chart()`\n",
    "worksheet.insert_chart('E1', nyc_chart)"
   ]
  },
  {
   "cell_type": "markdown",
   "metadata": {},
   "source": [
    "Were you to close the workbook connection now, you would see something like the below.\n",
    "\n",
    "\n",
    "![NYC boroughs with Excel chart](images/nyc-land-excel-chart.png)\n",
    "\n",
    "### Writing Python charts to Excel\n",
    "\n",
    "It's great to write Excel charts right from Python.\n",
    "\n",
    "We also have the ability to use Python's rich data visualization capabilities and write the results to Excel.\n",
    "\n",
    "Let's create the same bar chart as above, but using the popular [`matplotlib.pyplot()` data visualization module](https://matplotlib.org/api/pyplot_api.html). \n",
    "\n",
    "This is *not* a course on building visualizations or understanding modules in Python. "
   ]
  },
  {
   "cell_type": "code",
   "execution_count": 10,
   "metadata": {},
   "outputs": [
    {
     "output_type": "display_data",
     "data": {
      "text/plain": "<Figure size 432x288 with 1 Axes>",
      "image/png": "[encoded data removed]"
     },
     "metadata": {
      "needs_background": "light"
     }
    }
   ],
   "source": [
    "# Import the module\n",
    "import matplotlib.pyplot as plt\n",
    "\n",
    "# Create a bar chart\n",
    "df.plot.barh(x=\"borough\",y=\"land_area\",title=\"Land area of NYC boroughs\")\n",
    "\n",
    "\n",
    "# Set x- and y-axis\n",
    "plt.xlabel('Borough')\n",
    "plt.ylabel('Land area (square miles)')\n",
    "\n",
    "\n",
    "# Save the image-- we will need this for later\n",
    "plt.savefig('nyc-land.png', bbox_inches='tight', dpi = (200))\n",
    "\n",
    "# Show the bar chart in our console\n",
    "plt.show()"
   ]
  },
  {
   "cell_type": "markdown",
   "metadata": {},
   "source": [
    "We can't write a plot directly into `xlsxwriter`. Instead, we will save an image of the plot, and write the image using the `insert_image()` method."
   ]
  },
  {
   "cell_type": "code",
   "execution_count": 11,
   "metadata": {},
   "outputs": [],
   "source": [
    "# Add the image to the workbook\n",
    "worksheet.insert_image('E17', 'nyc-land.png')\n",
    "\n",
    "# Close the workbook and admire your creation!\n",
    "workbook.close()"
   ]
  },
  {
   "cell_type": "markdown",
   "metadata": {},
   "source": [
    "# Drill: \n",
    "\n",
    "Insert a DataFrame and scatterplot in Python. \n",
    "\n",
    "I will fill out the information to complete the scatterplot -- you focus on the `xlsxwriter`-related parts. "
   ]
  },
  {
   "cell_type": "code",
   "execution_count": 12,
   "metadata": {},
   "outputs": [
    {
     "output_type": "execute_result",
     "data": {
      "text/plain": "    mpg  cylinders  displacement  horsepower  weight  acceleration  model-year\n0  18.0          8         307.0       130.0    3504          12.0          70\n1  15.0          8         350.0       165.0    3693          11.5          70\n2  18.0          8         318.0       150.0    3436          11.0          70\n3  16.0          8         304.0       150.0    3433          12.0          70\n4  17.0          8         302.0       140.0    3449          10.5          70",
      "text/html": "<div>\n<style scoped>\n    .dataframe tbody tr th:only-of-type {\n        vertical-align: middle;\n    }\n\n    .dataframe tbody tr th {\n        vertical-align: top;\n    }\n\n    .dataframe thead th {\n        text-align: right;\n    }\n</style>\n<table border=\"1\" class=\"dataframe\">\n  <thead>\n    <tr style=\"text-align: right;\">\n      <th></th>\n      <th>mpg</th>\n      <th>cylinders</th>\n      <th>displacement</th>\n      <th>horsepower</th>\n      <th>weight</th>\n      <th>acceleration</th>\n      <th>model-year</th>\n    </tr>\n  </thead>\n  <tbody>\n    <tr>\n      <td>0</td>\n      <td>18.0</td>\n      <td>8</td>\n      <td>307.0</td>\n      <td>130.0</td>\n      <td>3504</td>\n      <td>12.0</td>\n      <td>70</td>\n    </tr>\n    <tr>\n      <td>1</td>\n      <td>15.0</td>\n      <td>8</td>\n      <td>350.0</td>\n      <td>165.0</td>\n      <td>3693</td>\n      <td>11.5</td>\n      <td>70</td>\n    </tr>\n    <tr>\n      <td>2</td>\n      <td>18.0</td>\n      <td>8</td>\n      <td>318.0</td>\n      <td>150.0</td>\n      <td>3436</td>\n      <td>11.0</td>\n      <td>70</td>\n    </tr>\n    <tr>\n      <td>3</td>\n      <td>16.0</td>\n      <td>8</td>\n      <td>304.0</td>\n      <td>150.0</td>\n      <td>3433</td>\n      <td>12.0</td>\n      <td>70</td>\n    </tr>\n    <tr>\n      <td>4</td>\n      <td>17.0</td>\n      <td>8</td>\n      <td>302.0</td>\n      <td>140.0</td>\n      <td>3449</td>\n      <td>10.5</td>\n      <td>70</td>\n    </tr>\n  </tbody>\n</table>\n</div>"
     },
     "metadata": {},
     "execution_count": 12
    }
   ],
   "source": [
    "import pandas as pd\n",
    "import xlsxwriter\n",
    "import matplotlib.pyplot as plt\n",
    "\n",
    "# Create a DataFrame of land sizes of NYC boroughs\n",
    "mpg = pd.read_csv(\"https://raw.githubusercontent.com/plotly/datasets/master/auto-mpg.csv\")\n",
    "\n",
    "# View first rows of data \n",
    "mpg.head()"
   ]
  },
  {
   "cell_type": "code",
   "execution_count": null,
   "metadata": {},
   "outputs": [],
   "source": [
    "# Set Pandas engine to xlsxwriter\n",
    "writer = pd.ExcelWriter('mpg.xlsx', ___)\n",
    "\n",
    "# Convert the dataframe to an XlsxWriter Excel object.\n",
    "# Do not display the index when we export\n",
    "# Name the worksheet 'data'.\n",
    "mpg.to_excel(___, sheet_name=___, ___=___)\n",
    "\n",
    "# Get the xlsxwriter objects from the dataframe writer object.\n",
    "workbook  = writer.book\n",
    "worksheet = writer.sheets[___]\n",
    "\n",
    "# Let's freeze the pane of this worksheet while we're at it\n",
    "___.freeze_panes(___)\n",
    "\n",
    "# Set column widths\n",
    "worksheet.set_column('A:I',12)"
   ]
  },
  {
   "cell_type": "code",
   "execution_count": null,
   "metadata": {},
   "outputs": [],
   "source": [
    "### This code is finished ###\n",
    "# Create a bar chart\n",
    "mpg.plot.scatter(x=\"horsepower\",y=\"mpg\",title=\"Horsepower versus mileage\")\n",
    "\n",
    "\n",
    "# Set x- and y-axis\n",
    "plt.xlabel('Horsepower')\n",
    "plt.ylabel('Mileage (miles per gallon)')\n",
    "\n",
    "\n",
    "# Save the image-- we will need this for later\n",
    "plt.savefig('mpg.png', bbox_inches='tight', dpi = (400))\n",
    "\n",
    "# Show the bar chart in our console\n",
    "plt.show()"
   ]
  },
  {
   "cell_type": "code",
   "execution_count": null,
   "metadata": {},
   "outputs": [],
   "source": [
    "# Create a new worksheet called `scatter`\n",
    "worksheet2 = ___\n",
    "\n",
    "# Add the image `mpg.png` to the workbook\n",
    "___.insert_image('A1', 'mpg.png')\n",
    "\n",
    "# Close the workbook and admire your creation!\n",
    "___"
   ]
  },
  {
   "cell_type": "markdown",
   "metadata": {},
   "source": [
    "# Capstone: Python & Excel for data analysis\n",
    "\n",
    "It is so powerful to combine the seamless data preparation and analysis functionalities of Python with the end-user accessibility of Excel.\n",
    "\n",
    "Let's look at one final example where we will combine many of the skills learned in this section to make a correlation heatmap in Excel.\n",
    "\n",
    "Again, the focus of this course is on learning `xlsxcode`, but you have been getting smatterings of other packages, namely `pandas`. I hope this course gets you excited about the possibilities of learning Python, and you can see it's already within your reach!\n",
    "\n",
    "We will make a correlation matrix below, but hide the zeros from the diagonals. Our reason for doing so is that we do not want the 1's to skew the other values in our heatmap."
   ]
  },
  {
   "cell_type": "code",
   "execution_count": 3,
   "metadata": {},
   "outputs": [
    {
     "output_type": "execute_result",
     "data": {
      "text/plain": "         rcc   wcc    hc    hg  ferr   bmi   ssf pcBfat   lbm    ht    wt\nrcc           0.15  0.92  0.89  0.25   0.3  -0.4  -0.49  0.55  0.36   0.4\nwcc     0.15        0.15  0.13  0.13  0.18  0.14   0.11   0.1  0.08  0.16\nhc      0.92  0.15        0.95  0.26  0.32 -0.45  -0.53  0.58  0.37  0.42\nhg      0.89  0.13  0.95        0.31  0.38 -0.44  -0.53  0.61  0.35  0.46\nferr    0.25  0.13  0.26  0.31         0.3 -0.11  -0.18  0.32  0.12  0.27\nbmi      0.3  0.18  0.32  0.38   0.3        0.32   0.19  0.71  0.34  0.85\nssf     -0.4  0.14 -0.45 -0.44 -0.11  0.32         0.96 -0.21 -0.07  0.15\npcBfat -0.49  0.11 -0.53 -0.53 -0.18  0.19  0.96        -0.36 -0.19    -0\nlbm     0.55   0.1  0.58  0.61  0.32  0.71 -0.21  -0.36         0.8  0.93\nht      0.36  0.08  0.37  0.35  0.12  0.34 -0.07  -0.19   0.8        0.78\nwt       0.4  0.16  0.42  0.46  0.27  0.85  0.15     -0  0.93  0.78      ",
      "text/html": "<div>\n<style scoped>\n    .dataframe tbody tr th:only-of-type {\n        vertical-align: middle;\n    }\n\n    .dataframe tbody tr th {\n        vertical-align: top;\n    }\n\n    .dataframe thead th {\n        text-align: right;\n    }\n</style>\n<table border=\"1\" class=\"dataframe\">\n  <thead>\n    <tr style=\"text-align: right;\">\n      <th></th>\n      <th>rcc</th>\n      <th>wcc</th>\n      <th>hc</th>\n      <th>hg</th>\n      <th>ferr</th>\n      <th>bmi</th>\n      <th>ssf</th>\n      <th>pcBfat</th>\n      <th>lbm</th>\n      <th>ht</th>\n      <th>wt</th>\n    </tr>\n  </thead>\n  <tbody>\n    <tr>\n      <td>rcc</td>\n      <td></td>\n      <td>0.15</td>\n      <td>0.92</td>\n      <td>0.89</td>\n      <td>0.25</td>\n      <td>0.3</td>\n      <td>-0.4</td>\n      <td>-0.49</td>\n      <td>0.55</td>\n      <td>0.36</td>\n      <td>0.4</td>\n    </tr>\n    <tr>\n      <td>wcc</td>\n      <td>0.15</td>\n      <td></td>\n      <td>0.15</td>\n      <td>0.13</td>\n      <td>0.13</td>\n      <td>0.18</td>\n      <td>0.14</td>\n      <td>0.11</td>\n      <td>0.1</td>\n      <td>0.08</td>\n      <td>0.16</td>\n    </tr>\n    <tr>\n      <td>hc</td>\n      <td>0.92</td>\n      <td>0.15</td>\n      <td></td>\n      <td>0.95</td>\n      <td>0.26</td>\n      <td>0.32</td>\n      <td>-0.45</td>\n      <td>-0.53</td>\n      <td>0.58</td>\n      <td>0.37</td>\n      <td>0.42</td>\n    </tr>\n    <tr>\n      <td>hg</td>\n      <td>0.89</td>\n      <td>0.13</td>\n      <td>0.95</td>\n      <td></td>\n      <td>0.31</td>\n      <td>0.38</td>\n      <td>-0.44</td>\n      <td>-0.53</td>\n      <td>0.61</td>\n      <td>0.35</td>\n      <td>0.46</td>\n    </tr>\n    <tr>\n      <td>ferr</td>\n      <td>0.25</td>\n      <td>0.13</td>\n      <td>0.26</td>\n      <td>0.31</td>\n      <td></td>\n      <td>0.3</td>\n      <td>-0.11</td>\n      <td>-0.18</td>\n      <td>0.32</td>\n      <td>0.12</td>\n      <td>0.27</td>\n    </tr>\n    <tr>\n      <td>bmi</td>\n      <td>0.3</td>\n      <td>0.18</td>\n      <td>0.32</td>\n      <td>0.38</td>\n      <td>0.3</td>\n      <td></td>\n      <td>0.32</td>\n      <td>0.19</td>\n      <td>0.71</td>\n      <td>0.34</td>\n      <td>0.85</td>\n    </tr>\n    <tr>\n      <td>ssf</td>\n      <td>-0.4</td>\n      <td>0.14</td>\n      <td>-0.45</td>\n      <td>-0.44</td>\n      <td>-0.11</td>\n      <td>0.32</td>\n      <td></td>\n      <td>0.96</td>\n      <td>-0.21</td>\n      <td>-0.07</td>\n      <td>0.15</td>\n    </tr>\n    <tr>\n      <td>pcBfat</td>\n      <td>-0.49</td>\n      <td>0.11</td>\n      <td>-0.53</td>\n      <td>-0.53</td>\n      <td>-0.18</td>\n      <td>0.19</td>\n      <td>0.96</td>\n      <td></td>\n      <td>-0.36</td>\n      <td>-0.19</td>\n      <td>-0</td>\n    </tr>\n    <tr>\n      <td>lbm</td>\n      <td>0.55</td>\n      <td>0.1</td>\n      <td>0.58</td>\n      <td>0.61</td>\n      <td>0.32</td>\n      <td>0.71</td>\n      <td>-0.21</td>\n      <td>-0.36</td>\n      <td></td>\n      <td>0.8</td>\n      <td>0.93</td>\n    </tr>\n    <tr>\n      <td>ht</td>\n      <td>0.36</td>\n      <td>0.08</td>\n      <td>0.37</td>\n      <td>0.35</td>\n      <td>0.12</td>\n      <td>0.34</td>\n      <td>-0.07</td>\n      <td>-0.19</td>\n      <td>0.8</td>\n      <td></td>\n      <td>0.78</td>\n    </tr>\n    <tr>\n      <td>wt</td>\n      <td>0.4</td>\n      <td>0.16</td>\n      <td>0.42</td>\n      <td>0.46</td>\n      <td>0.27</td>\n      <td>0.85</td>\n      <td>0.15</td>\n      <td>-0</td>\n      <td>0.93</td>\n      <td>0.78</td>\n      <td></td>\n    </tr>\n  </tbody>\n</table>\n</div>"
     },
     "metadata": {},
     "execution_count": 3
    }
   ],
   "source": [
    "import xlsxwriter\n",
    "import pandas as pd\n",
    "# We will need one more package here\n",
    "import numpy as np\n",
    "\n",
    "# Read in our dataset\n",
    "athletes = pd.read_excel(\"data/athletes.xlsx\")\n",
    "\n",
    "# Make a correlation matrix\n",
    "athletes_corr = athletes.corr()\n",
    "# Round the numbers to two decimals\n",
    "athletes_corr = athletes_corr.round(2)\n",
    "# Fill the diagonals with a 2\n",
    "np.fill_diagonal(athletes_corr.values, 2)\n",
    "# Replace the 2's with blank values \n",
    "# -- This will remove the 1's from the diagonals\n",
    "athletes_corr = athletes_corr.replace(2,\"\")\n",
    "\n",
    "athletes_corr"
   ]
  },
  {
   "cell_type": "markdown",
   "metadata": {},
   "source": [
    "We will now do what we've done a bunch of times... write a DataFrame to Excel. We will also add conditional formatting to our table to effectively make a heatmap."
   ]
  },
  {
   "cell_type": "code",
   "execution_count": 4,
   "metadata": {},
   "outputs": [],
   "source": [
    "# Set Pandas engine to xlsxwriter\n",
    "writer = pd.ExcelWriter('athletes-corr.xlsx', engine='xlsxwriter')\n",
    "\n",
    "# Convert the dataframe to an XlsxWriter Excel object.\n",
    "athletes_corr.to_excel(writer, sheet_name='Sheet1', index=False)\n",
    "\n",
    "# Get the xsxwriter objects from the dataframe writer object.\n",
    "workbook  = writer.book\n",
    "worksheet = writer.sheets['Sheet1']\n",
    "\n",
    "# Conditional formatting \n",
    "worksheet.conditional_format('A2:K12', {'type': '3_color_scale'})\n",
    "\n",
    "# Close worksheet\n",
    "workbook.close()"
   ]
  },
  {
   "cell_type": "markdown",
   "metadata": {},
   "source": [
    "You may be familiar with VBA code in Python. Most of the tasks we've done today such as hiding worksheets or formatting ranges could be done in VBA. \n",
    "\n",
    "However, VBA does not have easy access to a rich universe of data manipulation and data visualization packages like Python. I see this as one of the giant wins of Python-Powered Excel.\n",
    "\n",
    "## Back to the slides...\n",
    "\n",
    "Our time on Jupyter is ended for today, but I hope you come back and visit often. These resources will remain available to you. \n",
    "\n",
    "Now back to the slides to wrap up our discussion. "
   ]
  },
  {
   "cell_type": "code",
   "execution_count": null,
   "metadata": {},
   "outputs": [],
   "source": []
  }
 ],
 "metadata": {
  "language_info": {
   "codemirror_mode": {
    "name": "ipython",
    "version": 3
   },
   "file_extension": ".py",
   "mimetype": "text/x-python",
   "name": "python",
   "nbconvert_exporter": "python",
   "pygments_lexer": "ipython3",
   "version": "3.8.3-final"
  },
  "orig_nbformat": 2,
  "kernelspec": {
   "name": "python3",
   "display_name": "Python 3"
  }
 },
 "nbformat": 4,
 "nbformat_minor": 2
}