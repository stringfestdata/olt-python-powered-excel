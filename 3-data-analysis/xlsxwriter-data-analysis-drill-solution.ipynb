{
 "cells": [
  {
   "cell_type": "code",
   "execution_count": 2,
   "metadata": {},
   "outputs": [],
   "source": [
    "import xlsxwriter\n",
    "import pandas as pd\n",
    "import numpy as np\n"
   ]
  },
  {
   "cell_type": "code",
   "execution_count": 19,
   "metadata": {},
   "outputs": [
    {
     "output_type": "execute_result",
     "data": {
      "text/plain": "         rcc   wcc    hc    hg  ferr   bmi   ssf pcBfat   lbm    ht    wt\nrcc           0.15  0.92  0.89  0.25   0.3  -0.4  -0.49  0.55  0.36   0.4\nwcc     0.15        0.15  0.13  0.13  0.18  0.14   0.11   0.1  0.08  0.16\nhc      0.92  0.15        0.95  0.26  0.32 -0.45  -0.53  0.58  0.37  0.42\nhg      0.89  0.13  0.95        0.31  0.38 -0.44  -0.53  0.61  0.35  0.46\nferr    0.25  0.13  0.26  0.31         0.3 -0.11  -0.18  0.32  0.12  0.27\nbmi      0.3  0.18  0.32  0.38   0.3        0.32   0.19  0.71  0.34  0.85\nssf     -0.4  0.14 -0.45 -0.44 -0.11  0.32         0.96 -0.21 -0.07  0.15\npcBfat -0.49  0.11 -0.53 -0.53 -0.18  0.19  0.96        -0.36 -0.19    -0\nlbm     0.55   0.1  0.58  0.61  0.32  0.71 -0.21  -0.36         0.8  0.93\nht      0.36  0.08  0.37  0.35  0.12  0.34 -0.07  -0.19   0.8        0.78\nwt       0.4  0.16  0.42  0.46  0.27  0.85  0.15     -0  0.93  0.78      ",
      "text/html": "<div>\n<style scoped>\n    .dataframe tbody tr th:only-of-type {\n        vertical-align: middle;\n    }\n\n    .dataframe tbody tr th {\n        vertical-align: top;\n    }\n\n    .dataframe thead th {\n        text-align: right;\n    }\n</style>\n<table border=\"1\" class=\"dataframe\">\n  <thead>\n    <tr style=\"text-align: right;\">\n      <th></th>\n      <th>rcc</th>\n      <th>wcc</th>\n      <th>hc</th>\n      <th>hg</th>\n      <th>ferr</th>\n      <th>bmi</th>\n      <th>ssf</th>\n      <th>pcBfat</th>\n      <th>lbm</th>\n      <th>ht</th>\n      <th>wt</th>\n    </tr>\n  </thead>\n  <tbody>\n    <tr>\n      <th>rcc</th>\n      <td></td>\n      <td>0.15</td>\n      <td>0.92</td>\n      <td>0.89</td>\n      <td>0.25</td>\n      <td>0.3</td>\n      <td>-0.4</td>\n      <td>-0.49</td>\n      <td>0.55</td>\n      <td>0.36</td>\n      <td>0.4</td>\n    </tr>\n    <tr>\n      <th>wcc</th>\n      <td>0.15</td>\n      <td></td>\n      <td>0.15</td>\n      <td>0.13</td>\n      <td>0.13</td>\n      <td>0.18</td>\n      <td>0.14</td>\n      <td>0.11</td>\n      <td>0.1</td>\n      <td>0.08</td>\n      <td>0.16</td>\n    </tr>\n    <tr>\n      <th>hc</th>\n      <td>0.92</td>\n      <td>0.15</td>\n      <td></td>\n      <td>0.95</td>\n      <td>0.26</td>\n      <td>0.32</td>\n      <td>-0.45</td>\n      <td>-0.53</td>\n      <td>0.58</td>\n      <td>0.37</td>\n      <td>0.42</td>\n    </tr>\n    <tr>\n      <th>hg</th>\n      <td>0.89</td>\n      <td>0.13</td>\n      <td>0.95</td>\n      <td></td>\n      <td>0.31</td>\n      <td>0.38</td>\n      <td>-0.44</td>\n      <td>-0.53</td>\n      <td>0.61</td>\n      <td>0.35</td>\n      <td>0.46</td>\n    </tr>\n    <tr>\n      <th>ferr</th>\n      <td>0.25</td>\n      <td>0.13</td>\n      <td>0.26</td>\n      <td>0.31</td>\n      <td></td>\n      <td>0.3</td>\n      <td>-0.11</td>\n      <td>-0.18</td>\n      <td>0.32</td>\n      <td>0.12</td>\n      <td>0.27</td>\n    </tr>\n    <tr>\n      <th>bmi</th>\n      <td>0.3</td>\n      <td>0.18</td>\n      <td>0.32</td>\n      <td>0.38</td>\n      <td>0.3</td>\n      <td></td>\n      <td>0.32</td>\n      <td>0.19</td>\n      <td>0.71</td>\n      <td>0.34</td>\n      <td>0.85</td>\n    </tr>\n    <tr>\n      <th>ssf</th>\n      <td>-0.4</td>\n      <td>0.14</td>\n      <td>-0.45</td>\n      <td>-0.44</td>\n      <td>-0.11</td>\n      <td>0.32</td>\n      <td></td>\n      <td>0.96</td>\n      <td>-0.21</td>\n      <td>-0.07</td>\n      <td>0.15</td>\n    </tr>\n    <tr>\n      <th>pcBfat</th>\n      <td>-0.49</td>\n      <td>0.11</td>\n      <td>-0.53</td>\n      <td>-0.53</td>\n      <td>-0.18</td>\n      <td>0.19</td>\n      <td>0.96</td>\n      <td></td>\n      <td>-0.36</td>\n      <td>-0.19</td>\n      <td>-0</td>\n    </tr>\n    <tr>\n      <th>lbm</th>\n      <td>0.55</td>\n      <td>0.1</td>\n      <td>0.58</td>\n      <td>0.61</td>\n      <td>0.32</td>\n      <td>0.71</td>\n      <td>-0.21</td>\n      <td>-0.36</td>\n      <td></td>\n      <td>0.8</td>\n      <td>0.93</td>\n    </tr>\n    <tr>\n      <th>ht</th>\n      <td>0.36</td>\n      <td>0.08</td>\n      <td>0.37</td>\n      <td>0.35</td>\n      <td>0.12</td>\n      <td>0.34</td>\n      <td>-0.07</td>\n      <td>-0.19</td>\n      <td>0.8</td>\n      <td></td>\n      <td>0.78</td>\n    </tr>\n    <tr>\n      <th>wt</th>\n      <td>0.4</td>\n      <td>0.16</td>\n      <td>0.42</td>\n      <td>0.46</td>\n      <td>0.27</td>\n      <td>0.85</td>\n      <td>0.15</td>\n      <td>-0</td>\n      <td>0.93</td>\n      <td>0.78</td>\n      <td></td>\n    </tr>\n  </tbody>\n</table>\n</div>"
     },
     "metadata": {},
     "execution_count": 19
    }
   ],
   "source": [
    "# Read in our dataset\n",
    "athletes = pd.read_excel(\"data/athletes.xlsx\")\n",
    "\n",
    "# Make a correlation matrix\n",
    "athletes_corr = athletes.corr()\n",
    "# Round the numbers to two decimals\n",
    "athletes_corr = athletes_corr.round(2)\n",
    "# Fill the diagonals with a 2\n",
    "np.fill_diagonal(athletes_corr.values, 2)\n",
    "# Replace the 2's with blank values \n",
    "# -- This will remove the 1's from the diagonals\n",
    "athletes_corr = athletes_corr.replace(2,\"\")\n",
    "\n",
    "athletes_corr"
   ]
  },
  {
   "cell_type": "code",
   "execution_count": 20,
   "metadata": {},
   "outputs": [],
   "source": [
    "# Set Pandas engine to xlsxwriter\n",
    "writer = pd.ExcelWriter('athletes-corr.xlsx', engine='xlsxwriter')\n",
    "\n",
    "# Convert the dataframe to an XlsxWriter Excel object.\n",
    "athletes_corr.to_excel(writer, sheet_name='Sheet1', index=False)\n",
    "\n",
    "# Get the xsxwriter objects from the dataframe writer object.\n",
    "workbook  = writer.book\n",
    "worksheet = writer.sheets['Sheet1']\n",
    "\n",
    "# Conditional formatting \n",
    "worksheet.conditional_format('B2:K12', {'type': '3_color_scale'})\n",
    "\n",
    "# Close worksheet\n",
    "workbook.close()"
   ]
  },
  {
   "cell_type": "code",
   "execution_count": null,
   "metadata": {},
   "outputs": [],
   "source": [
    "# Read in our dataset\n",
    "athletes = ___(\"data/athletes.xlsx\")\n",
    "\n",
    "# Make a correlation matrix\n",
    "athletes_corr = athletes.corr()\n",
    "# Round the numbers to two decimals\n",
    "athletes_corr = athletes_corr.round(2)\n",
    "# Fill the diagonals with a 2\n",
    "np.fill_diagonal(athletes_corr.values, 2)\n",
    "# Replace the 2's with blank values \n",
    "# -- This will remove the 1's from the diagonals\n",
    "athletes_corr = athletes_corr.replace(2,\"\")\n",
    "\n",
    "athletes_corr"
   ]
  },
  {
   "cell_type": "code",
   "execution_count": null,
   "metadata": {},
   "outputs": [],
   "source": [
    "# Set Pandas engine to xlsxwriter\n",
    "___('athletes-corr.xlsx', ___)\n",
    "\n",
    "# Convert the dataframe to an XlsxWriter Excel object.\n",
    "# Hide the index\n",
    "___(___, sheet_name='Sheet1', ___)\n",
    "\n",
    "# Get the xsxwriter objects from the dataframe writer object.\n",
    "___\n",
    "___\n",
    "\n",
    "# Conditional formatting \n",
    "worksheet.conditional_format('B2:K12', {'type': '3_color_scale'})\n",
    "\n",
    "# Close worksheet\n",
    "___"
   ]
  }
 ],
 "metadata": {
  "language_info": {
   "codemirror_mode": {
    "name": "ipython",
    "version": 3
   },
   "file_extension": ".py",
   "mimetype": "text/x-python",
   "name": "python",
   "nbconvert_exporter": "python",
   "pygments_lexer": "ipython3",
   "version": "3.7.1-final"
  },
  "orig_nbformat": 2,
  "kernelspec": {
   "name": "python37164bitbasecondaf8862a2905574a4f972e641ee36af90c",
   "display_name": "Python 3.7.1 64-bit ('base': conda)"
  }
 },
 "nbformat": 4,
 "nbformat_minor": 2
}