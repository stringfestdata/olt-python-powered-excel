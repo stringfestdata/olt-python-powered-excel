{
 "cells": [
  {
   "cell_type": "markdown",
   "metadata": {},
   "source": [
    "If you've ever worked with conditional formatting in Excel, you know the\n",
    "\n",
    "For a "
   ]
  },
  {
   "cell_type": "markdown",
   "metadata": {},
   "source": [
    "For a further vignette on the possibilities, check out Chapter 22 of the [`xlsxwriter` guide](https://github.com/jmcnamara/XlsxWriter/blob/master/docs/XlsxWriter.pdf). "
   ]
  },
  {
   "cell_type": "code",
   "execution_count": 2,
   "metadata": {},
   "outputs": [
    {
     "output_type": "execute_result",
     "data": {
      "text/plain": "          city population pop_change  land_area\n0     New York  8,336,817      1.98%      301.5\n1  Los Angeles  3,979,576      4.93%      468.7\n2      Chicago  2,693,976     -0.06%      227.3\n3      Houston  2,320,268     10.48%      637.5\n4      Phoenix  1,680,992     16.28%      517.6",
      "text/html": "<div>\n<style scoped>\n    .dataframe tbody tr th:only-of-type {\n        vertical-align: middle;\n    }\n\n    .dataframe tbody tr th {\n        vertical-align: top;\n    }\n\n    .dataframe thead th {\n        text-align: right;\n    }\n</style>\n<table border=\"1\" class=\"dataframe\">\n  <thead>\n    <tr style=\"text-align: right;\">\n      <th></th>\n      <th>city</th>\n      <th>population</th>\n      <th>pop_change</th>\n      <th>land_area</th>\n    </tr>\n  </thead>\n  <tbody>\n    <tr>\n      <td>0</td>\n      <td>New York</td>\n      <td>8,336,817</td>\n      <td>1.98%</td>\n      <td>301.5</td>\n    </tr>\n    <tr>\n      <td>1</td>\n      <td>Los Angeles</td>\n      <td>3,979,576</td>\n      <td>4.93%</td>\n      <td>468.7</td>\n    </tr>\n    <tr>\n      <td>2</td>\n      <td>Chicago</td>\n      <td>2,693,976</td>\n      <td>-0.06%</td>\n      <td>227.3</td>\n    </tr>\n    <tr>\n      <td>3</td>\n      <td>Houston</td>\n      <td>2,320,268</td>\n      <td>10.48%</td>\n      <td>637.5</td>\n    </tr>\n    <tr>\n      <td>4</td>\n      <td>Phoenix</td>\n      <td>1,680,992</td>\n      <td>16.28%</td>\n      <td>517.6</td>\n    </tr>\n  </tbody>\n</table>\n</div>"
     },
     "metadata": {},
     "execution_count": 2
    }
   ],
   "source": [
    "import pandas as pd \n",
    "\n",
    "# pandas can read in data from most any source\n",
    "cities = pd.read_csv(\"https://raw.githubusercontent.com/summerofgeorge/training-assets/master/largest-us-cities.csv\")\n",
    "\n",
    "cities.head()"
   ]
  },
  {
   "cell_type": "markdown",
   "metadata": {},
   "source": [
    "## The Python and Excel division of labor. \n",
    "\n",
    "At the beginning of the class we talked about using these products in sync. Let's think about when is the right time to use Python versus Excel. \n",
    "\n",
    "We would like to\n",
    "\n",
    "*If it has to do with data analysis, manipulation or visualization, use Python.*\n",
    "\n",
    "*If it has to do with workbook formatting, presentation and end-user interaction, use Excel.*"
   ]
  },
  {
   "cell_type": "code",
   "execution_count": null,
   "metadata": {},
   "outputs": [],
   "source": [
    "# Cal"
   ]
  },
  {
   "cell_type": "code",
   "execution_count": 4,
   "metadata": {},
   "outputs": [],
   "source": [
    "# Set Pandas engine to xlsxwriter\n",
    "writer = pd.ExcelWriter('largest-cities.xlsx', engine='xlsxwriter')\n",
    "\n",
    "# Convert the dataframe to an XlsxWriter Excel object.\n",
    "cities.to_excel(writer, sheet_name='Sheet1', index=False)\n",
    "\n",
    "# Get the xsxwriter objects from the dataframe writer object.\n",
    "workbook  = writer.book\n",
    "worksheet = writer.sheets['Sheet1']\n",
    "\n",
    "# Don't close yet; we're not done!"
   ]
  },
  {
   "cell_type": "markdown",
   "metadata": {},
   "source": [
    "### The basics of conditional formatting.\n",
    "\n",
    "We will pass the `conditional_format()` method to our worksheet object. \n",
    "\n",
    "We will tell Excel what range and what type.\n",
    "\n",
    "Unfortunately we need to pass the alphanumeric range in here so we need to know where our data is going to land. "
   ]
  },
  {
   "cell_type": "markdown",
   "metadata": {},
   "source": [
    "#### Greater than/less than"
   ]
  },
  {
   "cell_type": "markdown",
   "metadata": {},
   "source": [
    "`green_format` and `red_format` are default. "
   ]
  },
  {
   "cell_type": "code",
   "execution_count": null,
   "metadata": {},
   "outputs": [],
   "source": [
    "worksheet.conditional_format('A1', {'type': 'cell',\n",
    "'criteria': 'greater than',\n",
    "'value': 5,\n",
    "'format': red_format})"
   ]
  },
  {
   "cell_type": "markdown",
   "metadata": {},
   "source": [
    "You could set your own format using the same methods as before.\n",
    "\n"
   ]
  },
  {
   "cell_type": "code",
   "execution_count": null,
   "metadata": {},
   "outputs": [],
   "source": [
    "format1 = workbook.add_format({'bold': 1, 'italic': 1})"
   ]
  },
  {
   "cell_type": "markdown",
   "metadata": {},
   "source": [
    "#### Top X/bottom X\n",
    "\n",
    "We could also find the top or bottom X cells.\n",
    "\n",
    "Let's find the three most and least densely-populated cities. That is Column `E`.   "
   ]
  },
  {
   "cell_type": "code",
   "execution_count": null,
   "metadata": {},
   "outputs": [],
   "source": [
    "worksheet.conditional_format('A1:F10', {'type': 'top',\n",
    "'value': 10,\n",
    "'format': format1})"
   ]
  },
  {
   "cell_type": "markdown",
   "metadata": {},
   "source": [
    "#### Data bar\n",
    "\n",
    "We could also run data bars like this. Let's do this to the population."
   ]
  },
  {
   "cell_type": "code",
   "execution_count": null,
   "metadata": {},
   "outputs": [],
   "source": [
    "worksheet.conditional_format('A1:A12', {'type': 'data_bar'})"
   ]
  },
  {
   "cell_type": "markdown",
   "metadata": {},
   "source": [
    "#### Color scales\n",
    "\n",
    "Let's do this to the population change scale."
   ]
  },
  {
   "cell_type": "code",
   "execution_count": null,
   "metadata": {},
   "outputs": [],
   "source": [
    "worksheet.conditional_format('A1:A12', {'type': '3_color_scale'})"
   ]
  },
  {
   "cell_type": "markdown",
   "metadata": {},
   "source": [
    "#### Finishing touches\n",
    "\n",
    "We have conditionally formatted our cells but we should still "
   ]
  },
  {
   "cell_type": "code",
   "execution_count": null,
   "metadata": {},
   "outputs": [],
   "source": [
    "# Finishing touches\n",
    "thousands_format = workbook.add_format  '#,##0'\n",
    "pct_format = workbook.add_format   '0.00%'"
   ]
  }
 ],
 "metadata": {
  "language_info": {
   "codemirror_mode": {
    "name": "ipython",
    "version": 3
   },
   "file_extension": ".py",
   "mimetype": "text/x-python",
   "name": "python",
   "nbconvert_exporter": "python",
   "pygments_lexer": "ipython3",
   "version": "3.7.4-final"
  },
  "orig_nbformat": 2,
  "kernelspec": {
   "name": "python3",
   "display_name": "Python 3"
  }
 },
 "nbformat": 4,
 "nbformat_minor": 2
}