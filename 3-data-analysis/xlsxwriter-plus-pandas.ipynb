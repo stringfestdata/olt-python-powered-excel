{
 "cells": [
  {
   "cell_type": "markdown",
   "metadata": {},
   "source": [
    "Do you remember what the built-in `pandas` way to write to Excel is?"
   ]
  },
  {
   "cell_type": "code",
   "execution_count": 1,
   "metadata": {},
   "outputs": [
    {
     "output_type": "stream",
     "name": "stdout",
     "text": "Name   Sales\n0     Andrea  725457\n1  Cassandra  391721\n2      Chuck  687781\n3      Kelly  501239\n"
    }
   ],
   "source": [
    "# Create a raw DataFrame here\n",
    "\n",
    "import pandas as pd\n",
    "data = {'Name':['Andrea', 'Cassandra', 'Chuck', 'Kelly'],'Sales':[725457,391721,687781,501239]}\n",
    "df = pd.DataFrame(data)\n",
    "print(df)"
   ]
  },
  {
   "cell_type": "code",
   "execution_count": 5,
   "metadata": {},
   "outputs": [],
   "source": [
    "writer = pd.ExcelWriter('sales-summary.xlsx', engine='xlsxwriter')\n",
    "workbook = writer.book\n",
    "\n",
    "sheet = 'Sales Summary'\n",
    "df.to_excel(writer, sheet_name=sheet, index=False)\n",
    "\n",
    "worksheet = writer.sheets[sheet]\n",
    "\n",
    "worksheet.set_column('A:B', 14, None)\n",
    "\n",
    "writer.save()"
   ]
  },
  {
   "cell_type": "code",
   "execution_count": null,
   "metadata": {},
   "outputs": [],
   "source": []
  }
 ],
 "metadata": {
  "language_info": {
   "codemirror_mode": {
    "name": "ipython",
    "version": 3
   },
   "file_extension": ".py",
   "mimetype": "text/x-python",
   "name": "python",
   "nbconvert_exporter": "python",
   "pygments_lexer": "ipython3",
   "version": "3.7.4-final"
  },
  "orig_nbformat": 2,
  "kernelspec": {
   "name": "python3",
   "display_name": "Python 3"
  }
 },
 "nbformat": 4,
 "nbformat_minor": 2
}