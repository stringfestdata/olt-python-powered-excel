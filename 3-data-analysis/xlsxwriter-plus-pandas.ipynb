{
 "cells": [
  {
   "cell_type": "markdown",
   "metadata": {},
   "source": [
    "Do you remember what the built-in `pandas` way to write to Excel is?"
   ]
  },
  {
   "cell_type": "code",
   "execution_count": 1,
   "metadata": {},
   "outputs": [
    {
     "output_type": "stream",
     "name": "stdout",
     "text": "Name   Sales\n0     Andrea  725457\n1  Cassandra  391721\n2      Chuck  687781\n3      Kelly  501239\n"
    }
   ],
   "source": [
    "# Create a raw DataFrame here\n",
    "\n",
    "import pandas as pd\n",
    "data = {'Name':['Andrea', 'Cassandra', 'Chuck', 'Kelly'],'Sales':[725457,391721,687781,501239]}\n",
    "df = pd.DataFrame(data)\n",
    "print(df)"
   ]
  },
  {
   "cell_type": "code",
   "execution_count": 5,
   "metadata": {},
   "outputs": [],
   "source": [
    "writer = pd.ExcelWriter('sales-summary.xlsx', engine='xlsxwriter')\n",
    "workbook = writer.book\n",
    "\n",
    "sheet = 'Sales Summary'\n",
    "df.to_excel(writer, sheet_name=sheet, index=False)\n",
    "\n",
    "worksheet = writer.sheets[sheet]\n",
    "\n",
    "worksheet.set_column('A:B', 14, None)\n",
    "\n",
    "writer.save()"
   ]
  },
  {
   "cell_type": "markdown",
   "metadata": {},
   "source": [
    "## Adding sparklines\n",
    "\n",
    "We can also add sparklines directly from `xlsxwriter`. These are small, in-cell visualizations of a trend, such as the below.\n",
    "\n",
    "\n",
    "I would like to compare the attendance records of AL Central teams from 2010-2015. I will need to set up my data to look like the above, with the years across the columns. This will take some doing. "
   ]
  },
  {
   "cell_type": "code",
   "execution_count": 5,
   "metadata": {},
   "outputs": [
    {
     "output_type": "execute_result",
     "data": {
      "text/plain": "   yearID lgID teamID franchID divID  Rank   G  Ghome   W   L  ...  DP     FP  \\\n0    1871  NaN    BS1      BNA   NaN     3  31    NaN  20  10  ...  24  0.834   \n1    1871  NaN    CH1      CNA   NaN     2  28    NaN  19   9  ...  16  0.829   \n2    1871  NaN    CL1      CFC   NaN     8  29    NaN  10  19  ...  15  0.818   \n3    1871  NaN    FW1      KEK   NaN     7  19    NaN   7  12  ...   8  0.803   \n4    1871  NaN    NY2      NNA   NaN     5  33    NaN  16  17  ...  14  0.840   \n\n                      name                          park  attendance  BPF  \\\n0     Boston Red Stockings           South End Grounds I         NaN  103   \n1  Chicago White Stockings       Union Base-Ball Grounds         NaN  104   \n2   Cleveland Forest Citys  National Association Grounds         NaN   96   \n3     Fort Wayne Kekiongas                Hamilton Field         NaN  101   \n4         New York Mutuals      Union Grounds (Brooklyn)         NaN   90   \n\n   PPF  teamIDBR  teamIDlahman45  teamIDretro  \n0   98       BOS             BS1          BS1  \n1  102       CHI             CH1          CH1  \n2  100       CLE             CL1          CL1  \n3  107       KEK             FW1          FW1  \n4   88       NYU             NY2          NY2  \n\n[5 rows x 48 columns]",
      "text/html": "<div>\n<style scoped>\n    .dataframe tbody tr th:only-of-type {\n        vertical-align: middle;\n    }\n\n    .dataframe tbody tr th {\n        vertical-align: top;\n    }\n\n    .dataframe thead th {\n        text-align: right;\n    }\n</style>\n<table border=\"1\" class=\"dataframe\">\n  <thead>\n    <tr style=\"text-align: right;\">\n      <th></th>\n      <th>yearID</th>\n      <th>lgID</th>\n      <th>teamID</th>\n      <th>franchID</th>\n      <th>divID</th>\n      <th>Rank</th>\n      <th>G</th>\n      <th>Ghome</th>\n      <th>W</th>\n      <th>L</th>\n      <th>...</th>\n      <th>DP</th>\n      <th>FP</th>\n      <th>name</th>\n      <th>park</th>\n      <th>attendance</th>\n      <th>BPF</th>\n      <th>PPF</th>\n      <th>teamIDBR</th>\n      <th>teamIDlahman45</th>\n      <th>teamIDretro</th>\n    </tr>\n  </thead>\n  <tbody>\n    <tr>\n      <td>0</td>\n      <td>1871</td>\n      <td>NaN</td>\n      <td>BS1</td>\n      <td>BNA</td>\n      <td>NaN</td>\n      <td>3</td>\n      <td>31</td>\n      <td>NaN</td>\n      <td>20</td>\n      <td>10</td>\n      <td>...</td>\n      <td>24</td>\n      <td>0.834</td>\n      <td>Boston Red Stockings</td>\n      <td>South End Grounds I</td>\n      <td>NaN</td>\n      <td>103</td>\n      <td>98</td>\n      <td>BOS</td>\n      <td>BS1</td>\n      <td>BS1</td>\n    </tr>\n    <tr>\n      <td>1</td>\n      <td>1871</td>\n      <td>NaN</td>\n      <td>CH1</td>\n      <td>CNA</td>\n      <td>NaN</td>\n      <td>2</td>\n      <td>28</td>\n      <td>NaN</td>\n      <td>19</td>\n      <td>9</td>\n      <td>...</td>\n      <td>16</td>\n      <td>0.829</td>\n      <td>Chicago White Stockings</td>\n      <td>Union Base-Ball Grounds</td>\n      <td>NaN</td>\n      <td>104</td>\n      <td>102</td>\n      <td>CHI</td>\n      <td>CH1</td>\n      <td>CH1</td>\n    </tr>\n    <tr>\n      <td>2</td>\n      <td>1871</td>\n      <td>NaN</td>\n      <td>CL1</td>\n      <td>CFC</td>\n      <td>NaN</td>\n      <td>8</td>\n      <td>29</td>\n      <td>NaN</td>\n      <td>10</td>\n      <td>19</td>\n      <td>...</td>\n      <td>15</td>\n      <td>0.818</td>\n      <td>Cleveland Forest Citys</td>\n      <td>National Association Grounds</td>\n      <td>NaN</td>\n      <td>96</td>\n      <td>100</td>\n      <td>CLE</td>\n      <td>CL1</td>\n      <td>CL1</td>\n    </tr>\n    <tr>\n      <td>3</td>\n      <td>1871</td>\n      <td>NaN</td>\n      <td>FW1</td>\n      <td>KEK</td>\n      <td>NaN</td>\n      <td>7</td>\n      <td>19</td>\n      <td>NaN</td>\n      <td>7</td>\n      <td>12</td>\n      <td>...</td>\n      <td>8</td>\n      <td>0.803</td>\n      <td>Fort Wayne Kekiongas</td>\n      <td>Hamilton Field</td>\n      <td>NaN</td>\n      <td>101</td>\n      <td>107</td>\n      <td>KEK</td>\n      <td>FW1</td>\n      <td>FW1</td>\n    </tr>\n    <tr>\n      <td>4</td>\n      <td>1871</td>\n      <td>NaN</td>\n      <td>NY2</td>\n      <td>NNA</td>\n      <td>NaN</td>\n      <td>5</td>\n      <td>33</td>\n      <td>NaN</td>\n      <td>16</td>\n      <td>17</td>\n      <td>...</td>\n      <td>14</td>\n      <td>0.840</td>\n      <td>New York Mutuals</td>\n      <td>Union Grounds (Brooklyn)</td>\n      <td>NaN</td>\n      <td>90</td>\n      <td>88</td>\n      <td>NYU</td>\n      <td>NY2</td>\n      <td>NY2</td>\n    </tr>\n  </tbody>\n</table>\n<p>5 rows × 48 columns</p>\n</div>"
     },
     "metadata": {},
     "execution_count": 5
    }
   ],
   "source": [
    "import pandas as pd\n",
    "\n",
    "teams = pd.read_excel(\"baseball.xlsx\", 'teams')\n",
    "teams.head()"
   ]
  },
  {
   "cell_type": "markdown",
   "metadata": {},
   "source": [
    "I will need to do some work to get our dataset set up to what we want, don't focus on the code but see how intuitive it is for you. "
   ]
  },
  {
   "cell_type": "code",
   "execution_count": 12,
   "metadata": {},
   "outputs": [],
   "source": [
    "# Filter records for year b/w 2010 and 2015 and in NL leage and in C division\n",
    "\n",
    "nl_c_2010_2015 = (teams['yearID'].between(2010,2015)) & (teams['lgID'] == 'AL') & (teams['divID'] == 'C')\n",
    "\n",
    "teams_filtered = teams.iloc[nl_c_2010_2015.values]\n",
    "\n",
    "\n",
    "teams_filtered_pivot = teams_filtered.pivot(index='name', columns='yearID', values='attendance')\n"
   ]
  },
  {
   "cell_type": "markdown",
   "metadata": {},
   "source": [
    "Now I need to figure out how to do this in Python and guess what. I don't feel like doing it right now. I mean I work all the time and these idiots next door do nothing. "
   ]
  }
 ],
 "metadata": {
  "language_info": {
   "codemirror_mode": {
    "name": "ipython",
    "version": 3
   },
   "file_extension": ".py",
   "mimetype": "text/x-python",
   "name": "python",
   "nbconvert_exporter": "python",
   "pygments_lexer": "ipython3",
   "version": "3.8.3-final"
  },
  "orig_nbformat": 2,
  "kernelspec": {
   "name": "python3",
   "display_name": "Python 3"
  }
 },
 "nbformat": 4,
 "nbformat_minor": 2
}