{
 "cells": [
  {
   "cell_type": "markdown",
   "metadata": {},
   "source": [
    "# Drill\n",
    "\n",
    "1. Place the steps in order for writing a `pandas` DataFrame into an `xlsxwriter` workbook. \n",
    "\n",
    "**1. Set the `pandas` Excel-writing engine to `xlsxwriter` with `ExcelWriter()`.  \n",
    "2. Convert the DataFrame into an `xlsxwriter` object with `to_excel()`.  \n",
    "3. Create workbook and worksheet objects for the resulting output with `writer.book` and `writer.sheets`.**\n",
    "\n",
    "\n",
    "\n",
    "2. Fill out the below code to write this DataFrame to a workbook named `hr.xlsx` and worksheet named `leaders`. \n",
    "\n"
   ]
  },
  {
   "cell_type": "code",
   "execution_count": null,
   "metadata": {},
   "outputs": [],
   "source": [
    "import pandas as pd\n",
    "import xlsxwriter\n",
    "\n",
    "# Create a DataFrame\n",
    "data = {'player':['Barry', 'Hank', 'Babe', 'Alex', 'Wille'],'hr':[762,755,714,696,660]}\n",
    "df = pd.DataFrame(data)\n",
    "\n",
    "# Set Pandas engine to xlsxwriter\n",
    "writer = pd.ExcelWriter(___, engine='xlsxwriter')\n",
    "\n",
    "# Convert the dataframe to an XlsxWriter Excel object.\n",
    "df.to_excel(writer, ___=___, index=False)\n",
    "\n",
    "# Get the xsxwriter objects from the dataframe writer object.\n",
    "workbook  = writer.book\n",
    "worksheet = writer.sheets[___]\n",
    "\n",
    "workbook.close()"
   ]
  },
  {
   "cell_type": "code",
   "execution_count": null,
   "metadata": {},
   "outputs": [],
   "source": [
    "import pandas as pd\n",
    "import xlsxwriter\n",
    "\n",
    "# Create a DataFrame\n",
    "data = {'player':['Barry', 'Hank', 'Babe', 'Alex', 'Wille'],'hr':[762,755,714,696,660]}\n",
    "df = pd.DataFrame(data)\n",
    "\n",
    "# Set Pandas engine to xlsxwriter\n",
    "writer = pd.ExcelWriter('hr.xlsx', engine='xlsxwriter')\n",
    "\n",
    "# Convert the dataframe to an XlsxWriter Excel object.\n",
    "df.to_excel(writer, sheet_name='leaders', index=False)\n",
    "\n",
    "# Get the xsxwriter objects from the dataframe writer object.\n",
    "workbook  = writer.book\n",
    "worksheet = writer.sheets['leaders']\n",
    "\n",
    "workbook.close()"
   ]
  },
  {
   "cell_type": "markdown",
   "metadata": {},
   "source": [
    "# Drill\n",
    "\n",
    "Complete the code scaffolding to format the following:\n",
    "\n",
    "- Format the cells of boroughs with a land area greater than 50 square miles with a green format.\n",
    "- Add a two-grade color scale to the population column.  \n"
   ]
  },
  {
   "cell_type": "code",
   "execution_count": null,
   "metadata": {},
   "outputs": [],
   "source": [
    "import pandas as pd\n",
    "import xlsxwriter\n",
    "\n",
    "# Create a DataFrame of land sizes of NYC boroughs\n",
    "data = {'borough':['The Bronx', 'Brooklyn', 'Manhattan', 'Queens', 'Staten Island'],'land_area':[42.10,70.82,22.83,108.53,58.37],'population':[1418207,2559903,1628706,2253858,476143]}\n",
    "\n",
    "nyc = pd.DataFrame(data)\n",
    "\n",
    "# Set Pandas engine to xlsxwriter\n",
    "writer = pd.ExcelWriter('nyc.xlsx', engine='xlsxwriter')\n",
    "\n",
    "# Convert the dataframe to an XlsxWriter Excel object.\n",
    "nyc.to_excel(writer, sheet_name='Sheet1', index=False)\n",
    "\n",
    "# Get the xlsxwriter objects from the dataframe writer object\n",
    "workbook  = writer.book\n",
    "worksheet = writer.sheets['Sheet1']\n",
    "\n",
    "\n",
    "# Set green fill with dark green text format\n",
    "green_format = workbook.add_format({'bg_color': '#C6EFCE',\n",
    "'font_color': '#006100'})\n",
    "\n",
    "# Format cells of boroughs with land area over 50 sq miles\n",
    "worksheet.conditional_format('B2:B6', {'type': 'cell',\n",
    "'criteria': 'greater than',\n",
    "'value': 50,\n",
    "'format': green_format})\n",
    "\n",
    "# Format two-grade color scale to the population cells\n",
    "worksheet.conditional_format('C2:C6', {'type': '2_color_scale'})\n",
    "\n",
    "# Close the workbook\n",
    "workbook.close()"
   ]
  },
  {
   "cell_type": "markdown",
   "metadata": {},
   "source": [
    "# Drill: \n",
    "\n",
    "Insert a DataFrame and scatterplot in Python. \n",
    "\n",
    "I will fill out the information to complete the scatterplot -- you focus on the `xlsxwriter`-related parts.  "
   ]
  },
  {
   "cell_type": "code",
   "execution_count": null,
   "metadata": {},
   "outputs": [],
   "source": [
    "import pandas as pd\n",
    "import xlsxwriter\n",
    "import matplotlib.pyplot as plt\n",
    "\n",
    "# Create a DataFrame of land sizes of NYC boroughs\n",
    "mpg = pd.read_csv(\"https://raw.githubusercontent.com/plotly/datasets/master/auto-mpg.csv\")\n",
    "\n",
    "# View first rows of data \n",
    "mpg.head()"
   ]
  },
  {
   "cell_type": "code",
   "execution_count": null,
   "metadata": {},
   "outputs": [],
   "source": [
    "# Set Pandas engine to xlsxwriter\n",
    "writer = pd.ExcelWriter('mpg.xlsx', engine='xlsxwriter')\n",
    "\n",
    "# Convert the dataframe to an XlsxWriter Excel object.\n",
    "# Do not display the index when we export\n",
    "# Name the worksheet 'data'.\n",
    "mpg.to_excel(writer, sheet_name='data', index=False)\n",
    "\n",
    "# Get the xlsxwriter objects from the dataframe writer object.\n",
    "workbook  = writer.book\n",
    "worksheet = writer.sheets['data']\n",
    "\n",
    "# Let's freeze the pane of this worksheet while we're at it\n",
    "worksheet.freeze_panes(1,0)\n",
    "\n",
    "# Set column widths\n",
    "worksheet.set_column('A:I',12)\n"
   ]
  },
  {
   "cell_type": "code",
   "execution_count": null,
   "metadata": {},
   "outputs": [],
   "source": [
    "### This code is finished ###\n",
    "# Create a bar chart\n",
    "mpg.plot.scatter(x=\"horsepower\",y=\"mpg\",title=\"Horsepower versus mileage\")\n",
    "\n",
    "\n",
    "# Set x- and y-axis\n",
    "plt.xlabel('Horsepower')\n",
    "plt.ylabel('Mileage (miles per gallon)')\n",
    "\n",
    "\n",
    "# Save the image-- we will need this for later\n",
    "plt.savefig('mpg.png', bbox_inches='tight', dpi = (400))\n",
    "\n",
    "# Show the bar chart in our console\n",
    "plt.show()\n"
   ]
  },
  {
   "cell_type": "code",
   "execution_count": null,
   "metadata": {},
   "outputs": [],
   "source": [
    "# Create a new worksheet called `scatter`\n",
    "worksheet2 = workbook.add_worksheet('scatter')\n",
    "\n",
    "# Add the image `mpg.png` to the workbook\n",
    "worksheet2.insert_image('A1', 'mpg.png')\n",
    "\n",
    "# Close the workbook and admire your creation!\n",
    "workbook.close()"
   ]
  },
  {
   "cell_type": "code",
   "execution_count": null,
   "metadata": {},
   "outputs": [],
   "source": []
  }
 ],
 "metadata": {
  "kernelspec": {
   "display_name": "Python 3",
   "language": "python",
   "name": "python3"
  },
  "language_info": {
   "codemirror_mode": {
    "name": "ipython",
    "version": 3
   },
   "file_extension": ".py",
   "mimetype": "text/x-python",
   "name": "python",
   "nbconvert_exporter": "python",
   "pygments_lexer": "ipython3",
   "version": "3.7.1"
  }
 },
 "nbformat": 4,
 "nbformat_minor": 2
}
