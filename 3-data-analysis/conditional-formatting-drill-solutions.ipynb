{
 "cells": [
  {
   "cell_type": "markdown",
   "metadata": {},
   "source": [
    "Below is a DataFrame consisting of the Chicago-area alumni population of Big Ten schools:"
   ]
  },
  {
   "cell_type": "code",
   "execution_count": 23,
   "metadata": {},
   "outputs": [
    {
     "output_type": "execute_result",
     "data": {
      "text/plain": "         school school_state  alumni\n0      Illinois           IL   77873\n1  Northwestern           IL   37326\n2        Purdue           IN   24395\n3       Indiana           IN   22060\n4     Wisconsin           WI   17669",
      "text/html": "<div>\n<style scoped>\n    .dataframe tbody tr th:only-of-type {\n        vertical-align: middle;\n    }\n\n    .dataframe tbody tr th {\n        vertical-align: top;\n    }\n\n    .dataframe thead th {\n        text-align: right;\n    }\n</style>\n<table border=\"1\" class=\"dataframe\">\n  <thead>\n    <tr style=\"text-align: right;\">\n      <th></th>\n      <th>school</th>\n      <th>school_state</th>\n      <th>alumni</th>\n    </tr>\n  </thead>\n  <tbody>\n    <tr>\n      <td>0</td>\n      <td>Illinois</td>\n      <td>IL</td>\n      <td>77873</td>\n    </tr>\n    <tr>\n      <td>1</td>\n      <td>Northwestern</td>\n      <td>IL</td>\n      <td>37326</td>\n    </tr>\n    <tr>\n      <td>2</td>\n      <td>Purdue</td>\n      <td>IN</td>\n      <td>24395</td>\n    </tr>\n    <tr>\n      <td>3</td>\n      <td>Indiana</td>\n      <td>IN</td>\n      <td>22060</td>\n    </tr>\n    <tr>\n      <td>4</td>\n      <td>Wisconsin</td>\n      <td>WI</td>\n      <td>17669</td>\n    </tr>\n  </tbody>\n</table>\n</div>"
     },
     "metadata": {},
     "execution_count": 23
    }
   ],
   "source": [
    "import pandas as pd\n",
    "\n",
    "df = pd.read_csv(\"https://raw.githubusercontent.com/summerofgeorge/training-assets/master/chicago_big_ten_alumni.csv\")\n",
    "df.head()"
   ]
  },
  {
   "cell_type": "markdown",
   "metadata": {},
   "source": [
    "Fill in the below code to apply the following conditional formatting from Python: \n",
    "\n",
    "1. Bold the rows of schools that are located in Illinois.\n",
    "2. Apply a data bar to the `alumni` column."
   ]
  },
  {
   "cell_type": "code",
   "execution_count": 24,
   "metadata": {},
   "outputs": [],
   "source": [
    "# Set Pandas engine to xlsxwriter\n",
    "writer = pd.ExcelWriter('chicago-alumni.xlsx', engine='xlsxwriter')\n",
    "\n",
    "# Convert the dataframe to an XlsxWriter Excel object.\n",
    "df.to_excel(writer, sheet_name='Sheet1', index=False)\n",
    "\n",
    "# Get the xsxwriter objects from the dataframe writer object.\n",
    "workbook  = writer.book\n",
    "worksheet = writer.sheets['Sheet1']\n",
    "\n",
    "# Add data bars\n",
    "# We will change the color this time\n",
    "worksheet.conditional_format('C2:C13', {'type': 'data_bar',\n",
    "'bar_color': '#FCA426'})\n",
    "\n",
    "# Add a bold format to format the row with\n",
    "bold = workbook.add_format({'bold': True})\n",
    "\n",
    "# This time we will use a formula to\n",
    "# conditionally format an entire row\n",
    "worksheet.conditional_format('A2:C13', {'type': 'formula',\n",
    "                                          'criteria': '=$B2=\"IL\"',\n",
    "                                          'format': bold})\n",
    "\n",
    "# Widen Column A\n",
    "worksheet.set_column('A:B',12)\n",
    "\n",
    "# Let's close the workbook and admire!\n",
    "\n",
    "workbook.close()"
   ]
  },
  {
   "cell_type": "code",
   "execution_count": 27,
   "metadata": {},
   "outputs": [],
   "source": []
  },
  {
   "cell_type": "code",
   "execution_count": null,
   "metadata": {},
   "outputs": [],
   "source": []
  }
 ],
 "metadata": {
  "language_info": {
   "codemirror_mode": {
    "name": "ipython",
    "version": 3
   },
   "file_extension": ".py",
   "mimetype": "text/x-python",
   "name": "python",
   "nbconvert_exporter": "python",
   "pygments_lexer": "ipython3",
   "version": "3.7.4-final"
  },
  "orig_nbformat": 2,
  "kernelspec": {
   "name": "python3",
   "display_name": "Python 3"
  }
 },
 "nbformat": 4,
 "nbformat_minor": 2
}