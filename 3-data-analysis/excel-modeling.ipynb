{
 "cells": [
  {
   "cell_type": "markdown",
   "metadata": {},
   "source": [
    "One of the best things about Excel is its ability for end users to engage and interact with the data. However we as dsasdfasd may not want to do it.\n",
    "\n",
    "Let's build a little model. \n",
    "\n",
    "- We will put our data in a sheet\n",
    "- We will add a little analysis\n",
    "- We will pre-filter out some of the data\n",
    "- We don't want people to be able to manipulate the source data but they can change the filters."
   ]
  },
  {
   "cell_type": "code",
   "execution_count": 8,
   "metadata": {},
   "outputs": [],
   "source": [
    "import pandas as pd\n",
    "import xlsxwriter\n",
    "\n",
    "# Create a DataFrame of land sizes of NYC boroughs\n",
    "df = pd.read_excel(\"https://github.com/summerofgeorge/training-assets/raw/master/housing.xlsx\")\n",
    "\n",
    "# Set Pandas engine to xlsxwriter\n",
    "writer = pd.ExcelWriter('housing-report.xlsx', engine='xlsxwriter')\n",
    "\n",
    "# Convert the dataframe to an XlsxWriter Excel object.\n",
    "df.to_excel(writer, sheet_name='data', index=False)\n",
    "\n",
    "# Get the xsxwriter objects from the dataframe writer object.\n",
    "workbook  = writer.book\n",
    "worksheet = writer.sheets['data']\n",
    "\n",
    "# Don't close yet; we're not done!"
   ]
  },
  {
   "cell_type": "code",
   "execution_count": 7,
   "metadata": {},
   "outputs": [
    {
     "output_type": "execute_result",
     "data": {
      "text/plain": "'A13'"
     },
     "metadata": {},
     "execution_count": 7
    }
   ],
   "source": [
    "# It would be great to write a function to do this for you \n",
    "\n",
    "#'A'+str(df.shape[1])"
   ]
  },
  {
   "cell_type": "markdown",
   "metadata": {},
   "source": [
    "### Adding a table\n",
    "\n",
    "This has a lot of benefits to it. "
   ]
  },
  {
   "cell_type": "code",
   "execution_count": null,
   "metadata": {},
   "outputs": [],
   "source": [
    "# Add a table -- \n",
    "# We will name the table and each of the columns\n",
    "#worksheet.add_table('A1:C10', {'name':'Grades',\n",
    "  #                              'columns':[{'header':'Student ID'},\n",
    " #                                           {'header':'Student name'},\n",
    "   #                                         {'header':'Grade'}]})"
   ]
  },
  {
   "cell_type": "markdown",
   "metadata": {},
   "source": [
    "### Adding AutoFilter\n",
    "\n",
    "We would always like to set the `prefarea` to `yes`. \n",
    "\n",
    "First we will add the autofilter with the desired range with the `autofilter()` method.\n"
   ]
  },
  {
   "cell_type": "code",
   "execution_count": 14,
   "metadata": {},
   "outputs": [],
   "source": [
    "worksheet.autofilter('A1:M547')"
   ]
  },
  {
   "cell_type": "markdown",
   "metadata": {},
   "source": [
    "We can now filter any specific columns by position with the `filter_column()` method.    "
   ]
  },
  {
   "cell_type": "code",
   "execution_count": 15,
   "metadata": {},
   "outputs": [],
   "source": [
    "# Find how to get the position of a dataframe by name\n",
    "worksheet.filter_column('L', 'prefarea == yes')"
   ]
  },
  {
   "cell_type": "markdown",
   "metadata": {},
   "source": [
    "We would like to protect the `data` worksheet so that no changes could be made to it. \n",
    "\n",
    "We can use the `protect()` method. \n",
    "\n",
    "But still let users apply the AutoFilter.\n",
    "\n",
    "To see the all the options for worksheet proection, check out Chapter 7 of the [`xlsxwriter` documentation](https://github.com/jmcnamara/XlsxWriter/blob/master/docs/XlsxWriter.pdf)."
   ]
  },
  {
   "cell_type": "code",
   "execution_count": null,
   "metadata": {},
   "outputs": [],
   "source": [
    "# Protect the worksheet but allow autofiltering\n",
    "worksheet.protect('data', {'autofilter': True})"
   ]
  },
  {
   "cell_type": "markdown",
   "metadata": {},
   "source": [
    "### Add the summary worksheet\n",
    "\n",
    "Of course this a pretty miniscule one. \n",
    "\n",
    "We do need to make sure we add a new worksheet. "
   ]
  },
  {
   "cell_type": "code",
   "execution_count": 18,
   "metadata": {},
   "outputs": [
    {
     "output_type": "execute_result",
     "data": {
      "text/plain": "0"
     },
     "metadata": {},
     "execution_count": 18
    }
   ],
   "source": [
    "worksheet2 = workbook.add_worksheet()\n",
    "\n",
    "worksheet2.write_formula('A1','=SUM(data!A2:A547)')"
   ]
  },
  {
   "cell_type": "markdown",
   "metadata": {},
   "source": [
    "🥱 That was a lot of work! Let's close and admire. "
   ]
  },
  {
   "cell_type": "code",
   "execution_count": 19,
   "metadata": {},
   "outputs": [],
   "source": [
    "workbook.close()"
   ]
  },
  {
   "cell_type": "markdown",
   "metadata": {},
   "source": [
    "### Protecting cells and ranges\n",
    "\n",
    "If we only wanted to "
   ]
  },
  {
   "cell_type": "code",
   "execution_count": 19,
   "metadata": {},
   "outputs": [
    {
     "output_type": "execute_result",
     "data": {
      "text/plain": "0"
     },
     "metadata": {},
     "execution_count": 19
    }
   ],
   "source": [
    "import xlsxwriter\n",
    "regions = ['C','B','B','B','C','A','C','B','B','C']\n",
    "sales = [201,293,431,111,241,321,311,187,400,354]\n",
    "labels = ['region','sale']\n",
    "\n",
    "workbook = xlsxwriter.Workbook('locked.xlsx')\n",
    "worksheet = workbook.add_worksheet()\n",
    "\n",
    "worksheet.write_column('A2',regions)\n",
    "worksheet.write_column('B2',sales)\n",
    "worksheet.write_row('A1',labels)\n",
    "\n"
   ]
  },
  {
   "cell_type": "markdown",
   "metadata": {},
   "source": [
    "Let's add our stuff. \n",
    "\n",
    "We will protect the worksheet. And any cells that we add wil by default not be allowed to change. \n",
    "\n",
    "But if we set them to unlocked, we can. "
   ]
  },
  {
   "cell_type": "code",
   "execution_count": 20,
   "metadata": {},
   "outputs": [
    {
     "output_type": "execute_result",
     "data": {
      "text/plain": "0"
     },
     "metadata": {},
     "execution_count": 20
    }
   ],
   "source": [
    "worksheet.protect()\n",
    "\n",
    "# Add an unlocked format\n",
    "unlocked = workbook.add_format({'locked':False})\n",
    "\n",
    "worksheet.write('D1','Select region')\n",
    "\n",
    "# Add a placeholder here -- this is where user will\n",
    "# interact with workbook -- unlock it!\n",
    "worksheet.write('D2','A',unlocked)\n",
    "\n",
    "worksheet.write_formula('E2','=SUMIF(B2:B11,D2)')"
   ]
  },
  {
   "cell_type": "code",
   "execution_count": 21,
   "metadata": {},
   "outputs": [],
   "source": [
    "workbook.close()"
   ]
  },
  {
   "cell_type": "markdown",
   "metadata": {},
   "source": [
    "We could take this to the next level with a drop-down. That is part of *data validation*. To learn more about data validation in `xlsxwriter`, check out Chapter 21. "
   ]
  }
 ],
 "metadata": {
  "language_info": {
   "codemirror_mode": {
    "name": "ipython",
    "version": 3
   },
   "file_extension": ".py",
   "mimetype": "text/x-python",
   "name": "python",
   "nbconvert_exporter": "python",
   "pygments_lexer": "ipython3",
   "version": "3.8.3-final"
  },
  "orig_nbformat": 2,
  "kernelspec": {
   "name": "python3",
   "display_name": "Python 3"
  }
 },
 "nbformat": 4,
 "nbformat_minor": 2
}