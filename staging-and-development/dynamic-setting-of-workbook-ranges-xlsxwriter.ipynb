{
 "cells": [
  {
   "cell_type": "code",
   "execution_count": 12,
   "id": "animal-nightmare",
   "metadata": {},
   "outputs": [
    {
     "data": {
      "text/html": [
       "<div>\n",
       "<style scoped>\n",
       "    .dataframe tbody tr th:only-of-type {\n",
       "        vertical-align: middle;\n",
       "    }\n",
       "\n",
       "    .dataframe tbody tr th {\n",
       "        vertical-align: top;\n",
       "    }\n",
       "\n",
       "    .dataframe thead th {\n",
       "        text-align: right;\n",
       "    }\n",
       "</style>\n",
       "<table border=\"1\" class=\"dataframe\">\n",
       "  <thead>\n",
       "    <tr style=\"text-align: right;\">\n",
       "      <th></th>\n",
       "      <th>city</th>\n",
       "      <th>population</th>\n",
       "      <th>pop_change</th>\n",
       "      <th>land_area</th>\n",
       "    </tr>\n",
       "  </thead>\n",
       "  <tbody>\n",
       "    <tr>\n",
       "      <th>0</th>\n",
       "      <td>New York</td>\n",
       "      <td>8336817</td>\n",
       "      <td>0.0198</td>\n",
       "      <td>301.5</td>\n",
       "    </tr>\n",
       "    <tr>\n",
       "      <th>1</th>\n",
       "      <td>Los Angeles</td>\n",
       "      <td>3979576</td>\n",
       "      <td>0.0493</td>\n",
       "      <td>468.7</td>\n",
       "    </tr>\n",
       "    <tr>\n",
       "      <th>2</th>\n",
       "      <td>Chicago</td>\n",
       "      <td>2693976</td>\n",
       "      <td>-0.0006</td>\n",
       "      <td>227.3</td>\n",
       "    </tr>\n",
       "    <tr>\n",
       "      <th>3</th>\n",
       "      <td>Houston</td>\n",
       "      <td>2320268</td>\n",
       "      <td>0.1048</td>\n",
       "      <td>637.5</td>\n",
       "    </tr>\n",
       "    <tr>\n",
       "      <th>4</th>\n",
       "      <td>Phoenix</td>\n",
       "      <td>1680992</td>\n",
       "      <td>0.1628</td>\n",
       "      <td>517.6</td>\n",
       "    </tr>\n",
       "  </tbody>\n",
       "</table>\n",
       "</div>"
      ],
      "text/plain": [
       "          city  population  pop_change  land_area\n",
       "0     New York     8336817      0.0198      301.5\n",
       "1  Los Angeles     3979576      0.0493      468.7\n",
       "2      Chicago     2693976     -0.0006      227.3\n",
       "3      Houston     2320268      0.1048      637.5\n",
       "4      Phoenix     1680992      0.1628      517.6"
      ]
     },
     "execution_count": 12,
     "metadata": {},
     "output_type": "execute_result"
    }
   ],
   "source": [
    "import pandas as pd \n",
    "import xlsxwriter\n",
    "\n",
    "# pandas can read in data from most any source\n",
    "cities = pd.read_csv(\"https://raw.githubusercontent.com/summerofgeorge/training-assets/master/datasets/largest-us-cities.csv\")\n",
    "\n",
    "# Convert our population field to be numeric\n",
    "cities['population'] = pd.to_numeric(cities['population'], errors='coerce')\n",
    "\n",
    "# Print the first few rows\n",
    "cities.head()"
   ]
  },
  {
   "cell_type": "code",
   "execution_count": 13,
   "id": "exotic-edwards",
   "metadata": {},
   "outputs": [
    {
     "data": {
      "text/html": [
       "<div>\n",
       "<style scoped>\n",
       "    .dataframe tbody tr th:only-of-type {\n",
       "        vertical-align: middle;\n",
       "    }\n",
       "\n",
       "    .dataframe tbody tr th {\n",
       "        vertical-align: top;\n",
       "    }\n",
       "\n",
       "    .dataframe thead th {\n",
       "        text-align: right;\n",
       "    }\n",
       "</style>\n",
       "<table border=\"1\" class=\"dataframe\">\n",
       "  <thead>\n",
       "    <tr style=\"text-align: right;\">\n",
       "      <th></th>\n",
       "      <th>city</th>\n",
       "      <th>population</th>\n",
       "      <th>pop_change</th>\n",
       "      <th>land_area</th>\n",
       "      <th>density</th>\n",
       "    </tr>\n",
       "  </thead>\n",
       "  <tbody>\n",
       "    <tr>\n",
       "      <th>0</th>\n",
       "      <td>New York</td>\n",
       "      <td>8336817</td>\n",
       "      <td>0.0198</td>\n",
       "      <td>301.5</td>\n",
       "      <td>27651.134328</td>\n",
       "    </tr>\n",
       "    <tr>\n",
       "      <th>1</th>\n",
       "      <td>Los Angeles</td>\n",
       "      <td>3979576</td>\n",
       "      <td>0.0493</td>\n",
       "      <td>468.7</td>\n",
       "      <td>8490.667805</td>\n",
       "    </tr>\n",
       "    <tr>\n",
       "      <th>2</th>\n",
       "      <td>Chicago</td>\n",
       "      <td>2693976</td>\n",
       "      <td>-0.0006</td>\n",
       "      <td>227.3</td>\n",
       "      <td>11852.072151</td>\n",
       "    </tr>\n",
       "    <tr>\n",
       "      <th>3</th>\n",
       "      <td>Houston</td>\n",
       "      <td>2320268</td>\n",
       "      <td>0.1048</td>\n",
       "      <td>637.5</td>\n",
       "      <td>3639.636078</td>\n",
       "    </tr>\n",
       "    <tr>\n",
       "      <th>4</th>\n",
       "      <td>Phoenix</td>\n",
       "      <td>1680992</td>\n",
       "      <td>0.1628</td>\n",
       "      <td>517.6</td>\n",
       "      <td>3247.666151</td>\n",
       "    </tr>\n",
       "  </tbody>\n",
       "</table>\n",
       "</div>"
      ],
      "text/plain": [
       "          city  population  pop_change  land_area       density\n",
       "0     New York     8336817      0.0198      301.5  27651.134328\n",
       "1  Los Angeles     3979576      0.0493      468.7   8490.667805\n",
       "2      Chicago     2693976     -0.0006      227.3  11852.072151\n",
       "3      Houston     2320268      0.1048      637.5   3639.636078\n",
       "4      Phoenix     1680992      0.1628      517.6   3247.666151"
      ]
     },
     "execution_count": 13,
     "metadata": {},
     "output_type": "execute_result"
    }
   ],
   "source": [
    "# Create population density column in our cities DataFrame\n",
    "\n",
    "cities['density'] = cities['population']/cities['land_area']\n",
    "\n",
    "# Check out our new column\n",
    "cities.head()"
   ]
  },
  {
   "cell_type": "markdown",
   "id": "convertible-wells",
   "metadata": {},
   "source": [
    "## Set columns\n",
    "### You can hardcode your references..."
   ]
  },
  {
   "cell_type": "code",
   "execution_count": 14,
   "id": "compliant-presentation",
   "metadata": {},
   "outputs": [],
   "source": [
    "# Set Pandas engine to xlsxwriter\n",
    "writer = pd.ExcelWriter('us-cities.xlsx', engine='xlsxwriter')\n",
    "\n",
    "# Convert the dataframe to an XlsxWriter Excel object.\n",
    "cities.to_excel(writer, sheet_name='Sheet1', index=False)\n",
    "\n",
    "# Get the xlsxwriter objects from the DataFrame writer object.\n",
    "workbook  = writer.book\n",
    "worksheet = writer.sheets['Sheet1']\n",
    "\n",
    "# Set up cell formatting \n",
    "thousands_format = workbook.add_format({'num_format':'#,##0'})\n",
    "pct_format = workbook.add_format({'num_format':'0.00%'})\n",
    "\n",
    "# Format our columns -- we will also set the column width here\n",
    "#worksheet.set_column('A:A', 12)\n",
    "#worksheet.set_column('B:B', 10, thousands_format)\n",
    "#worksheet.set_column('C:C', 10, pct_format)\n",
    "#worksheet.set_column('D:E', 10, thousands_format)"
   ]
  },
  {
   "cell_type": "markdown",
   "id": "irish-nutrition",
   "metadata": {},
   "source": [
    "## Or set them by the following notation:\n",
    "\n",
    "\n",
    "`set_column(first_col, last_col, width, cell_format, options)`"
   ]
  },
  {
   "cell_type": "code",
   "execution_count": 15,
   "id": "characteristic-creativity",
   "metadata": {},
   "outputs": [],
   "source": [
    "city_col = cities.columns.get_loc('city')\n"
   ]
  },
  {
   "cell_type": "code",
   "execution_count": 16,
   "id": "fixed-currency",
   "metadata": {},
   "outputs": [
    {
     "data": {
      "text/plain": [
       "0"
      ]
     },
     "execution_count": 16,
     "metadata": {},
     "output_type": "execute_result"
    }
   ],
   "source": [
    "pop_col = cities.columns.get_loc('population')\n",
    "worksheet.set_column(pop_col, pop_col, 10, thousands_format)\n"
   ]
  },
  {
   "cell_type": "code",
   "execution_count": 17,
   "id": "functioning-amsterdam",
   "metadata": {},
   "outputs": [],
   "source": [
    "workbook.close()"
   ]
  },
  {
   "cell_type": "code",
   "execution_count": null,
   "id": "beneficial-profile",
   "metadata": {},
   "outputs": [],
   "source": []
  }
 ],
 "metadata": {
  "kernelspec": {
   "display_name": "Python 3",
   "language": "python",
   "name": "python3"
  },
  "language_info": {
   "codemirror_mode": {
    "name": "ipython",
    "version": 3
   },
   "file_extension": ".py",
   "mimetype": "text/x-python",
   "name": "python",
   "nbconvert_exporter": "python",
   "pygments_lexer": "ipython3",
   "version": "3.7.9"
  }
 },
 "nbformat": 4,
 "nbformat_minor": 5
}
