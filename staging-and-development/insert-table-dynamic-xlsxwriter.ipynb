{
 "cells": [
  {
   "cell_type": "code",
   "execution_count": 7,
   "id": "improving-ferry",
   "metadata": {},
   "outputs": [
    {
     "data": {
      "text/html": [
       "<div>\n",
       "<style scoped>\n",
       "    .dataframe tbody tr th:only-of-type {\n",
       "        vertical-align: middle;\n",
       "    }\n",
       "\n",
       "    .dataframe tbody tr th {\n",
       "        vertical-align: top;\n",
       "    }\n",
       "\n",
       "    .dataframe thead th {\n",
       "        text-align: right;\n",
       "    }\n",
       "</style>\n",
       "<table border=\"1\" class=\"dataframe\">\n",
       "  <thead>\n",
       "    <tr style=\"text-align: right;\">\n",
       "      <th></th>\n",
       "      <th>borough</th>\n",
       "      <th>land_area</th>\n",
       "    </tr>\n",
       "  </thead>\n",
       "  <tbody>\n",
       "    <tr>\n",
       "      <th>0</th>\n",
       "      <td>The Bronx</td>\n",
       "      <td>42.10</td>\n",
       "    </tr>\n",
       "    <tr>\n",
       "      <th>1</th>\n",
       "      <td>Brooklyn</td>\n",
       "      <td>70.82</td>\n",
       "    </tr>\n",
       "    <tr>\n",
       "      <th>2</th>\n",
       "      <td>Manhattan</td>\n",
       "      <td>22.83</td>\n",
       "    </tr>\n",
       "    <tr>\n",
       "      <th>3</th>\n",
       "      <td>Queens</td>\n",
       "      <td>108.53</td>\n",
       "    </tr>\n",
       "    <tr>\n",
       "      <th>4</th>\n",
       "      <td>Staten Island</td>\n",
       "      <td>58.37</td>\n",
       "    </tr>\n",
       "  </tbody>\n",
       "</table>\n",
       "</div>"
      ],
      "text/plain": [
       "         borough  land_area\n",
       "0      The Bronx      42.10\n",
       "1       Brooklyn      70.82\n",
       "2      Manhattan      22.83\n",
       "3         Queens     108.53\n",
       "4  Staten Island      58.37"
      ]
     },
     "execution_count": 7,
     "metadata": {},
     "output_type": "execute_result"
    }
   ],
   "source": [
    "import pandas as pd\n",
    "import xlsxwriter\n",
    "\n",
    "# Create a DataFrame of land sizes of NYC boroughs\n",
    "data = {'borough':['The Bronx', 'Brooklyn', 'Manhattan', 'Queens', 'Staten Island'],\n",
    "        'land_area':[42.10, 70.82, 22.83, 108.53, 58.37]}\n",
    "\n",
    "df = pd.DataFrame(data)\n",
    "\n",
    "# Doesn't this look familiar?\n",
    "df\n"
   ]
  },
  {
   "cell_type": "code",
   "execution_count": 8,
   "id": "accepting-category",
   "metadata": {},
   "outputs": [],
   "source": [
    "# Write data to Excel\n",
    "\n",
    "# Set Pandas engine to xlsxwriter\n",
    "writer = pd.ExcelWriter('table-test.xlsx', engine='xlsxwriter')\n",
    "\n",
    "# Convert the dataframe to an XlsxWriter Excel object.\n",
    "df.to_excel(writer, sheet_name='Sheet1', index=False)\n",
    "\n",
    "# Get the xlsxwriter objects from the DataFrame writer object.\n",
    "workbook  = writer.book\n",
    "worksheet = writer.sheets['Sheet1']"
   ]
  },
  {
   "cell_type": "code",
   "execution_count": 9,
   "id": "roman-grain",
   "metadata": {},
   "outputs": [
    {
     "data": {
      "text/plain": [
       "5"
      ]
     },
     "execution_count": 9,
     "metadata": {},
     "output_type": "execute_result"
    }
   ],
   "source": [
    "df.shape[0]"
   ]
  },
  {
   "cell_type": "code",
   "execution_count": 10,
   "id": "deadly-murder",
   "metadata": {},
   "outputs": [
    {
     "data": {
      "text/plain": [
       "{'show_first_col': False,\n",
       " 'show_last_col': False,\n",
       " 'show_row_stripes': True,\n",
       " 'show_col_stripes': False,\n",
       " 'header_row_count': True,\n",
       " 'totals_row_shown': False,\n",
       " 'style': 'TableStyleMedium9',\n",
       " 'range': 'A1:B6',\n",
       " 'a_range': 'A1:B6',\n",
       " 'autofilter': 'A1:B6',\n",
       " 'columns': [{'id': 1,\n",
       "   'name': 'Column1',\n",
       "   'total_string': '',\n",
       "   'total_function': '',\n",
       "   'total_value': 0,\n",
       "   'formula': '',\n",
       "   'format': None,\n",
       "   'name_format': None},\n",
       "  {'id': 2,\n",
       "   'name': 'Column2',\n",
       "   'total_string': '',\n",
       "   'total_function': '',\n",
       "   'total_value': 0,\n",
       "   'formula': '',\n",
       "   'format': None,\n",
       "   'name_format': None}]}"
      ]
     },
     "execution_count": 10,
     "metadata": {},
     "output_type": "execute_result"
    }
   ],
   "source": [
    "# Add a table -- \n",
    "# We will name the table and each of the columns\n",
    "worksheet.add_table(0, 0, df.shape[0], (df.shape[1]-1))\n"
   ]
  },
  {
   "cell_type": "code",
   "execution_count": 11,
   "id": "weekly-scheduling",
   "metadata": {},
   "outputs": [],
   "source": [
    "workbook.close()"
   ]
  },
  {
   "cell_type": "code",
   "execution_count": 12,
   "id": "ahead-charge",
   "metadata": {},
   "outputs": [],
   "source": [
    "# https://xlsxwriter.readthedocs.io/example_pandas_table.html \n",
    "##############################################################################\n",
    "#\n",
    "# An example of adding a dataframe to an worksheet table in an xlsx file\n",
    "# using Pandas and XlsxWriter.\n",
    "#\n",
    "# Tables in Excel are used to group rows and columns of data into a single\n",
    "# structure that can be referenced in a formula or formatted collectively.\n",
    "#\n",
    "# Copyright 2013-2021, John McNamara, jmcnamara@cpan.org\n",
    "#\n",
    "\n",
    "import pandas as pd\n",
    "\n",
    "# Create a Pandas dataframe from some data.\n",
    "df = pd.DataFrame({\n",
    "    'Country':    ['China',    'India',    'United States', 'Indonesia'],\n",
    "    'Population': [1404338840, 1366938189, 330267887,       269603400],\n",
    "    'Rank':       [1,          2,          3,               4]})\n",
    "\n",
    "# Order the columns if necessary.\n",
    "df = df[['Rank', 'Country', 'Population']]\n",
    "\n",
    "# Create a Pandas Excel writer using XlsxWriter as the engine.\n",
    "writer = pd.ExcelWriter('pandas_table.xlsx', engine='xlsxwriter')\n",
    "\n",
    "# Write the dataframe data to XlsxWriter. Turn off the default header and\n",
    "# index and skip one row to allow us to insert a user defined header.\n",
    "df.to_excel(writer, sheet_name='Sheet1', startrow=1, header=False, index=False)\n",
    "\n",
    "# Get the xlsxwriter workbook and worksheet objects.\n",
    "workbook = writer.book\n",
    "worksheet = writer.sheets['Sheet1']\n",
    "\n",
    "# Get the dimensions of the dataframe.\n",
    "(max_row, max_col) = df.shape\n",
    "\n",
    "# Create a list of column headers, to use in add_table().\n",
    "column_settings = [{'header': column} for column in df.columns]\n",
    "\n",
    "# Add the Excel table structure. Pandas will add the data.\n",
    "worksheet.add_table(0, 0, max_row, max_col - 1, {'columns': column_settings})\n",
    "\n",
    "# Make the columns wider for clarity.\n",
    "worksheet.set_column(0, max_col - 1, 12)\n",
    "\n",
    "# Close the Pandas Excel writer and output the Excel file.\n",
    "writer.save()"
   ]
  },
  {
   "cell_type": "code",
   "execution_count": null,
   "id": "european-prevention",
   "metadata": {},
   "outputs": [],
   "source": []
  }
 ],
 "metadata": {
  "kernelspec": {
   "display_name": "Python 3",
   "language": "python",
   "name": "python3"
  },
  "language_info": {
   "codemirror_mode": {
    "name": "ipython",
    "version": 3
   },
   "file_extension": ".py",
   "mimetype": "text/x-python",
   "name": "python",
   "nbconvert_exporter": "python",
   "pygments_lexer": "ipython3",
   "version": "3.7.9"
  }
 },
 "nbformat": 4,
 "nbformat_minor": 5
}
