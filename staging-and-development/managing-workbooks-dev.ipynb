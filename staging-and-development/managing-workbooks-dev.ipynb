{
 "cells": [
  {
   "cell_type": "code",
   "execution_count": 2,
   "id": "formed-prompt",
   "metadata": {},
   "outputs": [
    {
     "data": {
      "text/plain": [
       "0"
      ]
     },
     "execution_count": 2,
     "metadata": {},
     "output_type": "execute_result"
    }
   ],
   "source": [
    "# Let's get this party started!\n",
    "\n",
    "import xlsxwriter\n",
    "\n",
    "student_ids = [253628, 522436, 325718,\n",
    "662367, 382846, 230780,\n",
    "407321, 732252, 134886]\n",
    "\n",
    "students = ['Gina', 'Charline', 'Robby',\n",
    "'Adelle',' Melodee', 'Alexis',\n",
    "'Magdalena', 'Diann', 'Carline']\n",
    "\n",
    "grades = [.87, 1.0, .81,\n",
    ".77, .88, .95,\n",
    ".81, .87, .98]\n",
    "\n",
    "\n",
    "# Write our workbook\n",
    "workbook = xlsxwriter.Workbook('grades.xlsx')\n",
    "\n",
    "# Add our worksheet\n",
    "worksheet_name = 'grades'\n",
    "worksheet = workbook.add_worksheet(worksheet_name)\n",
    "\n",
    "# Add our data\n",
    "worksheet.write_column('A2', student_ids)\n",
    "worksheet.write_column('B2', students)\n",
    "worksheet.write_column('C2', grades)\n"
   ]
  },
  {
   "cell_type": "code",
   "execution_count": null,
   "id": "removable-inclusion",
   "metadata": {},
   "outputs": [],
   "source": []
  },
  {
   "cell_type": "code",
   "execution_count": null,
   "id": "limiting-sigma",
   "metadata": {},
   "outputs": [],
   "source": [
    "# Add a table -- \n",
    "# We will name the table and each of the columns\n",
    "worksheet.add_table('A1:C10', {'name':'Grades',\n",
    "                                'columns':[{'header':'Student ID'},\n",
    "                                            {'header':'Student name'},\n",
    "                                            {'header':'Grade'}]})\n",
    "\n"
   ]
  },
  {
   "cell_type": "markdown",
   "id": "forced-guatemala",
   "metadata": {},
   "source": [
    "We can also, however, achieve this with\n",
    "\n",
    "`first_row, first_col, last_row, last_col`\n",
    "\n",
    "So we can use:\n"
   ]
  },
  {
   "cell_type": "code",
   "execution_count": null,
   "id": "commercial-martin",
   "metadata": {},
   "outputs": [],
   "source": [
    "# Add a table -- \n",
    "# We will name the table and each of the columns\n",
    "worksheet.add_table(0, 0, ,\n",
    "                    {'name':'Grades',\n",
    "                                'columns':[{'header':'Student ID'},\n",
    "                                            {'header':'Student name'},\n",
    "                                            {'header':'Grade'}]})\n"
   ]
  }
 ],
 "metadata": {
  "kernelspec": {
   "display_name": "Python 3",
   "language": "python",
   "name": "python3"
  },
  "language_info": {
   "codemirror_mode": {
    "name": "ipython",
    "version": 3
   },
   "file_extension": ".py",
   "mimetype": "text/x-python",
   "name": "python",
   "nbconvert_exporter": "python",
   "pygments_lexer": "ipython3",
   "version": "3.7.9"
  }
 },
 "nbformat": 4,
 "nbformat_minor": 5
}
